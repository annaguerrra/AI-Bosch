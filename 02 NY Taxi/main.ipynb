{
 "cells": [
  {
   "cell_type": "code",
   "execution_count": null,
   "id": "57c4f1f7",
   "metadata": {},
   "outputs": [],
   "source": [
    "import pandas as pd\n",
    "import numpy as np\n",
    "import os\n",
    "import matplotlib.pyplot as plt\n",
    "\n",
    "df = pd.read_parquet(\"S:/COM/Human_Resources/01.Engineering_Tech_School/02.Internal/5 - Aprendizes/2 - Desenvolvimento de Sistemas/6 - Soluções Digitais 2025/Anna Guerra/IA/AI-Bosch/02 NY Taxi/yellow_tripdata_2025-07.parquet\")"
   ]
  },
  {
   "cell_type": "code",
   "execution_count": 2,
   "id": "8e74bb21",
   "metadata": {},
   "outputs": [
    {
     "data": {
      "text/plain": [
       "Index(['VendorID', 'tpep_pickup_datetime', 'tpep_dropoff_datetime',\n",
       "       'passenger_count', 'trip_distance', 'RatecodeID', 'store_and_fwd_flag',\n",
       "       'PULocationID', 'DOLocationID', 'payment_type', 'fare_amount', 'extra',\n",
       "       'mta_tax', 'tip_amount', 'tolls_amount', 'improvement_surcharge',\n",
       "       'total_amount', 'congestion_surcharge', 'Airport_fee',\n",
       "       'cbd_congestion_fee'],\n",
       "      dtype='object')"
      ]
     },
     "execution_count": 2,
     "metadata": {},
     "output_type": "execute_result"
    }
   ],
   "source": [
    "df.columns"
   ]
  },
  {
   "cell_type": "code",
   "execution_count": 3,
   "id": "623ce8f5",
   "metadata": {},
   "outputs": [
    {
     "data": {
      "text/html": [
       "<div>\n",
       "<style scoped>\n",
       "    .dataframe tbody tr th:only-of-type {\n",
       "        vertical-align: middle;\n",
       "    }\n",
       "\n",
       "    .dataframe tbody tr th {\n",
       "        vertical-align: top;\n",
       "    }\n",
       "\n",
       "    .dataframe thead th {\n",
       "        text-align: right;\n",
       "    }\n",
       "</style>\n",
       "<table border=\"1\" class=\"dataframe\">\n",
       "  <thead>\n",
       "    <tr style=\"text-align: right;\">\n",
       "      <th></th>\n",
       "      <th>VendorID</th>\n",
       "      <th>tpep_pickup_datetime</th>\n",
       "      <th>tpep_dropoff_datetime</th>\n",
       "      <th>passenger_count</th>\n",
       "      <th>trip_distance</th>\n",
       "      <th>RatecodeID</th>\n",
       "      <th>store_and_fwd_flag</th>\n",
       "      <th>PULocationID</th>\n",
       "      <th>DOLocationID</th>\n",
       "      <th>payment_type</th>\n",
       "      <th>extra</th>\n",
       "      <th>mta_tax</th>\n",
       "      <th>tip_amount</th>\n",
       "      <th>tolls_amount</th>\n",
       "      <th>total_amount</th>\n",
       "    </tr>\n",
       "  </thead>\n",
       "  <tbody>\n",
       "    <tr>\n",
       "      <th>0</th>\n",
       "      <td>1</td>\n",
       "      <td>2025-07-01 00:29:37</td>\n",
       "      <td>2025-07-01 00:45:30</td>\n",
       "      <td>1.0</td>\n",
       "      <td>7.30</td>\n",
       "      <td>1.0</td>\n",
       "      <td>N</td>\n",
       "      <td>138</td>\n",
       "      <td>74</td>\n",
       "      <td>1</td>\n",
       "      <td>7.75</td>\n",
       "      <td>0.5</td>\n",
       "      <td>9.00</td>\n",
       "      <td>6.94</td>\n",
       "      <td>54.79</td>\n",
       "    </tr>\n",
       "    <tr>\n",
       "      <th>1</th>\n",
       "      <td>1</td>\n",
       "      <td>2025-07-01 00:23:28</td>\n",
       "      <td>2025-07-01 01:07:44</td>\n",
       "      <td>1.0</td>\n",
       "      <td>17.70</td>\n",
       "      <td>2.0</td>\n",
       "      <td>N</td>\n",
       "      <td>132</td>\n",
       "      <td>142</td>\n",
       "      <td>1</td>\n",
       "      <td>4.25</td>\n",
       "      <td>0.5</td>\n",
       "      <td>5.00</td>\n",
       "      <td>0.00</td>\n",
       "      <td>80.75</td>\n",
       "    </tr>\n",
       "    <tr>\n",
       "      <th>2</th>\n",
       "      <td>2</td>\n",
       "      <td>2025-07-01 00:53:50</td>\n",
       "      <td>2025-07-01 01:27:12</td>\n",
       "      <td>1.0</td>\n",
       "      <td>9.98</td>\n",
       "      <td>1.0</td>\n",
       "      <td>N</td>\n",
       "      <td>138</td>\n",
       "      <td>48</td>\n",
       "      <td>1</td>\n",
       "      <td>6.00</td>\n",
       "      <td>0.5</td>\n",
       "      <td>10.87</td>\n",
       "      <td>0.00</td>\n",
       "      <td>66.97</td>\n",
       "    </tr>\n",
       "    <tr>\n",
       "      <th>3</th>\n",
       "      <td>2</td>\n",
       "      <td>2025-07-01 00:58:49</td>\n",
       "      <td>2025-07-01 01:15:55</td>\n",
       "      <td>1.0</td>\n",
       "      <td>10.27</td>\n",
       "      <td>1.0</td>\n",
       "      <td>N</td>\n",
       "      <td>138</td>\n",
       "      <td>229</td>\n",
       "      <td>1</td>\n",
       "      <td>6.00</td>\n",
       "      <td>0.5</td>\n",
       "      <td>14.10</td>\n",
       "      <td>6.94</td>\n",
       "      <td>72.24</td>\n",
       "    </tr>\n",
       "    <tr>\n",
       "      <th>4</th>\n",
       "      <td>2</td>\n",
       "      <td>2025-07-01 00:09:22</td>\n",
       "      <td>2025-07-01 00:23:54</td>\n",
       "      <td>1.0</td>\n",
       "      <td>2.94</td>\n",
       "      <td>1.0</td>\n",
       "      <td>N</td>\n",
       "      <td>211</td>\n",
       "      <td>97</td>\n",
       "      <td>1</td>\n",
       "      <td>1.00</td>\n",
       "      <td>0.5</td>\n",
       "      <td>3.00</td>\n",
       "      <td>0.00</td>\n",
       "      <td>25.75</td>\n",
       "    </tr>\n",
       "    <tr>\n",
       "      <th>...</th>\n",
       "      <td>...</td>\n",
       "      <td>...</td>\n",
       "      <td>...</td>\n",
       "      <td>...</td>\n",
       "      <td>...</td>\n",
       "      <td>...</td>\n",
       "      <td>...</td>\n",
       "      <td>...</td>\n",
       "      <td>...</td>\n",
       "      <td>...</td>\n",
       "      <td>...</td>\n",
       "      <td>...</td>\n",
       "      <td>...</td>\n",
       "      <td>...</td>\n",
       "      <td>...</td>\n",
       "    </tr>\n",
       "    <tr>\n",
       "      <th>3898958</th>\n",
       "      <td>2</td>\n",
       "      <td>2025-07-31 23:43:43</td>\n",
       "      <td>2025-07-31 23:47:49</td>\n",
       "      <td>NaN</td>\n",
       "      <td>0.64</td>\n",
       "      <td>NaN</td>\n",
       "      <td>None</td>\n",
       "      <td>100</td>\n",
       "      <td>170</td>\n",
       "      <td>0</td>\n",
       "      <td>0.00</td>\n",
       "      <td>0.5</td>\n",
       "      <td>0.00</td>\n",
       "      <td>0.00</td>\n",
       "      <td>11.14</td>\n",
       "    </tr>\n",
       "    <tr>\n",
       "      <th>3898959</th>\n",
       "      <td>2</td>\n",
       "      <td>2025-07-31 23:05:39</td>\n",
       "      <td>2025-07-31 23:34:07</td>\n",
       "      <td>NaN</td>\n",
       "      <td>6.19</td>\n",
       "      <td>NaN</td>\n",
       "      <td>None</td>\n",
       "      <td>249</td>\n",
       "      <td>265</td>\n",
       "      <td>0</td>\n",
       "      <td>0.00</td>\n",
       "      <td>0.0</td>\n",
       "      <td>0.00</td>\n",
       "      <td>14.06</td>\n",
       "      <td>10.00</td>\n",
       "    </tr>\n",
       "    <tr>\n",
       "      <th>3898960</th>\n",
       "      <td>2</td>\n",
       "      <td>2025-07-31 23:08:32</td>\n",
       "      <td>2025-07-31 23:34:06</td>\n",
       "      <td>NaN</td>\n",
       "      <td>7.80</td>\n",
       "      <td>NaN</td>\n",
       "      <td>None</td>\n",
       "      <td>151</td>\n",
       "      <td>79</td>\n",
       "      <td>0</td>\n",
       "      <td>0.00</td>\n",
       "      <td>0.5</td>\n",
       "      <td>0.00</td>\n",
       "      <td>0.00</td>\n",
       "      <td>37.28</td>\n",
       "    </tr>\n",
       "    <tr>\n",
       "      <th>3898961</th>\n",
       "      <td>2</td>\n",
       "      <td>2025-07-31 23:13:56</td>\n",
       "      <td>2025-07-31 23:25:09</td>\n",
       "      <td>NaN</td>\n",
       "      <td>2.09</td>\n",
       "      <td>NaN</td>\n",
       "      <td>None</td>\n",
       "      <td>148</td>\n",
       "      <td>170</td>\n",
       "      <td>0</td>\n",
       "      <td>0.00</td>\n",
       "      <td>0.5</td>\n",
       "      <td>0.00</td>\n",
       "      <td>0.00</td>\n",
       "      <td>16.92</td>\n",
       "    </tr>\n",
       "    <tr>\n",
       "      <th>3898962</th>\n",
       "      <td>2</td>\n",
       "      <td>2025-07-31 23:54:09</td>\n",
       "      <td>2025-08-01 00:05:44</td>\n",
       "      <td>NaN</td>\n",
       "      <td>2.88</td>\n",
       "      <td>NaN</td>\n",
       "      <td>None</td>\n",
       "      <td>163</td>\n",
       "      <td>249</td>\n",
       "      <td>0</td>\n",
       "      <td>0.00</td>\n",
       "      <td>0.5</td>\n",
       "      <td>0.00</td>\n",
       "      <td>0.00</td>\n",
       "      <td>20.93</td>\n",
       "    </tr>\n",
       "  </tbody>\n",
       "</table>\n",
       "<p>3898963 rows × 15 columns</p>\n",
       "</div>"
      ],
      "text/plain": [
       "         VendorID tpep_pickup_datetime tpep_dropoff_datetime  passenger_count  \\\n",
       "0               1  2025-07-01 00:29:37   2025-07-01 00:45:30              1.0   \n",
       "1               1  2025-07-01 00:23:28   2025-07-01 01:07:44              1.0   \n",
       "2               2  2025-07-01 00:53:50   2025-07-01 01:27:12              1.0   \n",
       "3               2  2025-07-01 00:58:49   2025-07-01 01:15:55              1.0   \n",
       "4               2  2025-07-01 00:09:22   2025-07-01 00:23:54              1.0   \n",
       "...           ...                  ...                   ...              ...   \n",
       "3898958         2  2025-07-31 23:43:43   2025-07-31 23:47:49              NaN   \n",
       "3898959         2  2025-07-31 23:05:39   2025-07-31 23:34:07              NaN   \n",
       "3898960         2  2025-07-31 23:08:32   2025-07-31 23:34:06              NaN   \n",
       "3898961         2  2025-07-31 23:13:56   2025-07-31 23:25:09              NaN   \n",
       "3898962         2  2025-07-31 23:54:09   2025-08-01 00:05:44              NaN   \n",
       "\n",
       "         trip_distance  RatecodeID store_and_fwd_flag  PULocationID  \\\n",
       "0                 7.30         1.0                  N           138   \n",
       "1                17.70         2.0                  N           132   \n",
       "2                 9.98         1.0                  N           138   \n",
       "3                10.27         1.0                  N           138   \n",
       "4                 2.94         1.0                  N           211   \n",
       "...                ...         ...                ...           ...   \n",
       "3898958           0.64         NaN               None           100   \n",
       "3898959           6.19         NaN               None           249   \n",
       "3898960           7.80         NaN               None           151   \n",
       "3898961           2.09         NaN               None           148   \n",
       "3898962           2.88         NaN               None           163   \n",
       "\n",
       "         DOLocationID  payment_type  extra  mta_tax  tip_amount  tolls_amount  \\\n",
       "0                  74             1   7.75      0.5        9.00          6.94   \n",
       "1                 142             1   4.25      0.5        5.00          0.00   \n",
       "2                  48             1   6.00      0.5       10.87          0.00   \n",
       "3                 229             1   6.00      0.5       14.10          6.94   \n",
       "4                  97             1   1.00      0.5        3.00          0.00   \n",
       "...               ...           ...    ...      ...         ...           ...   \n",
       "3898958           170             0   0.00      0.5        0.00          0.00   \n",
       "3898959           265             0   0.00      0.0        0.00         14.06   \n",
       "3898960            79             0   0.00      0.5        0.00          0.00   \n",
       "3898961           170             0   0.00      0.5        0.00          0.00   \n",
       "3898962           249             0   0.00      0.5        0.00          0.00   \n",
       "\n",
       "         total_amount  \n",
       "0               54.79  \n",
       "1               80.75  \n",
       "2               66.97  \n",
       "3               72.24  \n",
       "4               25.75  \n",
       "...               ...  \n",
       "3898958         11.14  \n",
       "3898959         10.00  \n",
       "3898960         37.28  \n",
       "3898961         16.92  \n",
       "3898962         20.93  \n",
       "\n",
       "[3898963 rows x 15 columns]"
      ]
     },
     "execution_count": 3,
     "metadata": {},
     "output_type": "execute_result"
    }
   ],
   "source": [
    "df = df[[\n",
    "    'VendorID', 'tpep_pickup_datetime', 'tpep_dropoff_datetime', 'passenger_count', 'trip_distance', 'RatecodeID', 'store_and_fwd_flag',\n",
    "      'PULocationID', 'DOLocationID', 'payment_type', 'extra', 'mta_tax', 'tip_amount', 'tolls_amount', 'total_amount']]\n",
    "df"
   ]
  },
  {
   "cell_type": "code",
   "execution_count": 4,
   "id": "3a493b97",
   "metadata": {},
   "outputs": [
    {
     "data": {
      "text/plain": [
       "array([1, 2, 7, 6])"
      ]
     },
     "execution_count": 4,
     "metadata": {},
     "output_type": "execute_result"
    }
   ],
   "source": [
    "column = 'VendorID'\n",
    "df[column].unique()\n",
    "\n"
   ]
  },
  {
   "cell_type": "code",
   "execution_count": 5,
   "id": "f1c21893",
   "metadata": {},
   "outputs": [
    {
     "data": {
      "text/plain": [
       "<DatetimeArray>\n",
       "['2025-07-01 00:29:37', '2025-07-01 00:23:28', '2025-07-01 00:53:50',\n",
       " '2025-07-01 00:58:49', '2025-07-01 00:09:22', '2025-07-01 00:39:14',\n",
       " '2025-07-01 00:15:26', '2025-07-01 00:40:58', '2025-07-01 00:28:12',\n",
       " '2025-07-01 00:38:17',\n",
       " ...\n",
       " '2025-07-31 23:55:58', '2025-07-31 23:44:41', '2025-07-31 23:52:27',\n",
       " '2025-07-31 23:33:48', '2025-07-31 23:37:41', '2025-07-31 23:30:12',\n",
       " '2025-07-31 23:48:12', '2025-07-31 23:37:44', '2025-07-31 23:52:35',\n",
       " '2025-07-31 23:13:56']\n",
       "Length: 1810838, dtype: datetime64[us]"
      ]
     },
     "execution_count": 5,
     "metadata": {},
     "output_type": "execute_result"
    }
   ],
   "source": [
    "column = 'tpep_pickup_datetime'\n",
    "df[column].unique()"
   ]
  },
  {
   "cell_type": "code",
   "execution_count": 6,
   "id": "5b1ee23e",
   "metadata": {},
   "outputs": [
    {
     "data": {
      "text/plain": [
       "<DatetimeArray>\n",
       "['2025-07-01 00:45:30', '2025-07-01 01:07:44', '2025-07-01 01:27:12',\n",
       " '2025-07-01 01:15:55', '2025-07-01 00:23:54', '2025-07-01 00:55:21',\n",
       " '2025-07-01 00:29:39', '2025-07-01 00:44:15', '2025-07-01 00:39:49',\n",
       " '2025-07-01 00:55:44',\n",
       " ...\n",
       " '2025-07-31 23:19:37', '2025-07-31 23:47:04', '2025-07-31 23:43:04',\n",
       " '2025-07-31 23:56:58', '2025-07-31 23:37:06', '2025-08-01 00:01:10',\n",
       " '2025-07-31 23:49:35', '2025-07-31 23:54:26', '2025-08-01 00:13:13',\n",
       " '2025-08-01 00:05:44']\n",
       "Length: 1810965, dtype: datetime64[us]"
      ]
     },
     "execution_count": 6,
     "metadata": {},
     "output_type": "execute_result"
    }
   ],
   "source": [
    "column = 'tpep_dropoff_datetime'\n",
    "df[column].unique()"
   ]
  },
  {
   "cell_type": "code",
   "execution_count": 7,
   "id": "c8e16444",
   "metadata": {},
   "outputs": [
    {
     "data": {
      "text/plain": [
       "array([1., 2., 3., 4., 5., 6., 8., 9., 7.])"
      ]
     },
     "execution_count": 7,
     "metadata": {},
     "output_type": "execute_result"
    }
   ],
   "source": [
    "column = 'passenger_count'\n",
    "df[column].unique()\n",
    "\n",
    "df[column] = df[column].fillna(1)\n",
    "df[column] = df[column].replace(0,1)\n",
    "    \n",
    "df[column].unique()"
   ]
  },
  {
   "cell_type": "code",
   "execution_count": 8,
   "id": "f834e08d",
   "metadata": {},
   "outputs": [
    {
     "data": {
      "text/plain": [
       "0          11.748211\n",
       "1          28.485389\n",
       "2          16.061253\n",
       "3          16.527963\n",
       "4           4.731471\n",
       "             ...    \n",
       "3898958     1.029980\n",
       "3898959     9.961839\n",
       "3898960    12.552883\n",
       "3898961     3.363529\n",
       "3898962     4.634911\n",
       "Name: trip_distance, Length: 3898734, dtype: float64"
      ]
     },
     "execution_count": 8,
     "metadata": {},
     "output_type": "execute_result"
    }
   ],
   "source": [
    "column = 'trip_distance'\n",
    "km = 1.609344\n",
    "df[column] = df[column] * km\n",
    "df = df[df[column] < 200]\n",
    "df[column]"
   ]
  },
  {
   "cell_type": "code",
   "execution_count": 9,
   "id": "eff0064a",
   "metadata": {},
   "outputs": [
    {
     "name": "stderr",
     "output_type": "stream",
     "text": [
      "C:\\Users\\disrct\\AppData\\Local\\Temp\\ipykernel_24908\\3061646619.py:2: SettingWithCopyWarning: \n",
      "A value is trying to be set on a copy of a slice from a DataFrame.\n",
      "Try using .loc[row_indexer,col_indexer] = value instead\n",
      "\n",
      "See the caveats in the documentation: https://pandas.pydata.org/pandas-docs/stable/user_guide/indexing.html#returning-a-view-versus-a-copy\n",
      "  df[column] = df[column].fillna(99)\n"
     ]
    },
    {
     "data": {
      "text/plain": [
       "array([ 1.,  2.,  4.,  5., 99.,  3.,  6.])"
      ]
     },
     "execution_count": 9,
     "metadata": {},
     "output_type": "execute_result"
    }
   ],
   "source": [
    "column = 'RatecodeID'\n",
    "df[column] = df[column].fillna(99)\n",
    "df[column].unique()\n"
   ]
  },
  {
   "cell_type": "code",
   "execution_count": 10,
   "id": "bd831896",
   "metadata": {},
   "outputs": [
    {
     "data": {
      "text/plain": [
       "array(['N', 'Y'], dtype=object)"
      ]
     },
     "execution_count": 10,
     "metadata": {},
     "output_type": "execute_result"
    }
   ],
   "source": [
    "df.loc[df['store_and_fwd_flag'].isna(), 'store_and_fwd_flag'] = \"N\"\n",
    "df['store_and_fwd_flag'].unique()"
   ]
  },
  {
   "cell_type": "code",
   "execution_count": 11,
   "id": "dfcb16ef",
   "metadata": {},
   "outputs": [
    {
     "data": {
      "text/plain": [
       "array([138, 132, 211,  79, 140, 114, 233, 229, 237, 234, 230,  48, 163,\n",
       "       170, 161, 142, 148, 158,  41, 107, 186, 141,  90, 164, 249, 137,\n",
       "       263, 239, 261,  70, 113, 162,  43, 231, 224,  68, 144,  50, 100,\n",
       "       246,  36, 191, 189, 168, 236, 209, 125,  87, 238,  14,  13, 244,\n",
       "       143,  25, 129,  97,   4,  42,  74, 219, 185, 262,  24,  75,  45,\n",
       "       147,  88, 264, 265, 188, 226, 166, 207, 260,  93, 151,  10,  83,\n",
       "        55,  28, 145, 127, 155, 206,   7,  52, 146, 193, 216, 181, 152,\n",
       "        62,  80, 179, 223, 215, 256,  16, 130, 156, 116,  17,  85,  92,\n",
       "       243,  95,  82,  19, 203, 232, 194,  18, 160, 205,  72,  71,  56,\n",
       "        51, 259, 112, 119, 242, 157,  76,   3,  61,  39, 197,  89,  35,\n",
       "       254,  40, 212, 213, 218,  11,  94, 174,  38,  26,  47,   1,  86,\n",
       "       117, 108, 122,  91, 202, 169,  15, 225, 201,  54,  69, 149, 131,\n",
       "        49, 198, 177,  64,  22,  32, 240, 258, 208,  60, 195,  67, 165,\n",
       "       139, 210, 150,  77,  78, 247, 124,  65, 196,  63, 133,  37, 182,\n",
       "       167,  98, 134,  66, 217,  12, 222, 159,  29, 241, 228, 250, 121,\n",
       "       235,  33, 248, 153, 136, 220, 123, 173, 183,  53, 180,  20, 178,\n",
       "       255, 257,  81, 126, 102, 101, 227,  96, 135, 106, 175,  21, 200,\n",
       "       252,   6, 253, 184, 154, 190,  73,   8,  57,   9, 171, 192,  31,\n",
       "       120,  34,  23,  27,  46, 128,  58, 105, 221,  59,  99, 199, 214,\n",
       "         5,   2, 187, 111,  30, 115, 251, 118,  44,  84, 109, 245, 176,\n",
       "       172])"
      ]
     },
     "execution_count": 11,
     "metadata": {},
     "output_type": "execute_result"
    }
   ],
   "source": [
    "column = 'PULocationID'\n",
    "df[column].unique()"
   ]
  },
  {
   "cell_type": "code",
   "execution_count": 12,
   "id": "20ad91a5",
   "metadata": {},
   "outputs": [
    {
     "data": {
      "text/plain": [
       "array([ 74, 142,  48, 229,  97, 155, 263, 262,  50, 197, 233, 140,  65,\n",
       "       265, 163, 148, 125, 186, 230, 239,  90,   7, 114, 256, 107, 143,\n",
       "       209, 255, 162,   9, 137,   4, 225, 113, 166, 161, 132,  41, 144,\n",
       "        73, 170,  79,  82, 249, 158, 151,  43, 211, 127,  16,  56, 159,\n",
       "       116,  45, 237, 246, 164,  75, 236, 252,  42, 134, 238,  68,  21,\n",
       "        49,  14, 129, 234, 141,  87, 145, 228, 117, 191, 189,  92,  89,\n",
       "        80, 231, 100,  66, 223,  40,  61, 232, 168, 216, 177, 195, 102,\n",
       "       146, 150, 221,  54, 261,  24, 190,  36,  37,  71, 244, 220,  52,\n",
       "       138, 181, 260,  10,  72,  29, 179,  17, 226,  33, 112,  83, 254,\n",
       "        60, 188,  95, 119, 217, 106, 219,  28, 224, 157, 198, 174, 200,\n",
       "        34,  25, 202,  86, 139,  91,  88,  70,  12, 171, 257,  18, 153,\n",
       "        64,  76, 147, 101, 130, 173, 247, 264, 203,  51,  35,  53, 251,\n",
       "       152, 149,  38,  47, 124,  77,  93, 196,  13,  15,  98,   1, 180,\n",
       "       205, 250,  26, 218, 182, 215,  62,  39,  55, 258, 243, 213, 121,\n",
       "       193,  22, 126,  46, 131, 178, 248,  63, 206,  78, 136, 160,  69,\n",
       "       135, 167,  85,  11,  81, 194, 212, 259, 122, 235, 123, 241, 242,\n",
       "        23, 156, 207,  19, 133,   3, 165, 227, 169,  94, 208, 172, 192,\n",
       "       108, 176, 154,  57, 210, 222, 214, 201, 175, 185,  20, 183, 204,\n",
       "        67,  32,  58,  31,  96, 128, 118,   6, 111,  59, 240, 184,  44,\n",
       "       187,  27, 253, 109,  84,   8, 120, 115,  30,   2, 245,   5,  99,\n",
       "       199])"
      ]
     },
     "execution_count": 12,
     "metadata": {},
     "output_type": "execute_result"
    }
   ],
   "source": [
    "column = 'DOLocationID'\n",
    "df[column].unique()"
   ]
  },
  {
   "cell_type": "code",
   "execution_count": 13,
   "id": "038526b8",
   "metadata": {},
   "outputs": [
    {
     "data": {
      "text/plain": [
       "array([1, 3, 2, 4, 0], dtype=int64)"
      ]
     },
     "execution_count": 13,
     "metadata": {},
     "output_type": "execute_result"
    }
   ],
   "source": [
    "column = 'payment_type'\n",
    "df[column].unique()\n"
   ]
  },
  {
   "cell_type": "code",
   "execution_count": 14,
   "id": "524a3400",
   "metadata": {},
   "outputs": [
    {
     "data": {
      "text/plain": [
       "array([ 7.750e+00,  4.250e+00,  6.000e+00,  1.000e+00,  0.000e+00,\n",
       "        1.025e+01, -6.000e+00,  5.000e+00,  2.750e+00, -1.000e+00,\n",
       "        3.500e+00,  3.250e+00,  2.500e+00,  1.750e+00,  1.100e+01,\n",
       "        7.500e-01,  6.750e+00,  9.250e+00,  8.500e+00,  2.500e-01,\n",
       "        5.750e+00,  1.000e+01,  7.500e+00,  8.250e+00, -5.000e+00,\n",
       "        1.250e+01,  1.175e+01,  1.075e+01, -2.500e+00, -7.500e+00,\n",
       "       -7.500e-01,  3.950e+00,  5.250e+00,  1.500e+01,  5.000e-01,\n",
       "       -2.500e-01,  2.000e-02,  8.000e-02, -3.000e-02,  3.000e-02,\n",
       "        3.300e-01, -1.000e-02,  1.000e-02, -3.250e+00, -1.750e+00,\n",
       "       -4.250e+00,  6.000e-02,  7.900e-01,  1.000e-01,  1.325e+01,\n",
       "        3.200e-01,  2.600e-01,  3.200e+00,  1.030e+00,  1.010e+00,\n",
       "        1.020e+00,  4.000e-02,  6.500e+00,  2.000e+00,  4.000e+00,\n",
       "        5.000e-02, -2.000e-02,  2.800e-01,  1.070e+00,  3.500e-01,\n",
       "        7.000e-02,  3.100e-01,  1.180e+00,  1.050e+00,  9.000e-02,\n",
       "        7.000e+00])"
      ]
     },
     "execution_count": 14,
     "metadata": {},
     "output_type": "execute_result"
    }
   ],
   "source": [
    "column = 'extra'\n",
    "df[column].unique()\n"
   ]
  },
  {
   "cell_type": "code",
   "execution_count": 15,
   "id": "f8dcbe3e",
   "metadata": {},
   "outputs": [
    {
     "data": {
      "text/plain": [
       "mta_tax\n",
       "0.50       3771195\n",
       "1.00           172\n",
       "10.50            7\n",
       "4.75             6\n",
       "3.25             2\n",
       "6.50             1\n",
       "5243.38          1\n",
       "4.50             1\n",
       "3.75             1\n",
       "Name: count, dtype: int64"
      ]
     },
     "execution_count": 15,
     "metadata": {},
     "output_type": "execute_result"
    }
   ],
   "source": [
    "column = 'mta_tax'\n",
    "df = df[df[column] > 0.00]\n",
    "df[column].value_counts()\n"
   ]
  },
  {
   "cell_type": "code",
   "execution_count": 16,
   "id": "2c5dc216",
   "metadata": {},
   "outputs": [
    {
     "data": {
      "text/plain": [
       "tip_amount\n",
       "0.00     1586588\n",
       "2.00      148823\n",
       "1.00      110433\n",
       "3.00       63827\n",
       "5.00       44065\n",
       "          ...   \n",
       "34.25          1\n",
       "28.10          1\n",
       "44.05          1\n",
       "32.21          1\n",
       "38.26          1\n",
       "Name: count, Length: 3765, dtype: int64"
      ]
     },
     "execution_count": 16,
     "metadata": {},
     "output_type": "execute_result"
    }
   ],
   "source": [
    "column = 'tip_amount'\n",
    "df[column].value_counts()"
   ]
  },
  {
   "cell_type": "code",
   "execution_count": 17,
   "id": "6b27cb3f",
   "metadata": {},
   "outputs": [
    {
     "data": {
      "text/plain": [
       "tolls_amount\n",
       "0.00     3526369\n",
       "6.94      233754\n",
       "3.18        3384\n",
       "13.88       1681\n",
       "5.20        1191\n",
       "          ...   \n",
       "22.05          1\n",
       "10.09          1\n",
       "22.74          1\n",
       "85.00          1\n",
       "17.47          1\n",
       "Name: count, Length: 485, dtype: int64"
      ]
     },
     "execution_count": 17,
     "metadata": {},
     "output_type": "execute_result"
    }
   ],
   "source": [
    "column = 'tolls_amount'\n",
    "df[column].value_counts()\n"
   ]
  },
  {
   "cell_type": "code",
   "execution_count": 18,
   "id": "8ab40589",
   "metadata": {},
   "outputs": [
    {
     "data": {
      "text/plain": [
       "total_amount\n",
       "17.70     23346\n",
       "21.90     19908\n",
       "19.38     18882\n",
       "21.06     18506\n",
       "3.00      18361\n",
       "          ...  \n",
       "120.16        1\n",
       "159.29        1\n",
       "157.69        1\n",
       "176.35        1\n",
       "165.39        1\n",
       "Name: count, Length: 15342, dtype: int64"
      ]
     },
     "execution_count": 18,
     "metadata": {},
     "output_type": "execute_result"
    }
   ],
   "source": [
    "column = 'total_amount'\n",
    "df[column].value_counts()"
   ]
  },
  {
   "cell_type": "code",
   "execution_count": 19,
   "id": "0011fe5f",
   "metadata": {},
   "outputs": [
    {
     "data": {
      "text/plain": [
       "count                   3691597\n",
       "mean     0 days 00:17:03.489001\n",
       "std      0 days 00:12:52.260156\n",
       "min             0 days 00:01:00\n",
       "25%             0 days 00:08:33\n",
       "50%             0 days 00:13:48\n",
       "75%             0 days 00:21:29\n",
       "max             0 days 02:59:49\n",
       "Name: Duration, dtype: object"
      ]
     },
     "execution_count": 19,
     "metadata": {},
     "output_type": "execute_result"
    }
   ],
   "source": [
    "df['Duration'] = df['tpep_dropoff_datetime'] - df['tpep_pickup_datetime'] \n",
    "\n",
    "df = df[(df['Duration'] >= pd.Timedelta(minutes=1)) &\n",
    "        (df['Duration'] <= pd.Timedelta(hours=3))]\n",
    "\n",
    "df['Duration'].describe()\n"
   ]
  },
  {
   "cell_type": "code",
   "execution_count": 20,
   "id": "fa22494d",
   "metadata": {},
   "outputs": [
    {
     "data": {
      "text/plain": [
       "0         0 days 00:15:53\n",
       "1         0 days 00:44:16\n",
       "2         0 days 00:33:22\n",
       "3         0 days 00:17:06\n",
       "4         0 days 00:14:32\n",
       "                ...      \n",
       "3898957   0 days 00:11:05\n",
       "3898958   0 days 00:04:06\n",
       "3898960   0 days 00:25:34\n",
       "3898961   0 days 00:11:13\n",
       "3898962   0 days 00:11:35\n",
       "Name: Duration, Length: 3691597, dtype: timedelta64[us]"
      ]
     },
     "execution_count": 20,
     "metadata": {},
     "output_type": "execute_result"
    }
   ],
   "source": [
    "df['Duration']"
   ]
  },
  {
   "cell_type": "code",
   "execution_count": 21,
   "id": "37c06b50",
   "metadata": {},
   "outputs": [
    {
     "data": {
      "text/plain": [
       "0          11.748211\n",
       "1          28.485389\n",
       "2          16.061253\n",
       "3          16.527963\n",
       "4           4.731471\n",
       "             ...    \n",
       "3898957     2.687604\n",
       "3898958     1.029980\n",
       "3898960    12.552883\n",
       "3898961     3.363529\n",
       "3898962     4.634911\n",
       "Name: trip_distance, Length: 3691597, dtype: float64"
      ]
     },
     "execution_count": 21,
     "metadata": {},
     "output_type": "execute_result"
    }
   ],
   "source": [
    "df['trip_distance']"
   ]
  },
  {
   "cell_type": "code",
   "execution_count": 25,
   "id": "dde1484f",
   "metadata": {},
   "outputs": [
    {
     "data": {
      "text/plain": [
       "count    3.691597e+06\n",
       "mean     8.593021e-01\n",
       "std      6.955833e-01\n",
       "min      0.000000e+00\n",
       "25%      0.000000e+00\n",
       "50%      1.000000e+00\n",
       "75%      1.000000e+00\n",
       "max      4.000000e+00\n",
       "Name: payment_type, dtype: float64"
      ]
     },
     "execution_count": 25,
     "metadata": {},
     "output_type": "execute_result"
    }
   ],
   "source": [
    "df['payment_type'].describe()"
   ]
  },
  {
   "cell_type": "code",
   "execution_count": 33,
   "id": "d53b61fc",
   "metadata": {},
   "outputs": [
    {
     "data": {
      "image/png": "[encoded data removed]",
      "text/plain": [
       "<Figure size 640x480 with 1 Axes>"
      ]
     },
     "metadata": {},
     "output_type": "display_data"
    }
   ],
   "source": [
    "category  = df['payment_type'].value_counts()\n",
    "\n",
    "plt.bar(category.index, category.values)\n",
    "\n",
    "plt.title('Most Used Payment Types')\n",
    "plt.xlabel('Payment Types')\n",
    "plt.ylabel('Quantity')\n",
    "\n",
    "plt.show()"
   ]
  },
  {
   "cell_type": "code",
   "execution_count": 69,
   "id": "04833678",
   "metadata": {},
   "outputs": [
    {
     "data": {
      "text/plain": [
       "count    3.691597e+06\n",
       "mean     2.843025e-01\n",
       "std      2.145167e-01\n",
       "min      1.666667e-02\n",
       "25%      1.425000e-01\n",
       "50%      2.300000e-01\n",
       "75%      3.580556e-01\n",
       "max      2.996944e+00\n",
       "Name: Hour, dtype: float64"
      ]
     },
     "execution_count": 69,
     "metadata": {},
     "output_type": "execute_result"
    }
   ],
   "source": [
    "df['Hour'].describe()"
   ]
  },
  {
   "cell_type": "code",
   "execution_count": 71,
   "id": "f7a3a1a6",
   "metadata": {},
   "outputs": [
    {
     "data": {
      "image/png": "[encoded data removed]",
      "text/plain": [
       "<Figure size 640x480 with 1 Axes>"
      ]
     },
     "metadata": {},
     "output_type": "display_data"
    }
   ],
   "source": [
    "df['Hour'] = df['Duration'].dt.total_seconds() / 3600\n",
    "\n",
    "df['Hour'].describe()\n",
    "\n",
    "x = df['trip_distance']\n",
    "y = df['Hour']\n",
    "\n",
    "plt.scatter(x, y, s = 3)\n",
    "plt.show()\n"
   ]
  },
  {
   "cell_type": "code",
   "execution_count": 85,
   "id": "88b35e86",
   "metadata": {},
   "outputs": [
    {
     "data": {
      "text/plain": [
       "[<matplotlib.lines.Line2D at 0x1d8edd0f2f0>]"
      ]
     },
     "execution_count": 85,
     "metadata": {},
     "output_type": "execute_result"
    },
    {
     "data": {
      "image/png": "[encoded data removed]",
      "text/plain": [
       "<Figure size 640x480 with 1 Axes>"
      ]
     },
     "metadata": {},
     "output_type": "display_data"
    }
   ],
   "source": [
    "category = df['passenger_count'].value_counts()\n",
    "plt.plot(category, marker = 'o', markersize = 6, lw = 3)"
   ]
  },
  {
   "cell_type": "code",
   "execution_count": null,
   "id": "04a1ea46",
   "metadata": {},
   "outputs": [
    {
     "ename": "TypeError",
     "evalue": "the dtypes of parameters x (object) and width (float64) are incompatible",
     "output_type": "error",
     "traceback": [
      "\u001b[1;31m---------------------------------------------------------------------------\u001b[0m",
      "\u001b[1;31mTypeError\u001b[0m                                 Traceback (most recent call last)",
      "File \u001b[1;32mc:\\Users\\disrct\\AppData\\Local\\Programs\\Python\\Python312\\Lib\\site-packages\\matplotlib\\axes\\_axes.py:2501\u001b[0m, in \u001b[0;36mAxes.bar\u001b[1;34m(self, x, height, width, bottom, align, **kwargs)\u001b[0m\n\u001b[0;32m   2500\u001b[0m \u001b[38;5;28;01mtry\u001b[39;00m:\n\u001b[1;32m-> 2501\u001b[0m     left \u001b[38;5;241m=\u001b[39m \u001b[43mx\u001b[49m\u001b[43m \u001b[49m\u001b[38;5;241;43m-\u001b[39;49m\u001b[43m \u001b[49m\u001b[43mwidth\u001b[49m\u001b[43m \u001b[49m\u001b[38;5;241;43m/\u001b[39;49m\u001b[43m \u001b[49m\u001b[38;5;241;43m2\u001b[39;49m\n\u001b[0;32m   2502\u001b[0m \u001b[38;5;28;01mexcept\u001b[39;00m \u001b[38;5;167;01mTypeError\u001b[39;00m \u001b[38;5;28;01mas\u001b[39;00m e:\n",
      "\u001b[1;31mTypeError\u001b[0m: unsupported operand type(s) for -: 'tuple' and 'float'",
      "\nThe above exception was the direct cause of the following exception:\n",
      "\u001b[1;31mTypeError\u001b[0m                                 Traceback (most recent call last)",
      "Cell \u001b[1;32mIn[87], line 4\u001b[0m\n\u001b[0;32m      1\u001b[0m categories \u001b[38;5;241m=\u001b[39m df[[\u001b[38;5;124m'\u001b[39m\u001b[38;5;124mDOLocationID\u001b[39m\u001b[38;5;124m'\u001b[39m]]\u001b[38;5;241m.\u001b[39mvalue_counts()\n\u001b[0;32m      2\u001b[0m categories1 \u001b[38;5;241m=\u001b[39m df[[\u001b[38;5;124m'\u001b[39m\u001b[38;5;124mPULocationID\u001b[39m\u001b[38;5;124m'\u001b[39m]]\u001b[38;5;241m.\u001b[39mvalue_counts()\n\u001b[1;32m----> 4\u001b[0m \u001b[43mplt\u001b[49m\u001b[38;5;241;43m.\u001b[39;49m\u001b[43mbar\u001b[49m\u001b[43m(\u001b[49m\u001b[43mcategories\u001b[49m\u001b[38;5;241;43m.\u001b[39;49m\u001b[43mindex\u001b[49m\u001b[43m,\u001b[49m\u001b[43m \u001b[49m\u001b[43mcategories\u001b[49m\u001b[38;5;241;43m.\u001b[39;49m\u001b[43mvalues\u001b[49m\u001b[43m)\u001b[49m\n\u001b[0;32m      5\u001b[0m plt\u001b[38;5;241m.\u001b[39mbar(categories1\u001b[38;5;241m.\u001b[39mindex, categories1\u001b[38;5;241m.\u001b[39mvalues)\n",
      "File \u001b[1;32mc:\\Users\\disrct\\AppData\\Local\\Programs\\Python\\Python312\\Lib\\site-packages\\matplotlib\\pyplot.py:2754\u001b[0m, in \u001b[0;36mbar\u001b[1;34m(x, height, width, bottom, align, data, **kwargs)\u001b[0m\n\u001b[0;32m   2743\u001b[0m \u001b[38;5;129m@_copy_docstring_and_deprecators\u001b[39m(Axes\u001b[38;5;241m.\u001b[39mbar)\n\u001b[0;32m   2744\u001b[0m \u001b[38;5;28;01mdef\u001b[39;00m \u001b[38;5;21mbar\u001b[39m(\n\u001b[0;32m   2745\u001b[0m     x: \u001b[38;5;28mfloat\u001b[39m \u001b[38;5;241m|\u001b[39m ArrayLike,\n\u001b[1;32m   (...)\u001b[0m\n\u001b[0;32m   2752\u001b[0m     \u001b[38;5;241m*\u001b[39m\u001b[38;5;241m*\u001b[39mkwargs,\n\u001b[0;32m   2753\u001b[0m ) \u001b[38;5;241m-\u001b[39m\u001b[38;5;241m>\u001b[39m BarContainer:\n\u001b[1;32m-> 2754\u001b[0m     \u001b[38;5;28;01mreturn\u001b[39;00m \u001b[43mgca\u001b[49m\u001b[43m(\u001b[49m\u001b[43m)\u001b[49m\u001b[38;5;241;43m.\u001b[39;49m\u001b[43mbar\u001b[49m\u001b[43m(\u001b[49m\n\u001b[0;32m   2755\u001b[0m \u001b[43m        \u001b[49m\u001b[43mx\u001b[49m\u001b[43m,\u001b[49m\n\u001b[0;32m   2756\u001b[0m \u001b[43m        \u001b[49m\u001b[43mheight\u001b[49m\u001b[43m,\u001b[49m\n\u001b[0;32m   2757\u001b[0m \u001b[43m        \u001b[49m\u001b[43mwidth\u001b[49m\u001b[38;5;241;43m=\u001b[39;49m\u001b[43mwidth\u001b[49m\u001b[43m,\u001b[49m\n\u001b[0;32m   2758\u001b[0m \u001b[43m        \u001b[49m\u001b[43mbottom\u001b[49m\u001b[38;5;241;43m=\u001b[39;49m\u001b[43mbottom\u001b[49m\u001b[43m,\u001b[49m\n\u001b[0;32m   2759\u001b[0m \u001b[43m        \u001b[49m\u001b[43malign\u001b[49m\u001b[38;5;241;43m=\u001b[39;49m\u001b[43malign\u001b[49m\u001b[43m,\u001b[49m\n\u001b[0;32m   2760\u001b[0m \u001b[43m        \u001b[49m\u001b[38;5;241;43m*\u001b[39;49m\u001b[38;5;241;43m*\u001b[39;49m\u001b[43m(\u001b[49m\u001b[43m{\u001b[49m\u001b[38;5;124;43m\"\u001b[39;49m\u001b[38;5;124;43mdata\u001b[39;49m\u001b[38;5;124;43m\"\u001b[39;49m\u001b[43m:\u001b[49m\u001b[43m \u001b[49m\u001b[43mdata\u001b[49m\u001b[43m}\u001b[49m\u001b[43m \u001b[49m\u001b[38;5;28;43;01mif\u001b[39;49;00m\u001b[43m \u001b[49m\u001b[43mdata\u001b[49m\u001b[43m \u001b[49m\u001b[38;5;129;43;01mis\u001b[39;49;00m\u001b[43m \u001b[49m\u001b[38;5;129;43;01mnot\u001b[39;49;00m\u001b[43m \u001b[49m\u001b[38;5;28;43;01mNone\u001b[39;49;00m\u001b[43m \u001b[49m\u001b[38;5;28;43;01melse\u001b[39;49;00m\u001b[43m \u001b[49m\u001b[43m{\u001b[49m\u001b[43m}\u001b[49m\u001b[43m)\u001b[49m\u001b[43m,\u001b[49m\n\u001b[0;32m   2761\u001b[0m \u001b[43m        \u001b[49m\u001b[38;5;241;43m*\u001b[39;49m\u001b[38;5;241;43m*\u001b[39;49m\u001b[43mkwargs\u001b[49m\u001b[43m,\u001b[49m\n\u001b[0;32m   2762\u001b[0m \u001b[43m    \u001b[49m\u001b[43m)\u001b[49m\n",
      "File \u001b[1;32mc:\\Users\\disrct\\AppData\\Local\\Programs\\Python\\Python312\\Lib\\site-packages\\matplotlib\\__init__.py:1478\u001b[0m, in \u001b[0;36m_preprocess_data.<locals>.inner\u001b[1;34m(ax, data, *args, **kwargs)\u001b[0m\n\u001b[0;32m   1475\u001b[0m \u001b[38;5;129m@functools\u001b[39m\u001b[38;5;241m.\u001b[39mwraps(func)\n\u001b[0;32m   1476\u001b[0m \u001b[38;5;28;01mdef\u001b[39;00m \u001b[38;5;21minner\u001b[39m(ax, \u001b[38;5;241m*\u001b[39margs, data\u001b[38;5;241m=\u001b[39m\u001b[38;5;28;01mNone\u001b[39;00m, \u001b[38;5;241m*\u001b[39m\u001b[38;5;241m*\u001b[39mkwargs):\n\u001b[0;32m   1477\u001b[0m     \u001b[38;5;28;01mif\u001b[39;00m data \u001b[38;5;129;01mis\u001b[39;00m \u001b[38;5;28;01mNone\u001b[39;00m:\n\u001b[1;32m-> 1478\u001b[0m         \u001b[38;5;28;01mreturn\u001b[39;00m \u001b[43mfunc\u001b[49m\u001b[43m(\u001b[49m\u001b[43max\u001b[49m\u001b[43m,\u001b[49m\u001b[43m \u001b[49m\u001b[38;5;241;43m*\u001b[39;49m\u001b[38;5;28;43mmap\u001b[39;49m\u001b[43m(\u001b[49m\u001b[43msanitize_sequence\u001b[49m\u001b[43m,\u001b[49m\u001b[43m \u001b[49m\u001b[43margs\u001b[49m\u001b[43m)\u001b[49m\u001b[43m,\u001b[49m\u001b[43m \u001b[49m\u001b[38;5;241;43m*\u001b[39;49m\u001b[38;5;241;43m*\u001b[39;49m\u001b[43mkwargs\u001b[49m\u001b[43m)\u001b[49m\n\u001b[0;32m   1480\u001b[0m     bound \u001b[38;5;241m=\u001b[39m new_sig\u001b[38;5;241m.\u001b[39mbind(ax, \u001b[38;5;241m*\u001b[39margs, \u001b[38;5;241m*\u001b[39m\u001b[38;5;241m*\u001b[39mkwargs)\n\u001b[0;32m   1481\u001b[0m     auto_label \u001b[38;5;241m=\u001b[39m (bound\u001b[38;5;241m.\u001b[39marguments\u001b[38;5;241m.\u001b[39mget(label_namer)\n\u001b[0;32m   1482\u001b[0m                   \u001b[38;5;129;01mor\u001b[39;00m bound\u001b[38;5;241m.\u001b[39mkwargs\u001b[38;5;241m.\u001b[39mget(label_namer))\n",
      "File \u001b[1;32mc:\\Users\\disrct\\AppData\\Local\\Programs\\Python\\Python312\\Lib\\site-packages\\matplotlib\\axes\\_axes.py:2503\u001b[0m, in \u001b[0;36mAxes.bar\u001b[1;34m(self, x, height, width, bottom, align, **kwargs)\u001b[0m\n\u001b[0;32m   2501\u001b[0m         left \u001b[38;5;241m=\u001b[39m x \u001b[38;5;241m-\u001b[39m width \u001b[38;5;241m/\u001b[39m \u001b[38;5;241m2\u001b[39m\n\u001b[0;32m   2502\u001b[0m     \u001b[38;5;28;01mexcept\u001b[39;00m \u001b[38;5;167;01mTypeError\u001b[39;00m \u001b[38;5;28;01mas\u001b[39;00m e:\n\u001b[1;32m-> 2503\u001b[0m         \u001b[38;5;28;01mraise\u001b[39;00m \u001b[38;5;167;01mTypeError\u001b[39;00m(\u001b[38;5;124mf\u001b[39m\u001b[38;5;124m'\u001b[39m\u001b[38;5;124mthe dtypes of parameters x (\u001b[39m\u001b[38;5;132;01m{\u001b[39;00mx\u001b[38;5;241m.\u001b[39mdtype\u001b[38;5;132;01m}\u001b[39;00m\u001b[38;5;124m) \u001b[39m\u001b[38;5;124m'\u001b[39m\n\u001b[0;32m   2504\u001b[0m                         \u001b[38;5;124mf\u001b[39m\u001b[38;5;124m'\u001b[39m\u001b[38;5;124mand width (\u001b[39m\u001b[38;5;132;01m{\u001b[39;00mwidth\u001b[38;5;241m.\u001b[39mdtype\u001b[38;5;132;01m}\u001b[39;00m\u001b[38;5;124m) \u001b[39m\u001b[38;5;124m'\u001b[39m\n\u001b[0;32m   2505\u001b[0m                         \u001b[38;5;124mf\u001b[39m\u001b[38;5;124m'\u001b[39m\u001b[38;5;124mare incompatible\u001b[39m\u001b[38;5;124m'\u001b[39m) \u001b[38;5;28;01mfrom\u001b[39;00m \u001b[38;5;21;01me\u001b[39;00m\n\u001b[0;32m   2506\u001b[0m     bottom \u001b[38;5;241m=\u001b[39m y\n\u001b[0;32m   2507\u001b[0m \u001b[38;5;28;01melse\u001b[39;00m:  \u001b[38;5;66;03m# horizontal\u001b[39;00m\n",
      "\u001b[1;31mTypeError\u001b[0m: the dtypes of parameters x (object) and width (float64) are incompatible"
     ]
    },
    {
     "data": {
      "image/png": "[encoded data removed]",
      "text/plain": [
       "<Figure size 640x480 with 1 Axes>"
      ]
     },
     "metadata": {},
     "output_type": "display_data"
    }
   ],
   "source": [
    "category = "
   ]
  }
 ],
 "metadata": {
  "kernelspec": {
   "display_name": "Python 3",
   "language": "python",
   "name": "python3"
  },
  "language_info": {
   "codemirror_mode": {
    "name": "ipython",
    "version": 3
   },
   "file_extension": ".py",
   "mimetype": "text/x-python",
   "name": "python",
   "nbconvert_exporter": "python",
   "pygments_lexer": "ipython3",
   "version": "3.12.1"
  }
 },
 "nbformat": 4,
 "nbformat_minor": 5
}
