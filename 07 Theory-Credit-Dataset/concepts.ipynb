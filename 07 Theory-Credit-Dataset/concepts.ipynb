{
 "cells": [
  {
   "cell_type": "markdown",
   "id": "bb53e3ca",
   "metadata": {},
   "source": [
    "## SVM: Support Vector Machine\n",
    " Is a supervised ML algorithm used for both classification and regression tasks by finding the optimal hyperplane that best separates data points into different categories\n",
    "\n",
    " "
   ]
  },
  {
   "cell_type": "markdown",
   "id": "0f15874b",
   "metadata": {},
   "source": [
    "\n"
   ]
  }
 ],
 "metadata": {
  "language_info": {
   "name": "python"
  }
 },
 "nbformat": 4,
 "nbformat_minor": 5
}
