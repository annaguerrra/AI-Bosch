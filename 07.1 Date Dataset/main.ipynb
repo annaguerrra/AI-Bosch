{
 "cells": [
  {
   "cell_type": "markdown",
   "id": "834ab034",
   "metadata": {},
   "source": [
    "## *Commands*\n",
    "1. Importe o dataset\n",
    "2. Separe os dados de treino e treine\n",
    "3. Aplique o One-Hot Encolding nas variáveis categóricas\n",
    "4. Aplique a padronização dos dados StandardScaler\n",
    "5. receba entradas dos usuários fazendo perguntas sobre cada features indicando o tipo de resposta(0 a 10)\n",
    "6. Treine com todos os kernels e valores diferentes de C\n",
    "7. Compare os resultados automaticamente\n",
    "8. Responda ao usuário se ele terá ou não um segundo encontro\n"
   ]
  },
  {
   "cell_type": "markdown",
   "id": "19b64536",
   "metadata": {},
   "source": [
    "# Inputs"
   ]
  },
  {
   "cell_type": "code",
   "execution_count": null,
   "id": "d62ecd21",
   "metadata": {},
   "outputs": [],
   "source": [
    "def inputs():\n",
    "    chat = int(input(\"Evaluate from 0 to 10, conversation time: \"))\n",
    "    laugh = int(input(\"Evaluate from 0 to 10, conversation time: \"))\n",
    "    common_points = int(input(\"Evaluate from 0 to 10, conversation time: \"))\n",
    "    shyness = int(input(\"Evaluate from 0 to 10, conversation time: \"))\n",
    "    msg_before = int(input(\"Evaluate from 0 to 10, conversation time: \"))\n",
    "    life_moment = int(input(\"Evaluate from 0 to 10, conversation time: \"))\n",
    "    conversa = int(input(\"Evaluate from 0 to 10, conversation time: \"))\n",
    "    laugh = int"
   ]
  },
  {
   "cell_type": "code",
   "execution_count": 1,
   "id": "2313889e",
   "metadata": {},
   "outputs": [],
   "source": [
    "# install\n",
    "import pandas as pd\n",
    "import numpy as np      \n",
    "import matplotlib.pyplot as plt \n",
    "import seaborn as sns\n",
    "import plotly.express as px"
   ]
  },
  {
   "cell_type": "code",
   "execution_count": 4,
   "id": "5e4f06e1",
   "metadata": {},
   "outputs": [
    {
     "data": {
      "text/html": [
       "<div>\n",
       "<style scoped>\n",
       "    .dataframe tbody tr th:only-of-type {\n",
       "        vertical-align: middle;\n",
       "    }\n",
       "\n",
       "    .dataframe tbody tr th {\n",
       "        vertical-align: top;\n",
       "    }\n",
       "\n",
       "    .dataframe thead th {\n",
       "        text-align: right;\n",
       "    }\n",
       "</style>\n",
       "<table border=\"1\" class=\"dataframe\">\n",
       "  <thead>\n",
       "    <tr style=\"text-align: right;\">\n",
       "      <th></th>\n",
       "      <th>tempo_conversa_min</th>\n",
       "      <th>risadas</th>\n",
       "      <th>pontos_comuns</th>\n",
       "      <th>nivel_timidez</th>\n",
       "      <th>mensagens_antes</th>\n",
       "      <th>iniciativa_conversa</th>\n",
       "      <th>local_encontro</th>\n",
       "      <th>momento_da_vida</th>\n",
       "      <th>segundo_encontro</th>\n",
       "    </tr>\n",
       "  </thead>\n",
       "  <tbody>\n",
       "    <tr>\n",
       "      <th>0</th>\n",
       "      <td>112</td>\n",
       "      <td>16</td>\n",
       "      <td>6</td>\n",
       "      <td>0</td>\n",
       "      <td>45</td>\n",
       "      <td>8</td>\n",
       "      <td>Restaurante</td>\n",
       "      <td>Estressado</td>\n",
       "      <td>Sim</td>\n",
       "    </tr>\n",
       "    <tr>\n",
       "      <th>1</th>\n",
       "      <td>102</td>\n",
       "      <td>13</td>\n",
       "      <td>2</td>\n",
       "      <td>10</td>\n",
       "      <td>41</td>\n",
       "      <td>6</td>\n",
       "      <td>Bar</td>\n",
       "      <td>Estável</td>\n",
       "      <td>Sim</td>\n",
       "    </tr>\n",
       "    <tr>\n",
       "      <th>2</th>\n",
       "      <td>24</td>\n",
       "      <td>8</td>\n",
       "      <td>2</td>\n",
       "      <td>3</td>\n",
       "      <td>16</td>\n",
       "      <td>9</td>\n",
       "      <td>Café</td>\n",
       "      <td>Estável</td>\n",
       "      <td>Sim</td>\n",
       "    </tr>\n",
       "    <tr>\n",
       "      <th>3</th>\n",
       "      <td>116</td>\n",
       "      <td>7</td>\n",
       "      <td>4</td>\n",
       "      <td>0</td>\n",
       "      <td>8</td>\n",
       "      <td>4</td>\n",
       "      <td>Bar</td>\n",
       "      <td>Estressado</td>\n",
       "      <td>Sim</td>\n",
       "    </tr>\n",
       "    <tr>\n",
       "      <th>4</th>\n",
       "      <td>81</td>\n",
       "      <td>1</td>\n",
       "      <td>2</td>\n",
       "      <td>5</td>\n",
       "      <td>5</td>\n",
       "      <td>7</td>\n",
       "      <td>Parque</td>\n",
       "      <td>Estável</td>\n",
       "      <td>Não</td>\n",
       "    </tr>\n",
       "    <tr>\n",
       "      <th>...</th>\n",
       "      <td>...</td>\n",
       "      <td>...</td>\n",
       "      <td>...</td>\n",
       "      <td>...</td>\n",
       "      <td>...</td>\n",
       "      <td>...</td>\n",
       "      <td>...</td>\n",
       "      <td>...</td>\n",
       "      <td>...</td>\n",
       "    </tr>\n",
       "    <tr>\n",
       "      <th>995</th>\n",
       "      <td>129</td>\n",
       "      <td>19</td>\n",
       "      <td>6</td>\n",
       "      <td>0</td>\n",
       "      <td>25</td>\n",
       "      <td>8</td>\n",
       "      <td>Bar</td>\n",
       "      <td>Estável</td>\n",
       "      <td>Sim</td>\n",
       "    </tr>\n",
       "    <tr>\n",
       "      <th>996</th>\n",
       "      <td>68</td>\n",
       "      <td>17</td>\n",
       "      <td>5</td>\n",
       "      <td>6</td>\n",
       "      <td>12</td>\n",
       "      <td>3</td>\n",
       "      <td>Restaurante</td>\n",
       "      <td>Estável</td>\n",
       "      <td>Sim</td>\n",
       "    </tr>\n",
       "    <tr>\n",
       "      <th>997</th>\n",
       "      <td>137</td>\n",
       "      <td>5</td>\n",
       "      <td>3</td>\n",
       "      <td>7</td>\n",
       "      <td>7</td>\n",
       "      <td>7</td>\n",
       "      <td>Parque</td>\n",
       "      <td>Cansado</td>\n",
       "      <td>Sim</td>\n",
       "    </tr>\n",
       "    <tr>\n",
       "      <th>998</th>\n",
       "      <td>123</td>\n",
       "      <td>10</td>\n",
       "      <td>1</td>\n",
       "      <td>10</td>\n",
       "      <td>27</td>\n",
       "      <td>8</td>\n",
       "      <td>Bar</td>\n",
       "      <td>Estressado</td>\n",
       "      <td>Não</td>\n",
       "    </tr>\n",
       "    <tr>\n",
       "      <th>999</th>\n",
       "      <td>124</td>\n",
       "      <td>1</td>\n",
       "      <td>8</td>\n",
       "      <td>7</td>\n",
       "      <td>29</td>\n",
       "      <td>8</td>\n",
       "      <td>Café</td>\n",
       "      <td>Estável</td>\n",
       "      <td>Sim</td>\n",
       "    </tr>\n",
       "  </tbody>\n",
       "</table>\n",
       "<p>1000 rows × 9 columns</p>\n",
       "</div>"
      ],
      "text/plain": [
       "     tempo_conversa_min  risadas  pontos_comuns  nivel_timidez  \\\n",
       "0                   112       16              6              0   \n",
       "1                   102       13              2             10   \n",
       "2                    24        8              2              3   \n",
       "3                   116        7              4              0   \n",
       "4                    81        1              2              5   \n",
       "..                  ...      ...            ...            ...   \n",
       "995                 129       19              6              0   \n",
       "996                  68       17              5              6   \n",
       "997                 137        5              3              7   \n",
       "998                 123       10              1             10   \n",
       "999                 124        1              8              7   \n",
       "\n",
       "     mensagens_antes  iniciativa_conversa local_encontro momento_da_vida  \\\n",
       "0                 45                    8    Restaurante      Estressado   \n",
       "1                 41                    6            Bar         Estável   \n",
       "2                 16                    9           Café         Estável   \n",
       "3                  8                    4            Bar      Estressado   \n",
       "4                  5                    7         Parque         Estável   \n",
       "..               ...                  ...            ...             ...   \n",
       "995               25                    8            Bar         Estável   \n",
       "996               12                    3    Restaurante         Estável   \n",
       "997                7                    7         Parque         Cansado   \n",
       "998               27                    8            Bar      Estressado   \n",
       "999               29                    8           Café         Estável   \n",
       "\n",
       "    segundo_encontro  \n",
       "0                Sim  \n",
       "1                Sim  \n",
       "2                Sim  \n",
       "3                Sim  \n",
       "4                Não  \n",
       "..               ...  \n",
       "995              Sim  \n",
       "996              Sim  \n",
       "997              Sim  \n",
       "998              Não  \n",
       "999              Sim  \n",
       "\n",
       "[1000 rows x 9 columns]"
      ]
     },
     "execution_count": 4,
     "metadata": {},
     "output_type": "execute_result"
    }
   ],
   "source": [
    "db = pd.read_csv(\"base_segundo_encontro.csv\", encoding=\"latin1\", sep=\";\")\n",
    "db"
   ]
  },
  {
   "cell_type": "code",
   "execution_count": 7,
   "id": "5b80e76e",
   "metadata": {},
   "outputs": [
    {
     "data": {
      "text/plain": [
       "Index(['tempo_conversa_min', 'risadas', 'pontos_comuns', 'nivel_timidez',\n",
       "       'mensagens_antes', 'iniciativa_conversa', 'local_encontro',\n",
       "       'momento_da_vida', 'segundo_encontro'],\n",
       "      dtype='object')"
      ]
     },
     "execution_count": 7,
     "metadata": {},
     "output_type": "execute_result"
    }
   ],
   "source": [
    "# db.describe()\n",
    "# db.isnull().sum()\n",
    "db.columns"
   ]
  },
  {
   "cell_type": "code",
   "execution_count": 8,
   "id": "5eae14e0",
   "metadata": {},
   "outputs": [
    {
     "data": {
      "text/plain": [
       "<Axes: xlabel='segundo_encontro', ylabel='count'>"
      ]
     },
     "execution_count": 8,
     "metadata": {},
     "output_type": "execute_result"
    },
    {
     "data": {
      "image/png": "[encoded data removed]",
      "text/plain": [
       "<Figure size 640x480 with 1 Axes>"
      ]
     },
     "metadata": {},
     "output_type": "display_data"
    }
   ],
   "source": [
    "sns.countplot(x=db['segundo_encontro'], color=\"pink\")"
   ]
  },
  {
   "cell_type": "code",
   "execution_count": 21,
   "id": "9d89d1af",
   "metadata": {},
   "outputs": [],
   "source": [
    "x = db.iloc[:, 0:8].values\n",
    "y = db.iloc[0:8, 8].values"
   ]
  },
  {
   "cell_type": "markdown",
   "id": "92f75e59",
   "metadata": {},
   "source": [
    "## One-Hot Encoder"
   ]
  },
  {
   "cell_type": "code",
   "execution_count": 22,
   "id": "714b5df3",
   "metadata": {},
   "outputs": [],
   "source": [
    "from sklearn.preprocessing import OneHotEncoder\n",
    "from sklearn.compose import ColumnTransformer\n",
    "\n",
    "onehot_encoder = ColumnTransformer(transformers=[\n",
    "    ('OneHot1', OneHotEncoder(), [6]),\n",
    "    ('OneHot2', OneHotEncoder(), [7])],\n",
    "     \n",
    "      remainder='passthrough')"
   ]
  },
  {
   "cell_type": "code",
   "execution_count": 24,
   "id": "f4984e94",
   "metadata": {},
   "outputs": [
    {
     "data": {
      "text/plain": [
       "<Compressed Sparse Row sparse matrix of dtype 'float64'\n",
       "\twith 8 stored elements and shape (1, 153)>"
      ]
     },
     "execution_count": 24,
     "metadata": {},
     "output_type": "execute_result"
    }
   ],
   "source": [
    "x = onehot_encoder.fit_transform(x)\n",
    "x[0]"
   ]
  },
  {
   "cell_type": "code",
   "execution_count": 25,
   "id": "2b49474c",
   "metadata": {},
   "outputs": [
    {
     "data": {
      "text/plain": [
       "(1000, 153)"
      ]
     },
     "execution_count": 25,
     "metadata": {},
     "output_type": "execute_result"
    }
   ],
   "source": [
    "x.shape"
   ]
  },
  {
   "cell_type": "code",
   "execution_count": 28,
   "id": "8ca4955f",
   "metadata": {},
   "outputs": [],
   "source": [
    "from sklearn.model_selection import train_test_split\n",
    "\n"
   ]
  }
 ],
 "metadata": {
  "kernelspec": {
   "display_name": "Python 3",
   "language": "python",
   "name": "python3"
  },
  "language_info": {
   "codemirror_mode": {
    "name": "ipython",
    "version": 3
   },
   "file_extension": ".py",
   "mimetype": "text/x-python",
   "name": "python",
   "nbconvert_exporter": "python",
   "pygments_lexer": "ipython3",
   "version": "3.12.1"
  }
 },
 "nbformat": 4,
 "nbformat_minor": 5
}
