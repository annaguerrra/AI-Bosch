{
 "cells": [
  {
   "cell_type": "code",
   "execution_count": 23,
   "id": "70b220c9",
   "metadata": {},
   "outputs": [],
   "source": [
    "# install\n",
    "import pandas as pd\n",
    "import numpy as np      \n",
    "import matplotlib.pyplot as plt \n",
    "import seaborn as sns\n",
    "import plotly.express as px"
   ]
  },
  {
   "cell_type": "code",
   "execution_count": 24,
   "id": "db06b9e8",
   "metadata": {},
   "outputs": [
    {
     "data": {
      "text/html": [
       "<div>\n",
       "<style scoped>\n",
       "    .dataframe tbody tr th:only-of-type {\n",
       "        vertical-align: middle;\n",
       "    }\n",
       "\n",
       "    .dataframe tbody tr th {\n",
       "        vertical-align: top;\n",
       "    }\n",
       "\n",
       "    .dataframe thead th {\n",
       "        text-align: right;\n",
       "    }\n",
       "</style>\n",
       "<table border=\"1\" class=\"dataframe\">\n",
       "  <thead>\n",
       "    <tr style=\"text-align: right;\">\n",
       "      <th></th>\n",
       "      <th>Breed</th>\n",
       "      <th>Age_in_years</th>\n",
       "      <th>Age_in_months</th>\n",
       "      <th>Gender</th>\n",
       "      <th>Neutered_or_spayed</th>\n",
       "      <th>Body_length</th>\n",
       "      <th>Weight</th>\n",
       "      <th>Fur_colour_dominant</th>\n",
       "      <th>Fur_pattern</th>\n",
       "      <th>Eye_colour</th>\n",
       "      <th>Allowed_outdoor</th>\n",
       "      <th>Preferred_food</th>\n",
       "      <th>Owner_play_time_minutes</th>\n",
       "      <th>Sleep_time_hours</th>\n",
       "      <th>Country</th>\n",
       "      <th>Latitude</th>\n",
       "      <th>Longitude</th>\n",
       "    </tr>\n",
       "  </thead>\n",
       "  <tbody>\n",
       "    <tr>\n",
       "      <th>0</th>\n",
       "      <td>Angora</td>\n",
       "      <td>0.25</td>\n",
       "      <td>3</td>\n",
       "      <td>female</td>\n",
       "      <td>False</td>\n",
       "      <td>19</td>\n",
       "      <td>2.0</td>\n",
       "      <td>white</td>\n",
       "      <td>solid</td>\n",
       "      <td>blue</td>\n",
       "      <td>False</td>\n",
       "      <td>wet</td>\n",
       "      <td>46</td>\n",
       "      <td>16</td>\n",
       "      <td>France</td>\n",
       "      <td>43.296482</td>\n",
       "      <td>5.369780</td>\n",
       "    </tr>\n",
       "    <tr>\n",
       "      <th>1</th>\n",
       "      <td>Angora</td>\n",
       "      <td>0.33</td>\n",
       "      <td>4</td>\n",
       "      <td>male</td>\n",
       "      <td>False</td>\n",
       "      <td>19</td>\n",
       "      <td>2.5</td>\n",
       "      <td>white</td>\n",
       "      <td>solid</td>\n",
       "      <td>blue</td>\n",
       "      <td>False</td>\n",
       "      <td>wet</td>\n",
       "      <td>48</td>\n",
       "      <td>16</td>\n",
       "      <td>France</td>\n",
       "      <td>43.611660</td>\n",
       "      <td>3.877710</td>\n",
       "    </tr>\n",
       "    <tr>\n",
       "      <th>2</th>\n",
       "      <td>Angora</td>\n",
       "      <td>0.50</td>\n",
       "      <td>6</td>\n",
       "      <td>male</td>\n",
       "      <td>False</td>\n",
       "      <td>20</td>\n",
       "      <td>2.8</td>\n",
       "      <td>black</td>\n",
       "      <td>solid</td>\n",
       "      <td>green</td>\n",
       "      <td>False</td>\n",
       "      <td>wet</td>\n",
       "      <td>41</td>\n",
       "      <td>11</td>\n",
       "      <td>France</td>\n",
       "      <td>44.837789</td>\n",
       "      <td>-0.579180</td>\n",
       "    </tr>\n",
       "    <tr>\n",
       "      <th>3</th>\n",
       "      <td>Angora</td>\n",
       "      <td>0.50</td>\n",
       "      <td>6</td>\n",
       "      <td>female</td>\n",
       "      <td>False</td>\n",
       "      <td>21</td>\n",
       "      <td>3.0</td>\n",
       "      <td>white</td>\n",
       "      <td>solid</td>\n",
       "      <td>blue</td>\n",
       "      <td>False</td>\n",
       "      <td>wet</td>\n",
       "      <td>24</td>\n",
       "      <td>8</td>\n",
       "      <td>France</td>\n",
       "      <td>43.611660</td>\n",
       "      <td>3.877710</td>\n",
       "    </tr>\n",
       "    <tr>\n",
       "      <th>4</th>\n",
       "      <td>Angora</td>\n",
       "      <td>0.50</td>\n",
       "      <td>6</td>\n",
       "      <td>male</td>\n",
       "      <td>False</td>\n",
       "      <td>21</td>\n",
       "      <td>3.0</td>\n",
       "      <td>red/cream</td>\n",
       "      <td>tabby</td>\n",
       "      <td>green</td>\n",
       "      <td>False</td>\n",
       "      <td>wet</td>\n",
       "      <td>51</td>\n",
       "      <td>10</td>\n",
       "      <td>France</td>\n",
       "      <td>48.864716</td>\n",
       "      <td>2.349014</td>\n",
       "    </tr>\n",
       "    <tr>\n",
       "      <th>...</th>\n",
       "      <td>...</td>\n",
       "      <td>...</td>\n",
       "      <td>...</td>\n",
       "      <td>...</td>\n",
       "      <td>...</td>\n",
       "      <td>...</td>\n",
       "      <td>...</td>\n",
       "      <td>...</td>\n",
       "      <td>...</td>\n",
       "      <td>...</td>\n",
       "      <td>...</td>\n",
       "      <td>...</td>\n",
       "      <td>...</td>\n",
       "      <td>...</td>\n",
       "      <td>...</td>\n",
       "      <td>...</td>\n",
       "      <td>...</td>\n",
       "    </tr>\n",
       "    <tr>\n",
       "      <th>1066</th>\n",
       "      <td>Maine coon</td>\n",
       "      <td>0.17</td>\n",
       "      <td>2</td>\n",
       "      <td>female</td>\n",
       "      <td>False</td>\n",
       "      <td>15</td>\n",
       "      <td>1.2</td>\n",
       "      <td>white</td>\n",
       "      <td>solid</td>\n",
       "      <td>blue</td>\n",
       "      <td>False</td>\n",
       "      <td>wet</td>\n",
       "      <td>35</td>\n",
       "      <td>20</td>\n",
       "      <td>UK</td>\n",
       "      <td>51.507351</td>\n",
       "      <td>-0.127758</td>\n",
       "    </tr>\n",
       "    <tr>\n",
       "      <th>1067</th>\n",
       "      <td>Maine coon</td>\n",
       "      <td>0.17</td>\n",
       "      <td>2</td>\n",
       "      <td>female</td>\n",
       "      <td>False</td>\n",
       "      <td>17</td>\n",
       "      <td>1.0</td>\n",
       "      <td>black</td>\n",
       "      <td>bicolor</td>\n",
       "      <td>blue</td>\n",
       "      <td>False</td>\n",
       "      <td>wet</td>\n",
       "      <td>36</td>\n",
       "      <td>19</td>\n",
       "      <td>UK</td>\n",
       "      <td>51.507351</td>\n",
       "      <td>-0.127758</td>\n",
       "    </tr>\n",
       "    <tr>\n",
       "      <th>1068</th>\n",
       "      <td>Maine coon</td>\n",
       "      <td>0.17</td>\n",
       "      <td>2</td>\n",
       "      <td>male</td>\n",
       "      <td>False</td>\n",
       "      <td>14</td>\n",
       "      <td>0.7</td>\n",
       "      <td>red/cream</td>\n",
       "      <td>tabby</td>\n",
       "      <td>blue</td>\n",
       "      <td>False</td>\n",
       "      <td>wet</td>\n",
       "      <td>20</td>\n",
       "      <td>20</td>\n",
       "      <td>UK</td>\n",
       "      <td>51.507351</td>\n",
       "      <td>-0.127758</td>\n",
       "    </tr>\n",
       "    <tr>\n",
       "      <th>1069</th>\n",
       "      <td>Maine coon</td>\n",
       "      <td>0.17</td>\n",
       "      <td>2</td>\n",
       "      <td>male</td>\n",
       "      <td>False</td>\n",
       "      <td>16</td>\n",
       "      <td>1.1</td>\n",
       "      <td>red/cream</td>\n",
       "      <td>tabby</td>\n",
       "      <td>green</td>\n",
       "      <td>False</td>\n",
       "      <td>wet</td>\n",
       "      <td>34</td>\n",
       "      <td>19</td>\n",
       "      <td>UK</td>\n",
       "      <td>52.486244</td>\n",
       "      <td>-1.890401</td>\n",
       "    </tr>\n",
       "    <tr>\n",
       "      <th>1070</th>\n",
       "      <td>Maine coon</td>\n",
       "      <td>0.17</td>\n",
       "      <td>2</td>\n",
       "      <td>female</td>\n",
       "      <td>False</td>\n",
       "      <td>15</td>\n",
       "      <td>1.1</td>\n",
       "      <td>red/cream</td>\n",
       "      <td>solid</td>\n",
       "      <td>blue</td>\n",
       "      <td>False</td>\n",
       "      <td>wet</td>\n",
       "      <td>39</td>\n",
       "      <td>20</td>\n",
       "      <td>UK</td>\n",
       "      <td>51.507351</td>\n",
       "      <td>-0.127758</td>\n",
       "    </tr>\n",
       "  </tbody>\n",
       "</table>\n",
       "<p>1071 rows × 17 columns</p>\n",
       "</div>"
      ],
      "text/plain": [
       "           Breed  Age_in_years  Age_in_months  Gender  Neutered_or_spayed  \\\n",
       "0         Angora          0.25              3  female               False   \n",
       "1         Angora          0.33              4    male               False   \n",
       "2         Angora          0.50              6    male               False   \n",
       "3         Angora          0.50              6  female               False   \n",
       "4         Angora          0.50              6    male               False   \n",
       "...          ...           ...            ...     ...                 ...   \n",
       "1066  Maine coon          0.17              2  female               False   \n",
       "1067  Maine coon          0.17              2  female               False   \n",
       "1068  Maine coon          0.17              2    male               False   \n",
       "1069  Maine coon          0.17              2    male               False   \n",
       "1070  Maine coon          0.17              2  female               False   \n",
       "\n",
       "      Body_length  Weight Fur_colour_dominant Fur_pattern Eye_colour  \\\n",
       "0              19     2.0               white       solid       blue   \n",
       "1              19     2.5               white       solid       blue   \n",
       "2              20     2.8               black       solid      green   \n",
       "3              21     3.0               white       solid       blue   \n",
       "4              21     3.0           red/cream       tabby      green   \n",
       "...           ...     ...                 ...         ...        ...   \n",
       "1066           15     1.2               white       solid       blue   \n",
       "1067           17     1.0               black     bicolor       blue   \n",
       "1068           14     0.7           red/cream       tabby       blue   \n",
       "1069           16     1.1           red/cream       tabby      green   \n",
       "1070           15     1.1           red/cream       solid       blue   \n",
       "\n",
       "      Allowed_outdoor Preferred_food  Owner_play_time_minutes  \\\n",
       "0               False            wet                       46   \n",
       "1               False            wet                       48   \n",
       "2               False            wet                       41   \n",
       "3               False            wet                       24   \n",
       "4               False            wet                       51   \n",
       "...               ...            ...                      ...   \n",
       "1066            False            wet                       35   \n",
       "1067            False            wet                       36   \n",
       "1068            False            wet                       20   \n",
       "1069            False            wet                       34   \n",
       "1070            False            wet                       39   \n",
       "\n",
       "      Sleep_time_hours Country   Latitude  Longitude  \n",
       "0                   16  France  43.296482   5.369780  \n",
       "1                   16  France  43.611660   3.877710  \n",
       "2                   11  France  44.837789  -0.579180  \n",
       "3                    8  France  43.611660   3.877710  \n",
       "4                   10  France  48.864716   2.349014  \n",
       "...                ...     ...        ...        ...  \n",
       "1066                20      UK  51.507351  -0.127758  \n",
       "1067                19      UK  51.507351  -0.127758  \n",
       "1068                20      UK  51.507351  -0.127758  \n",
       "1069                19      UK  52.486244  -1.890401  \n",
       "1070                20      UK  51.507351  -0.127758  \n",
       "\n",
       "[1071 rows x 17 columns]"
      ]
     },
     "execution_count": 24,
     "metadata": {},
     "output_type": "execute_result"
    }
   ],
   "source": [
    "db = pd.read_csv(\"cat_breeds.csv\", sep=\";\")\n",
    "db"
   ]
  },
  {
   "cell_type": "code",
   "execution_count": 25,
   "id": "fdec49f1",
   "metadata": {},
   "outputs": [
    {
     "data": {
      "text/html": [
       "<div>\n",
       "<style scoped>\n",
       "    .dataframe tbody tr th:only-of-type {\n",
       "        vertical-align: middle;\n",
       "    }\n",
       "\n",
       "    .dataframe tbody tr th {\n",
       "        vertical-align: top;\n",
       "    }\n",
       "\n",
       "    .dataframe thead th {\n",
       "        text-align: right;\n",
       "    }\n",
       "</style>\n",
       "<table border=\"1\" class=\"dataframe\">\n",
       "  <thead>\n",
       "    <tr style=\"text-align: right;\">\n",
       "      <th></th>\n",
       "      <th>Age_in_years</th>\n",
       "      <th>Age_in_months</th>\n",
       "      <th>Body_length</th>\n",
       "      <th>Weight</th>\n",
       "      <th>Owner_play_time_minutes</th>\n",
       "      <th>Sleep_time_hours</th>\n",
       "      <th>Latitude</th>\n",
       "      <th>Longitude</th>\n",
       "    </tr>\n",
       "  </thead>\n",
       "  <tbody>\n",
       "    <tr>\n",
       "      <th>count</th>\n",
       "      <td>1071.000000</td>\n",
       "      <td>1071.000000</td>\n",
       "      <td>1071.000000</td>\n",
       "      <td>1071.000000</td>\n",
       "      <td>1071.000000</td>\n",
       "      <td>1071.000000</td>\n",
       "      <td>1071.000000</td>\n",
       "      <td>1071.000000</td>\n",
       "    </tr>\n",
       "    <tr>\n",
       "      <th>mean</th>\n",
       "      <td>4.845462</td>\n",
       "      <td>58.145658</td>\n",
       "      <td>44.003735</td>\n",
       "      <td>5.494613</td>\n",
       "      <td>23.049486</td>\n",
       "      <td>15.889823</td>\n",
       "      <td>44.439720</td>\n",
       "      <td>-60.178554</td>\n",
       "    </tr>\n",
       "    <tr>\n",
       "      <th>std</th>\n",
       "      <td>2.737469</td>\n",
       "      <td>32.849889</td>\n",
       "      <td>16.310308</td>\n",
       "      <td>2.292242</td>\n",
       "      <td>10.840922</td>\n",
       "      <td>2.621443</td>\n",
       "      <td>4.965876</td>\n",
       "      <td>45.364141</td>\n",
       "    </tr>\n",
       "    <tr>\n",
       "      <th>min</th>\n",
       "      <td>0.080000</td>\n",
       "      <td>1.000000</td>\n",
       "      <td>10.000000</td>\n",
       "      <td>0.500000</td>\n",
       "      <td>0.000000</td>\n",
       "      <td>8.000000</td>\n",
       "      <td>37.774930</td>\n",
       "      <td>-123.116226</td>\n",
       "    </tr>\n",
       "    <tr>\n",
       "      <th>25%</th>\n",
       "      <td>2.670000</td>\n",
       "      <td>32.000000</td>\n",
       "      <td>35.000000</td>\n",
       "      <td>3.900000</td>\n",
       "      <td>14.000000</td>\n",
       "      <td>14.000000</td>\n",
       "      <td>40.714270</td>\n",
       "      <td>-77.036370</td>\n",
       "    </tr>\n",
       "    <tr>\n",
       "      <th>50%</th>\n",
       "      <td>4.920000</td>\n",
       "      <td>59.000000</td>\n",
       "      <td>41.000000</td>\n",
       "      <td>5.000000</td>\n",
       "      <td>23.000000</td>\n",
       "      <td>16.000000</td>\n",
       "      <td>42.358430</td>\n",
       "      <td>-74.005970</td>\n",
       "    </tr>\n",
       "    <tr>\n",
       "      <th>75%</th>\n",
       "      <td>7.040000</td>\n",
       "      <td>84.500000</td>\n",
       "      <td>51.000000</td>\n",
       "      <td>7.075000</td>\n",
       "      <td>31.000000</td>\n",
       "      <td>18.000000</td>\n",
       "      <td>48.864716</td>\n",
       "      <td>-1.890401</td>\n",
       "    </tr>\n",
       "    <tr>\n",
       "      <th>max</th>\n",
       "      <td>11.250000</td>\n",
       "      <td>135.000000</td>\n",
       "      <td>102.000000</td>\n",
       "      <td>12.100000</td>\n",
       "      <td>60.000000</td>\n",
       "      <td>22.000000</td>\n",
       "      <td>53.800755</td>\n",
       "      <td>13.404954</td>\n",
       "    </tr>\n",
       "  </tbody>\n",
       "</table>\n",
       "</div>"
      ],
      "text/plain": [
       "       Age_in_years  Age_in_months  Body_length       Weight  \\\n",
       "count   1071.000000    1071.000000  1071.000000  1071.000000   \n",
       "mean       4.845462      58.145658    44.003735     5.494613   \n",
       "std        2.737469      32.849889    16.310308     2.292242   \n",
       "min        0.080000       1.000000    10.000000     0.500000   \n",
       "25%        2.670000      32.000000    35.000000     3.900000   \n",
       "50%        4.920000      59.000000    41.000000     5.000000   \n",
       "75%        7.040000      84.500000    51.000000     7.075000   \n",
       "max       11.250000     135.000000   102.000000    12.100000   \n",
       "\n",
       "       Owner_play_time_minutes  Sleep_time_hours     Latitude    Longitude  \n",
       "count              1071.000000       1071.000000  1071.000000  1071.000000  \n",
       "mean                 23.049486         15.889823    44.439720   -60.178554  \n",
       "std                  10.840922          2.621443     4.965876    45.364141  \n",
       "min                   0.000000          8.000000    37.774930  -123.116226  \n",
       "25%                  14.000000         14.000000    40.714270   -77.036370  \n",
       "50%                  23.000000         16.000000    42.358430   -74.005970  \n",
       "75%                  31.000000         18.000000    48.864716    -1.890401  \n",
       "max                  60.000000         22.000000    53.800755    13.404954  "
      ]
     },
     "execution_count": 25,
     "metadata": {},
     "output_type": "execute_result"
    }
   ],
   "source": [
    "db.describe()"
   ]
  },
  {
   "cell_type": "code",
   "execution_count": 26,
   "id": "886ad5c5",
   "metadata": {},
   "outputs": [
    {
     "data": {
      "text/plain": [
       "Breed                      0\n",
       "Age_in_years               0\n",
       "Age_in_months              0\n",
       "Gender                     0\n",
       "Neutered_or_spayed         0\n",
       "Body_length                0\n",
       "Weight                     0\n",
       "Fur_colour_dominant        0\n",
       "Fur_pattern                0\n",
       "Eye_colour                 0\n",
       "Allowed_outdoor            0\n",
       "Preferred_food             0\n",
       "Owner_play_time_minutes    0\n",
       "Sleep_time_hours           0\n",
       "Country                    0\n",
       "Latitude                   0\n",
       "Longitude                  0\n",
       "dtype: int64"
      ]
     },
     "execution_count": 26,
     "metadata": {},
     "output_type": "execute_result"
    }
   ],
   "source": [
    "db.isnull().sum()"
   ]
  },
  {
   "cell_type": "markdown",
   "id": "6d603b85",
   "metadata": {},
   "source": [
    "The target is db[\"Breed\"], refers to the cats breeds in this case there are only three, as shown below"
   ]
  },
  {
   "cell_type": "code",
   "execution_count": 27,
   "id": "54156801",
   "metadata": {},
   "outputs": [
    {
     "data": {
      "text/plain": [
       "(array(['Angora', 'Maine coon', 'Ragdoll'], dtype=object),\n",
       " array([294, 342, 435], dtype=int64))"
      ]
     },
     "execution_count": 27,
     "metadata": {},
     "output_type": "execute_result"
    }
   ],
   "source": [
    "np.unique(db[\"Breed\"], return_counts=True)"
   ]
  },
  {
   "cell_type": "markdown",
   "id": "e407f01d",
   "metadata": {},
   "source": [
    "sns.countplot is used to visualize the frequency distribution of a categorical variabel. It generates a bar chart where the height of each bar represents the total number of observations for each unique category. (The graphic is pretty much the same as the quantity one, lower on the page.)"
   ]
  },
  {
   "cell_type": "markdown",
   "id": "9b97a115",
   "metadata": {},
   "source": [
    "# Graphics and Data Analysis"
   ]
  },
  {
   "cell_type": "code",
   "execution_count": 28,
   "id": "c756948a",
   "metadata": {},
   "outputs": [
    {
     "data": {
      "text/plain": [
       "<Axes: xlabel='Breed', ylabel='count'>"
      ]
     },
     "execution_count": 28,
     "metadata": {},
     "output_type": "execute_result"
    },
    {
     "data": {
      "image/png": "[encoded data removed]",
      "text/plain": [
       "<Figure size 640x480 with 1 Axes>"
      ]
     },
     "metadata": {},
     "output_type": "display_data"
    }
   ],
   "source": [
    "sns.countplot(x=db[\"Breed\"], color=\"pink\")"
   ]
  },
  {
   "cell_type": "code",
   "execution_count": 29,
   "id": "9c667b06",
   "metadata": {},
   "outputs": [
    {
     "data": {
      "text/plain": [
       "Text(0.5, 1.0, 'Age Histogram')"
      ]
     },
     "execution_count": 29,
     "metadata": {},
     "output_type": "execute_result"
    },
    {
     "data": {
      "image/png": "[encoded data removed]",
      "text/plain": [
       "<Figure size 640x480 with 1 Axes>"
      ]
     },
     "metadata": {},
     "output_type": "display_data"
    }
   ],
   "source": [
    "plt.hist(x=db[\"Age_in_years\"], color=\"pink\")\n",
    "plt.title(\"Age Histogram\")"
   ]
  },
  {
   "cell_type": "markdown",
   "id": "5ebbf4ad",
   "metadata": {},
   "source": [
    "Most cats live around 6 - 10 years, acording to the graphic."
   ]
  },
  {
   "cell_type": "code",
   "execution_count": 30,
   "id": "53481f2b",
   "metadata": {},
   "outputs": [
    {
     "data": {
      "application/vnd.plotly.v1+json": {
       "config": {
        "plotlyServerURL": "https://plot.ly"
       },
       "data": [
        {
         "branchvalues": "total",
         "customdata": [
          [
           "female"
          ],
          [
           "female"
          ],
          [
           "female"
          ],
          [
           "female"
          ],
          [
           "female"
          ],
          [
           "female"
          ],
          [
           "female"
          ],
          [
           "female"
          ],
          [
           "female"
          ],
          [
           "female"
          ],
          [
           "female"
          ],
          [
           "female"
          ],
          [
           "female"
          ],
          [
           "female"
          ],
          [
           "female"
          ],
          [
           "female"
          ],
          [
           "female"
          ],
          [
           "female"
          ],
          [
           "female"
          ],
          [
           "female"
          ],
          [
           "female"
          ],
          [
           "female"
          ],
          [
           "female"
          ],
          [
           "female"
          ],
          [
           "female"
          ],
          [
           "female"
          ],
          [
           "female"
          ],
          [
           "female"
          ],
          [
           "female"
          ],
          [
           "female"
          ],
          [
           "female"
          ],
          [
           "female"
          ],
          [
           "female"
          ],
          [
           "female"
          ],
          [
           "female"
          ],
          [
           "female"
          ],
          [
           "female"
          ],
          [
           "female"
          ],
          [
           "female"
          ],
          [
           "female"
          ],
          [
           "female"
          ],
          [
           "female"
          ],
          [
           "female"
          ],
          [
           "female"
          ],
          [
           "female"
          ],
          [
           "female"
          ],
          [
           "female"
          ],
          [
           "female"
          ],
          [
           "female"
          ],
          [
           "female"
          ],
          [
           "female"
          ],
          [
           "female"
          ],
          [
           "female"
          ],
          [
           "female"
          ],
          [
           "female"
          ],
          [
           "female"
          ],
          [
           "female"
          ],
          [
           "female"
          ],
          [
           "female"
          ],
          [
           "female"
          ],
          [
           "female"
          ],
          [
           "female"
          ],
          [
           "female"
          ],
          [
           "female"
          ],
          [
           "female"
          ],
          [
           "female"
          ],
          [
           "female"
          ],
          [
           "female"
          ],
          [
           "female"
          ],
          [
           "female"
          ],
          [
           "female"
          ],
          [
           "female"
          ],
          [
           "female"
          ],
          [
           "female"
          ],
          [
           "female"
          ],
          [
           "female"
          ],
          [
           "female"
          ],
          [
           "female"
          ],
          [
           "female"
          ],
          [
           "female"
          ],
          [
           "female"
          ],
          [
           "female"
          ],
          [
           "female"
          ],
          [
           "female"
          ],
          [
           "female"
          ],
          [
           "female"
          ],
          [
           "female"
          ],
          [
           "female"
          ],
          [
           "female"
          ],
          [
           "female"
          ],
          [
           "female"
          ],
          [
           "female"
          ],
          [
           "female"
          ],
          [
           "female"
          ],
          [
           "female"
          ],
          [
           "female"
          ],
          [
           "female"
          ],
          [
           "female"
          ],
          [
           "female"
          ],
          [
           "female"
          ],
          [
           "female"
          ],
          [
           "female"
          ],
          [
           "female"
          ],
          [
           "female"
          ],
          [
           "female"
          ],
          [
           "female"
          ],
          [
           "female"
          ],
          [
           "female"
          ],
          [
           "female"
          ],
          [
           "female"
          ],
          [
           "female"
          ],
          [
           "female"
          ],
          [
           "female"
          ],
          [
           "female"
          ],
          [
           "female"
          ],
          [
           "female"
          ],
          [
           "female"
          ],
          [
           "female"
          ],
          [
           "female"
          ],
          [
           "female"
          ],
          [
           "female"
          ],
          [
           "female"
          ],
          [
           "male"
          ],
          [
           "male"
          ],
          [
           "male"
          ],
          [
           "male"
          ],
          [
           "male"
          ],
          [
           "male"
          ],
          [
           "male"
          ],
          [
           "male"
          ],
          [
           "male"
          ],
          [
           "male"
          ],
          [
           "male"
          ],
          [
           "male"
          ],
          [
           "male"
          ],
          [
           "male"
          ],
          [
           "male"
          ],
          [
           "male"
          ],
          [
           "male"
          ],
          [
           "male"
          ],
          [
           "male"
          ],
          [
           "male"
          ],
          [
           "male"
          ],
          [
           "male"
          ],
          [
           "male"
          ],
          [
           "male"
          ],
          [
           "male"
          ],
          [
           "male"
          ],
          [
           "male"
          ],
          [
           "male"
          ],
          [
           "male"
          ],
          [
           "male"
          ],
          [
           "male"
          ],
          [
           "male"
          ],
          [
           "male"
          ],
          [
           "male"
          ],
          [
           "male"
          ],
          [
           "male"
          ],
          [
           "male"
          ],
          [
           "male"
          ],
          [
           "male"
          ],
          [
           "male"
          ],
          [
           "male"
          ],
          [
           "male"
          ],
          [
           "male"
          ],
          [
           "male"
          ],
          [
           "male"
          ],
          [
           "male"
          ],
          [
           "male"
          ],
          [
           "male"
          ],
          [
           "male"
          ],
          [
           "male"
          ],
          [
           "male"
          ],
          [
           "male"
          ],
          [
           "male"
          ],
          [
           "male"
          ],
          [
           "male"
          ],
          [
           "male"
          ],
          [
           "male"
          ],
          [
           "male"
          ],
          [
           "male"
          ],
          [
           "male"
          ],
          [
           "male"
          ],
          [
           "male"
          ],
          [
           "male"
          ],
          [
           "male"
          ],
          [
           "male"
          ],
          [
           "male"
          ],
          [
           "male"
          ],
          [
           "male"
          ],
          [
           "male"
          ],
          [
           "male"
          ],
          [
           "male"
          ],
          [
           "male"
          ],
          [
           "male"
          ],
          [
           "male"
          ],
          [
           "male"
          ],
          [
           "male"
          ],
          [
           "male"
          ],
          [
           "male"
          ],
          [
           "male"
          ],
          [
           "male"
          ],
          [
           "male"
          ],
          [
           "male"
          ],
          [
           "male"
          ],
          [
           "male"
          ],
          [
           "male"
          ],
          [
           "male"
          ],
          [
           "male"
          ],
          [
           "male"
          ],
          [
           "male"
          ],
          [
           "male"
          ],
          [
           "male"
          ],
          [
           "male"
          ],
          [
           "male"
          ],
          [
           "male"
          ],
          [
           "male"
          ],
          [
           "male"
          ],
          [
           "male"
          ],
          [
           "male"
          ],
          [
           "male"
          ],
          [
           "male"
          ],
          [
           "male"
          ],
          [
           "male"
          ],
          [
           "male"
          ],
          [
           "male"
          ],
          [
           "male"
          ],
          [
           "male"
          ],
          [
           "male"
          ],
          [
           "male"
          ],
          [
           "male"
          ],
          [
           "male"
          ],
          [
           "male"
          ],
          [
           "male"
          ],
          [
           "male"
          ],
          [
           "male"
          ],
          [
           "male"
          ]
         ],
         "domain": {
          "x": [
           0,
           1
          ],
          "y": [
           0,
           1
          ]
         },
         "hovertemplate": "labels=%{label}<br>count=%{value}<br>parent=%{parent}<br>id=%{id}<br>Gender=%{customdata[0]}<extra></extra>",
         "ids": [
          "female/0.25",
          "female/6.75",
          "female/6.67",
          "female/2.75",
          "female/6.5",
          "female/2.83",
          "female/6.33",
          "female/6.08",
          "female/3.08",
          "female/6.0",
          "female/3.33",
          "female/5.92",
          "female/5.75",
          "female/3.75",
          "female/3.83",
          "female/6.83",
          "female/4.42",
          "female/5.42",
          "female/5.33",
          "female/5.25",
          "female/5.17",
          "female/5.08",
          "female/5.5",
          "female/5.58",
          "female/5.0",
          "female/9.83",
          "female/4.83",
          "female/5.67",
          "female/4.75",
          "female/4.58",
          "female/6.17",
          "female/4.5",
          "female/6.92",
          "female/1.5",
          "female/7.08",
          "female/9.67",
          "female/3.0",
          "female/9.5",
          "female/6.42",
          "female/4.25",
          "female/8.42",
          "female/9.33",
          "female/9.17",
          "female/7.33",
          "female/9.0",
          "female/8.92",
          "female/7.5",
          "female/8.67",
          "female/7.17",
          "female/10.0",
          "female/7.0",
          "female/5.83",
          "female/1.33",
          "female/7.25",
          "female/7.42",
          "female",
          "female/1.0",
          "female/7.75",
          "female/4.33",
          "female/3.67",
          "female/0.75",
          "female/8.0",
          "female/1.08",
          "female/8.08",
          "female/4.0",
          "female/8.25",
          "female/7.83",
          "female/6.25",
          "female/4.92",
          "female/4.17",
          "female/9.58",
          "female/2.0",
          "female/10.25",
          "female/1.83",
          "female/1.75",
          "female/0.33",
          "female/1.67",
          "female/0.42",
          "female/3.42",
          "female/1.58",
          "female/0.83",
          "female/2.42",
          "female/3.25",
          "female/1.25",
          "female/2.08",
          "female/4.67",
          "female/7.92",
          "female/1.17",
          "female/8.83",
          "female/0.92",
          "female/1.42",
          "female/9.25",
          "female/10.83",
          "female/9.92",
          "female/10.5",
          "female/0.67",
          "female/0.58",
          "female/0.5",
          "female/0.17",
          "female/0.08",
          "female/6.58",
          "female/2.17",
          "female/1.92",
          "female/8.17",
          "female/3.17",
          "female/7.58",
          "female/8.33",
          "female/8.75",
          "female/3.5",
          "female/2.92",
          "female/3.58",
          "female/2.67",
          "female/2.58",
          "female/8.5",
          "female/2.5",
          "female/8.58",
          "female/4.08",
          "female/3.92",
          "female/9.42",
          "female/2.25",
          "female/2.33",
          "female/7.67",
          "male/10.0",
          "male/7.42",
          "male/9.83",
          "male/6.17",
          "male/0.08",
          "male/7.5",
          "male/8.25",
          "male/11.25",
          "male/8.75",
          "male/8.92",
          "male/2.17",
          "male/0.42",
          "male/0.17",
          "male/1.92",
          "male/9.5",
          "male/1.75",
          "male/1.58",
          "male/2.83",
          "male/6.83",
          "male/1.42",
          "male/9.33",
          "male/1.17",
          "male/8.17",
          "male/3.58",
          "male/3.17",
          "male/9.17",
          "male/9.0",
          "male/3.33",
          "male/9.42",
          "male/4.67",
          "male/5.25",
          "male/9.75",
          "male/7.58",
          "male/9.67",
          "male/2.0",
          "male/2.08",
          "male/2.25",
          "male/2.33",
          "male/2.42",
          "male/2.5",
          "male/2.58",
          "male/1.83",
          "male/2.67",
          "male/3.08",
          "male/3.25",
          "male/3.42",
          "male/3.5",
          "male/3.67",
          "male/3.75",
          "male/3.83",
          "male/2.92",
          "male/1.67",
          "male/4.75",
          "male/4.5",
          "male/0.33",
          "male/0.5",
          "male/0.58",
          "male/0.67",
          "male/0.75",
          "male/1.08",
          "male/1.33",
          "male/0.83",
          "male/1.0",
          "male/4.33",
          "male/3.0",
          "male/4.0",
          "male/5.83",
          "male/5.33",
          "male/1.25",
          "male/4.92",
          "male/1.5",
          "male/3.92",
          "male/4.08",
          "male/4.17",
          "male/4.25",
          "male/7.0",
          "male/7.17",
          "male/7.25",
          "male/7.33",
          "male/7.67",
          "male/7.75",
          "male/7.83",
          "male/7.92",
          "male/8.0",
          "male/8.08",
          "male/8.5",
          "male/7.08",
          "male/8.58",
          "male/9.08",
          "male/9.25",
          "male/8.33",
          "male/9.58",
          "male/6.92",
          "male/8.42",
          "male/6.75",
          "male/6.58",
          "male/4.42",
          "male/4.58",
          "male/4.83",
          "male/5.0",
          "male/5.08",
          "male/5.17",
          "male/5.42",
          "male/5.5",
          "male/5.58",
          "male/5.67",
          "male/5.75",
          "male/5.92",
          "male/6.0",
          "male/6.08",
          "male/6.25",
          "male/6.42",
          "male/6.5",
          "male/6.67",
          "male"
         ],
         "labels": [
          "0.25",
          "6.75",
          "6.67",
          "2.75",
          "6.5",
          "2.83",
          "6.33",
          "6.08",
          "3.08",
          "6.0",
          "3.33",
          "5.92",
          "5.75",
          "3.75",
          "3.83",
          "6.83",
          "4.42",
          "5.42",
          "5.33",
          "5.25",
          "5.17",
          "5.08",
          "5.5",
          "5.58",
          "5.0",
          "9.83",
          "4.83",
          "5.67",
          "4.75",
          "4.58",
          "6.17",
          "4.5",
          "6.92",
          "1.5",
          "7.08",
          "9.67",
          "3.0",
          "9.5",
          "6.42",
          "4.25",
          "8.42",
          "9.33",
          "9.17",
          "7.33",
          "9.0",
          "8.92",
          "7.5",
          "8.67",
          "7.17",
          "10.0",
          "7.0",
          "5.83",
          "1.33",
          "7.25",
          "7.42",
          "female",
          "1.0",
          "7.75",
          "4.33",
          "3.67",
          "0.75",
          "8.0",
          "1.08",
          "8.08",
          "4.0",
          "8.25",
          "7.83",
          "6.25",
          "4.92",
          "4.17",
          "9.58",
          "2.0",
          "10.25",
          "1.83",
          "1.75",
          "0.33",
          "1.67",
          "0.42",
          "3.42",
          "1.58",
          "0.83",
          "2.42",
          "3.25",
          "1.25",
          "2.08",
          "4.67",
          "7.92",
          "1.17",
          "8.83",
          "0.92",
          "1.42",
          "9.25",
          "10.83",
          "9.92",
          "10.5",
          "0.67",
          "0.58",
          "0.5",
          "0.17",
          "0.08",
          "6.58",
          "2.17",
          "1.92",
          "8.17",
          "3.17",
          "7.58",
          "8.33",
          "8.75",
          "3.5",
          "2.92",
          "3.58",
          "2.67",
          "2.58",
          "8.5",
          "2.5",
          "8.58",
          "4.08",
          "3.92",
          "9.42",
          "2.25",
          "2.33",
          "7.67",
          "10.0",
          "7.42",
          "9.83",
          "6.17",
          "0.08",
          "7.5",
          "8.25",
          "11.25",
          "8.75",
          "8.92",
          "2.17",
          "0.42",
          "0.17",
          "1.92",
          "9.5",
          "1.75",
          "1.58",
          "2.83",
          "6.83",
          "1.42",
          "9.33",
          "1.17",
          "8.17",
          "3.58",
          "3.17",
          "9.17",
          "9.0",
          "3.33",
          "9.42",
          "4.67",
          "5.25",
          "9.75",
          "7.58",
          "9.67",
          "2.0",
          "2.08",
          "2.25",
          "2.33",
          "2.42",
          "2.5",
          "2.58",
          "1.83",
          "2.67",
          "3.08",
          "3.25",
          "3.42",
          "3.5",
          "3.67",
          "3.75",
          "3.83",
          "2.92",
          "1.67",
          "4.75",
          "4.5",
          "0.33",
          "0.5",
          "0.58",
          "0.67",
          "0.75",
          "1.08",
          "1.33",
          "0.83",
          "1.0",
          "4.33",
          "3.0",
          "4.0",
          "5.83",
          "5.33",
          "1.25",
          "4.92",
          "1.5",
          "3.92",
          "4.08",
          "4.17",
          "4.25",
          "7.0",
          "7.17",
          "7.25",
          "7.33",
          "7.67",
          "7.75",
          "7.83",
          "7.92",
          "8.0",
          "8.08",
          "8.5",
          "7.08",
          "8.58",
          "9.08",
          "9.25",
          "8.33",
          "9.58",
          "6.92",
          "8.42",
          "6.75",
          "6.58",
          "4.42",
          "4.58",
          "4.83",
          "5.0",
          "5.08",
          "5.17",
          "5.42",
          "5.5",
          "5.58",
          "5.67",
          "5.75",
          "5.92",
          "6.0",
          "6.08",
          "6.25",
          "6.42",
          "6.5",
          "6.67",
          "male"
         ],
         "marker": {
          "colors": [
           "pink",
           "pink",
           "pink",
           "pink",
           "pink",
           "pink",
           "pink",
           "pink",
           "pink",
           "pink",
           "pink",
           "pink",
           "pink",
           "pink",
           "pink",
           "pink",
           "pink",
           "pink",
           "pink",
           "pink",
           "pink",
           "pink",
           "pink",
           "pink",
           "pink",
           "pink",
           "pink",
           "pink",
           "pink",
           "pink",
           "pink",
           "pink",
           "pink",
           "pink",
           "pink",
           "pink",
           "pink",
           "pink",
           "pink",
           "pink",
           "pink",
           "pink",
           "pink",
           "pink",
           "pink",
           "pink",
           "pink",
           "pink",
           "pink",
           "pink",
           "pink",
           "pink",
           "pink",
           "pink",
           "pink",
           "pink",
           "pink",
           "pink",
           "pink",
           "pink",
           "pink",
           "pink",
           "pink",
           "pink",
           "pink",
           "pink",
           "pink",
           "pink",
           "pink",
           "pink",
           "pink",
           "pink",
           "pink",
           "pink",
           "pink",
           "pink",
           "pink",
           "pink",
           "pink",
           "pink",
           "pink",
           "pink",
           "pink",
           "pink",
           "pink",
           "pink",
           "pink",
           "pink",
           "pink",
           "pink",
           "pink",
           "pink",
           "pink",
           "pink",
           "pink",
           "pink",
           "pink",
           "pink",
           "pink",
           "pink",
           "pink",
           "pink",
           "pink",
           "pink",
           "pink",
           "pink",
           "pink",
           "pink",
           "pink",
           "pink",
           "pink",
           "pink",
           "pink",
           "pink",
           "pink",
           "pink",
           "pink",
           "pink",
           "pink",
           "pink",
           "pink",
           "pink",
           "lightblue",
           "lightblue",
           "lightblue",
           "lightblue",
           "lightblue",
           "lightblue",
           "lightblue",
           "lightblue",
           "lightblue",
           "lightblue",
           "lightblue",
           "lightblue",
           "lightblue",
           "lightblue",
           "lightblue",
           "lightblue",
           "lightblue",
           "lightblue",
           "lightblue",
           "lightblue",
           "lightblue",
           "lightblue",
           "lightblue",
           "lightblue",
           "lightblue",
           "lightblue",
           "lightblue",
           "lightblue",
           "lightblue",
           "lightblue",
           "lightblue",
           "lightblue",
           "lightblue",
           "lightblue",
           "lightblue",
           "lightblue",
           "lightblue",
           "lightblue",
           "lightblue",
           "lightblue",
           "lightblue",
           "lightblue",
           "lightblue",
           "lightblue",
           "lightblue",
           "lightblue",
           "lightblue",
           "lightblue",
           "lightblue",
           "lightblue",
           "lightblue",
           "lightblue",
           "lightblue",
           "lightblue",
           "lightblue",
           "lightblue",
           "lightblue",
           "lightblue",
           "lightblue",
           "lightblue",
           "lightblue",
           "lightblue",
           "lightblue",
           "lightblue",
           "lightblue",
           "lightblue",
           "lightblue",
           "lightblue",
           "lightblue",
           "lightblue",
           "lightblue",
           "lightblue",
           "lightblue",
           "lightblue",
           "lightblue",
           "lightblue",
           "lightblue",
           "lightblue",
           "lightblue",
           "lightblue",
           "lightblue",
           "lightblue",
           "lightblue",
           "lightblue",
           "lightblue",
           "lightblue",
           "lightblue",
           "lightblue",
           "lightblue",
           "lightblue",
           "lightblue",
           "lightblue",
           "lightblue",
           "lightblue",
           "lightblue",
           "lightblue",
           "lightblue",
           "lightblue",
           "lightblue",
           "lightblue",
           "lightblue",
           "lightblue",
           "lightblue",
           "lightblue",
           "lightblue",
           "lightblue",
           "lightblue",
           "lightblue",
           "lightblue",
           "lightblue",
           "lightblue",
           "lightblue",
           "lightblue",
           "lightblue",
           "lightblue"
          ]
         },
         "name": "",
         "parents": [
          "female",
          "female",
          "female",
          "female",
          "female",
          "female",
          "female",
          "female",
          "female",
          "female",
          "female",
          "female",
          "female",
          "female",
          "female",
          "female",
          "female",
          "female",
          "female",
          "female",
          "female",
          "female",
          "female",
          "female",
          "female",
          "female",
          "female",
          "female",
          "female",
          "female",
          "female",
          "female",
          "female",
          "female",
          "female",
          "female",
          "female",
          "female",
          "female",
          "female",
          "female",
          "female",
          "female",
          "female",
          "female",
          "female",
          "female",
          "female",
          "female",
          "female",
          "female",
          "female",
          "female",
          "female",
          "female",
          "",
          "female",
          "female",
          "female",
          "female",
          "female",
          "female",
          "female",
          "female",
          "female",
          "female",
          "female",
          "female",
          "female",
          "female",
          "female",
          "female",
          "female",
          "female",
          "female",
          "female",
          "female",
          "female",
          "female",
          "female",
          "female",
          "female",
          "female",
          "female",
          "female",
          "female",
          "female",
          "female",
          "female",
          "female",
          "female",
          "female",
          "female",
          "female",
          "female",
          "female",
          "female",
          "female",
          "female",
          "female",
          "female",
          "female",
          "female",
          "female",
          "female",
          "female",
          "female",
          "female",
          "female",
          "female",
          "female",
          "female",
          "female",
          "female",
          "female",
          "female",
          "female",
          "female",
          "female",
          "female",
          "female",
          "female",
          "male",
          "male",
          "male",
          "male",
          "male",
          "male",
          "male",
          "male",
          "male",
          "male",
          "male",
          "male",
          "male",
          "male",
          "male",
          "male",
          "male",
          "male",
          "male",
          "male",
          "male",
          "male",
          "male",
          "male",
          "male",
          "male",
          "male",
          "male",
          "male",
          "male",
          "male",
          "male",
          "male",
          "male",
          "male",
          "male",
          "male",
          "male",
          "male",
          "male",
          "male",
          "male",
          "male",
          "male",
          "male",
          "male",
          "male",
          "male",
          "male",
          "male",
          "male",
          "male",
          "male",
          "male",
          "male",
          "male",
          "male",
          "male",
          "male",
          "male",
          "male",
          "male",
          "male",
          "male",
          "male",
          "male",
          "male",
          "male",
          "male",
          "male",
          "male",
          "male",
          "male",
          "male",
          "male",
          "male",
          "male",
          "male",
          "male",
          "male",
          "male",
          "male",
          "male",
          "male",
          "male",
          "male",
          "male",
          "male",
          "male",
          "male",
          "male",
          "male",
          "male",
          "male",
          "male",
          "male",
          "male",
          "male",
          "male",
          "male",
          "male",
          "male",
          "male",
          "male",
          "male",
          "male",
          "male",
          "male",
          "male",
          "male",
          "male",
          "male",
          "male",
          "male",
          ""
         ],
         "type": "treemap",
         "values": {
          "bdata": "AwADAAMABAAHAAMACQAHAAUABQAFAAQABwABAAcABwAGAAMABAAFAAwACQABAAkABQAGAAcABwAGAAgABAAFAAIAAgAFAAYABgADAAQAAwADAAQAAgADAAMABwAEAAMABAACAAUAAwADAAYAAwAXAgQABAAEAAQAAwAEAAQAAQAHAAIABQAEAAgABgABAAgAAQAGAAUABAADAAMAAQAGAAIAAgACAAQABgAEAAIABwABAAIABwADAAEAAQABAAYABAAGABAACgACAAgAAwADAAkAAQACAAQAAwACAAYABQADAAIAAgADAAYABAADAAQABwAFAAIAAwADAAQADQAEAAMAAQABAAMABQADAAsAAwADAAQAAgAEAAIAAQACAAEABgAFAAUAAwAGAAQAAwAFAAMABAAMAAIAAwACAAMABQACAAcABQACAAUABQAIAAcABAAEAAMABgAHAAUABgAFAAQABAADAAQAAgADAAIAAQAFAAYACQAEAAMAAgACAAcABgAFAAUAAgAGAAcACAAJAAMACAAHAAkABQAFAAQABAAEAAYABgAFAAEABwAHAAIABgAEAAIACAAHAAUAAgAHAAQABQAHAAsABQAFAAQABQAKAAMACQAFABgC",
          "dtype": "i2"
         }
        }
       ],
       "layout": {
        "legend": {
         "tracegroupgap": 0
        },
        "template": {
         "data": {
          "bar": [
           {
            "error_x": {
             "color": "#2a3f5f"
            },
            "error_y": {
             "color": "#2a3f5f"
            },
            "marker": {
             "line": {
              "color": "#E5ECF6",
              "width": 0.5
             },
             "pattern": {
              "fillmode": "overlay",
              "size": 10,
              "solidity": 0.2
             }
            },
            "type": "bar"
           }
          ],
          "barpolar": [
           {
            "marker": {
             "line": {
              "color": "#E5ECF6",
              "width": 0.5
             },
             "pattern": {
              "fillmode": "overlay",
              "size": 10,
              "solidity": 0.2
             }
            },
            "type": "barpolar"
           }
          ],
          "carpet": [
           {
            "aaxis": {
             "endlinecolor": "#2a3f5f",
             "gridcolor": "white",
             "linecolor": "white",
             "minorgridcolor": "white",
             "startlinecolor": "#2a3f5f"
            },
            "baxis": {
             "endlinecolor": "#2a3f5f",
             "gridcolor": "white",
             "linecolor": "white",
             "minorgridcolor": "white",
             "startlinecolor": "#2a3f5f"
            },
            "type": "carpet"
           }
          ],
          "choropleth": [
           {
            "colorbar": {
             "outlinewidth": 0,
             "ticks": ""
            },
            "type": "choropleth"
           }
          ],
          "contour": [
           {
            "colorbar": {
             "outlinewidth": 0,
             "ticks": ""
            },
            "colorscale": [
             [
              0,
              "#0d0887"
             ],
             [
              0.1111111111111111,
              "#46039f"
             ],
             [
              0.2222222222222222,
              "#7201a8"
             ],
             [
              0.3333333333333333,
              "#9c179e"
             ],
             [
              0.4444444444444444,
              "#bd3786"
             ],
             [
              0.5555555555555556,
              "#d8576b"
             ],
             [
              0.6666666666666666,
              "#ed7953"
             ],
             [
              0.7777777777777778,
              "#fb9f3a"
             ],
             [
              0.8888888888888888,
              "#fdca26"
             ],
             [
              1,
              "#f0f921"
             ]
            ],
            "type": "contour"
           }
          ],
          "contourcarpet": [
           {
            "colorbar": {
             "outlinewidth": 0,
             "ticks": ""
            },
            "type": "contourcarpet"
           }
          ],
          "heatmap": [
           {
            "colorbar": {
             "outlinewidth": 0,
             "ticks": ""
            },
            "colorscale": [
             [
              0,
              "#0d0887"
             ],
             [
              0.1111111111111111,
              "#46039f"
             ],
             [
              0.2222222222222222,
              "#7201a8"
             ],
             [
              0.3333333333333333,
              "#9c179e"
             ],
             [
              0.4444444444444444,
              "#bd3786"
             ],
             [
              0.5555555555555556,
              "#d8576b"
             ],
             [
              0.6666666666666666,
              "#ed7953"
             ],
             [
              0.7777777777777778,
              "#fb9f3a"
             ],
             [
              0.8888888888888888,
              "#fdca26"
             ],
             [
              1,
              "#f0f921"
             ]
            ],
            "type": "heatmap"
           }
          ],
          "histogram": [
           {
            "marker": {
             "pattern": {
              "fillmode": "overlay",
              "size": 10,
              "solidity": 0.2
             }
            },
            "type": "histogram"
           }
          ],
          "histogram2d": [
           {
            "colorbar": {
             "outlinewidth": 0,
             "ticks": ""
            },
            "colorscale": [
             [
              0,
              "#0d0887"
             ],
             [
              0.1111111111111111,
              "#46039f"
             ],
             [
              0.2222222222222222,
              "#7201a8"
             ],
             [
              0.3333333333333333,
              "#9c179e"
             ],
             [
              0.4444444444444444,
              "#bd3786"
             ],
             [
              0.5555555555555556,
              "#d8576b"
             ],
             [
              0.6666666666666666,
              "#ed7953"
             ],
             [
              0.7777777777777778,
              "#fb9f3a"
             ],
             [
              0.8888888888888888,
              "#fdca26"
             ],
             [
              1,
              "#f0f921"
             ]
            ],
            "type": "histogram2d"
           }
          ],
          "histogram2dcontour": [
           {
            "colorbar": {
             "outlinewidth": 0,
             "ticks": ""
            },
            "colorscale": [
             [
              0,
              "#0d0887"
             ],
             [
              0.1111111111111111,
              "#46039f"
             ],
             [
              0.2222222222222222,
              "#7201a8"
             ],
             [
              0.3333333333333333,
              "#9c179e"
             ],
             [
              0.4444444444444444,
              "#bd3786"
             ],
             [
              0.5555555555555556,
              "#d8576b"
             ],
             [
              0.6666666666666666,
              "#ed7953"
             ],
             [
              0.7777777777777778,
              "#fb9f3a"
             ],
             [
              0.8888888888888888,
              "#fdca26"
             ],
             [
              1,
              "#f0f921"
             ]
            ],
            "type": "histogram2dcontour"
           }
          ],
          "mesh3d": [
           {
            "colorbar": {
             "outlinewidth": 0,
             "ticks": ""
            },
            "type": "mesh3d"
           }
          ],
          "parcoords": [
           {
            "line": {
             "colorbar": {
              "outlinewidth": 0,
              "ticks": ""
             }
            },
            "type": "parcoords"
           }
          ],
          "pie": [
           {
            "automargin": true,
            "type": "pie"
           }
          ],
          "scatter": [
           {
            "fillpattern": {
             "fillmode": "overlay",
             "size": 10,
             "solidity": 0.2
            },
            "type": "scatter"
           }
          ],
          "scatter3d": [
           {
            "line": {
             "colorbar": {
              "outlinewidth": 0,
              "ticks": ""
             }
            },
            "marker": {
             "colorbar": {
              "outlinewidth": 0,
              "ticks": ""
             }
            },
            "type": "scatter3d"
           }
          ],
          "scattercarpet": [
           {
            "marker": {
             "colorbar": {
              "outlinewidth": 0,
              "ticks": ""
             }
            },
            "type": "scattercarpet"
           }
          ],
          "scattergeo": [
           {
            "marker": {
             "colorbar": {
              "outlinewidth": 0,
              "ticks": ""
             }
            },
            "type": "scattergeo"
           }
          ],
          "scattergl": [
           {
            "marker": {
             "colorbar": {
              "outlinewidth": 0,
              "ticks": ""
             }
            },
            "type": "scattergl"
           }
          ],
          "scattermap": [
           {
            "marker": {
             "colorbar": {
              "outlinewidth": 0,
              "ticks": ""
             }
            },
            "type": "scattermap"
           }
          ],
          "scattermapbox": [
           {
            "marker": {
             "colorbar": {
              "outlinewidth": 0,
              "ticks": ""
             }
            },
            "type": "scattermapbox"
           }
          ],
          "scatterpolar": [
           {
            "marker": {
             "colorbar": {
              "outlinewidth": 0,
              "ticks": ""
             }
            },
            "type": "scatterpolar"
           }
          ],
          "scatterpolargl": [
           {
            "marker": {
             "colorbar": {
              "outlinewidth": 0,
              "ticks": ""
             }
            },
            "type": "scatterpolargl"
           }
          ],
          "scatterternary": [
           {
            "marker": {
             "colorbar": {
              "outlinewidth": 0,
              "ticks": ""
             }
            },
            "type": "scatterternary"
           }
          ],
          "surface": [
           {
            "colorbar": {
             "outlinewidth": 0,
             "ticks": ""
            },
            "colorscale": [
             [
              0,
              "#0d0887"
             ],
             [
              0.1111111111111111,
              "#46039f"
             ],
             [
              0.2222222222222222,
              "#7201a8"
             ],
             [
              0.3333333333333333,
              "#9c179e"
             ],
             [
              0.4444444444444444,
              "#bd3786"
             ],
             [
              0.5555555555555556,
              "#d8576b"
             ],
             [
              0.6666666666666666,
              "#ed7953"
             ],
             [
              0.7777777777777778,
              "#fb9f3a"
             ],
             [
              0.8888888888888888,
              "#fdca26"
             ],
             [
              1,
              "#f0f921"
             ]
            ],
            "type": "surface"
           }
          ],
          "table": [
           {
            "cells": {
             "fill": {
              "color": "#EBF0F8"
             },
             "line": {
              "color": "white"
             }
            },
            "header": {
             "fill": {
              "color": "#C8D4E3"
             },
             "line": {
              "color": "white"
             }
            },
            "type": "table"
           }
          ]
         },
         "layout": {
          "annotationdefaults": {
           "arrowcolor": "#2a3f5f",
           "arrowhead": 0,
           "arrowwidth": 1
          },
          "autotypenumbers": "strict",
          "coloraxis": {
           "colorbar": {
            "outlinewidth": 0,
            "ticks": ""
           }
          },
          "colorscale": {
           "diverging": [
            [
             0,
             "#8e0152"
            ],
            [
             0.1,
             "#c51b7d"
            ],
            [
             0.2,
             "#de77ae"
            ],
            [
             0.3,
             "#f1b6da"
            ],
            [
             0.4,
             "#fde0ef"
            ],
            [
             0.5,
             "#f7f7f7"
            ],
            [
             0.6,
             "#e6f5d0"
            ],
            [
             0.7,
             "#b8e186"
            ],
            [
             0.8,
             "#7fbc41"
            ],
            [
             0.9,
             "#4d9221"
            ],
            [
             1,
             "#276419"
            ]
           ],
           "sequential": [
            [
             0,
             "#0d0887"
            ],
            [
             0.1111111111111111,
             "#46039f"
            ],
            [
             0.2222222222222222,
             "#7201a8"
            ],
            [
             0.3333333333333333,
             "#9c179e"
            ],
            [
             0.4444444444444444,
             "#bd3786"
            ],
            [
             0.5555555555555556,
             "#d8576b"
            ],
            [
             0.6666666666666666,
             "#ed7953"
            ],
            [
             0.7777777777777778,
             "#fb9f3a"
            ],
            [
             0.8888888888888888,
             "#fdca26"
            ],
            [
             1,
             "#f0f921"
            ]
           ],
           "sequentialminus": [
            [
             0,
             "#0d0887"
            ],
            [
             0.1111111111111111,
             "#46039f"
            ],
            [
             0.2222222222222222,
             "#7201a8"
            ],
            [
             0.3333333333333333,
             "#9c179e"
            ],
            [
             0.4444444444444444,
             "#bd3786"
            ],
            [
             0.5555555555555556,
             "#d8576b"
            ],
            [
             0.6666666666666666,
             "#ed7953"
            ],
            [
             0.7777777777777778,
             "#fb9f3a"
            ],
            [
             0.8888888888888888,
             "#fdca26"
            ],
            [
             1,
             "#f0f921"
            ]
           ]
          },
          "colorway": [
           "#636efa",
           "#EF553B",
           "#00cc96",
           "#ab63fa",
           "#FFA15A",
           "#19d3f3",
           "#FF6692",
           "#B6E880",
           "#FF97FF",
           "#FECB52"
          ],
          "font": {
           "color": "#2a3f5f"
          },
          "geo": {
           "bgcolor": "white",
           "lakecolor": "white",
           "landcolor": "#E5ECF6",
           "showlakes": true,
           "showland": true,
           "subunitcolor": "white"
          },
          "hoverlabel": {
           "align": "left"
          },
          "hovermode": "closest",
          "mapbox": {
           "style": "light"
          },
          "paper_bgcolor": "white",
          "plot_bgcolor": "#E5ECF6",
          "polar": {
           "angularaxis": {
            "gridcolor": "white",
            "linecolor": "white",
            "ticks": ""
           },
           "bgcolor": "#E5ECF6",
           "radialaxis": {
            "gridcolor": "white",
            "linecolor": "white",
            "ticks": ""
           }
          },
          "scene": {
           "xaxis": {
            "backgroundcolor": "#E5ECF6",
            "gridcolor": "white",
            "gridwidth": 2,
            "linecolor": "white",
            "showbackground": true,
            "ticks": "",
            "zerolinecolor": "white"
           },
           "yaxis": {
            "backgroundcolor": "#E5ECF6",
            "gridcolor": "white",
            "gridwidth": 2,
            "linecolor": "white",
            "showbackground": true,
            "ticks": "",
            "zerolinecolor": "white"
           },
           "zaxis": {
            "backgroundcolor": "#E5ECF6",
            "gridcolor": "white",
            "gridwidth": 2,
            "linecolor": "white",
            "showbackground": true,
            "ticks": "",
            "zerolinecolor": "white"
           }
          },
          "shapedefaults": {
           "line": {
            "color": "#2a3f5f"
           }
          },
          "ternary": {
           "aaxis": {
            "gridcolor": "white",
            "linecolor": "white",
            "ticks": ""
           },
           "baxis": {
            "gridcolor": "white",
            "linecolor": "white",
            "ticks": ""
           },
           "bgcolor": "#E5ECF6",
           "caxis": {
            "gridcolor": "white",
            "linecolor": "white",
            "ticks": ""
           }
          },
          "title": {
           "x": 0.05
          },
          "xaxis": {
           "automargin": true,
           "gridcolor": "white",
           "linecolor": "white",
           "ticks": "",
           "title": {
            "standoff": 15
           },
           "zerolinecolor": "white",
           "zerolinewidth": 2
          },
          "yaxis": {
           "automargin": true,
           "gridcolor": "white",
           "linecolor": "white",
           "ticks": "",
           "title": {
            "standoff": 15
           },
           "zerolinecolor": "white",
           "zerolinewidth": 2
          }
         }
        },
        "title": {
         "text": "Treemap: Age by Gender"
        }
       }
      }
     },
     "metadata": {},
     "output_type": "display_data"
    }
   ],
   "source": [
    "graphic = px.treemap(\n",
    "    db,\n",
    "    path=['Gender', 'Age_in_years'],\n",
    "    title=\"Treemap: Age by Gender\",\n",
    "    color='Gender',\n",
    "    color_discrete_map={\n",
    "        'male': 'lightblue',       \n",
    "        'female': 'pink'      \n",
    "    }\n",
    ")\n",
    "\n",
    "graphic.show()\n"
   ]
  },
  {
   "cell_type": "code",
   "execution_count": 31,
   "id": "330f3eef",
   "metadata": {},
   "outputs": [
    {
     "data": {
      "application/vnd.plotly.v1+json": {
       "config": {
        "plotlyServerURL": "https://plot.ly"
       },
       "data": [
        {
         "dimensions": [
          {
           "label": "Breed",
           "values": [
            "Angora",
            "Angora",
            "Angora",
            "Angora",
            "Angora",
            "Angora",
            "Angora",
            "Angora",
            "Angora",
            "Angora",
            "Angora",
            "Angora",
            "Angora",
            "Angora",
            "Angora",
            "Angora",
            "Angora",
            "Angora",
            "Angora",
            "Angora",
            "Angora",
            "Angora",
            "Angora",
            "Angora",
            "Angora",
            "Angora",
            "Angora",
            "Angora",
            "Angora",
            "Angora",
            "Angora",
            "Angora",
            "Angora",
            "Angora",
            "Angora",
            "Angora",
            "Angora",
            "Angora",
            "Angora",
            "Angora",
            "Angora",
            "Angora",
            "Angora",
            "Angora",
            "Angora",
            "Angora",
            "Angora",
            "Angora",
            "Angora",
            "Angora",
            "Angora",
            "Angora",
            "Angora",
            "Angora",
            "Angora",
            "Angora",
            "Angora",
            "Angora",
            "Angora",
            "Angora",
            "Angora",
            "Angora",
            "Angora",
            "Angora",
            "Angora",
            "Angora",
            "Angora",
            "Angora",
            "Angora",
            "Angora",
            "Angora",
            "Angora",
            "Angora",
            "Angora",
            "Angora",
            "Angora",
            "Angora",
            "Angora",
            "Angora",
            "Angora",
            "Angora",
            "Angora",
            "Angora",
            "Angora",
            "Angora",
            "Angora",
            "Angora",
            "Angora",
            "Angora",
            "Angora",
            "Angora",
            "Angora",
            "Angora",
            "Angora",
            "Angora",
            "Angora",
            "Angora",
            "Angora",
            "Angora",
            "Angora",
            "Angora",
            "Angora",
            "Angora",
            "Angora",
            "Angora",
            "Angora",
            "Angora",
            "Angora",
            "Angora",
            "Angora",
            "Angora",
            "Angora",
            "Angora",
            "Angora",
            "Angora",
            "Angora",
            "Angora",
            "Angora",
            "Angora",
            "Angora",
            "Angora",
            "Angora",
            "Angora",
            "Angora",
            "Angora",
            "Angora",
            "Angora",
            "Angora",
            "Angora",
            "Angora",
            "Angora",
            "Angora",
            "Angora",
            "Angora",
            "Angora",
            "Angora",
            "Angora",
            "Angora",
            "Angora",
            "Angora",
            "Angora",
            "Angora",
            "Angora",
            "Angora",
            "Angora",
            "Angora",
            "Angora",
            "Angora",
            "Angora",
            "Angora",
            "Angora",
            "Angora",
            "Angora",
            "Angora",
            "Angora",
            "Angora",
            "Angora",
            "Angora",
            "Angora",
            "Angora",
            "Angora",
            "Angora",
            "Angora",
            "Angora",
            "Angora",
            "Angora",
            "Angora",
            "Angora",
            "Angora",
            "Angora",
            "Angora",
            "Angora",
            "Angora",
            "Angora",
            "Angora",
            "Angora",
            "Angora",
            "Angora",
            "Angora",
            "Angora",
            "Angora",
            "Angora",
            "Angora",
            "Angora",
            "Angora",
            "Angora",
            "Angora",
            "Angora",
            "Angora",
            "Angora",
            "Angora",
            "Angora",
            "Angora",
            "Angora",
            "Angora",
            "Angora",
            "Angora",
            "Angora",
            "Angora",
            "Angora",
            "Angora",
            "Angora",
            "Angora",
            "Angora",
            "Angora",
            "Angora",
            "Angora",
            "Angora",
            "Angora",
            "Angora",
            "Angora",
            "Angora",
            "Angora",
            "Angora",
            "Angora",
            "Angora",
            "Angora",
            "Angora",
            "Angora",
            "Angora",
            "Angora",
            "Angora",
            "Angora",
            "Angora",
            "Angora",
            "Angora",
            "Angora",
            "Angora",
            "Angora",
            "Angora",
            "Angora",
            "Angora",
            "Angora",
            "Angora",
            "Angora",
            "Angora",
            "Angora",
            "Angora",
            "Angora",
            "Angora",
            "Angora",
            "Angora",
            "Angora",
            "Angora",
            "Angora",
            "Angora",
            "Angora",
            "Angora",
            "Angora",
            "Angora",
            "Angora",
            "Angora",
            "Angora",
            "Angora",
            "Angora",
            "Angora",
            "Angora",
            "Angora",
            "Angora",
            "Angora",
            "Angora",
            "Angora",
            "Angora",
            "Angora",
            "Angora",
            "Angora",
            "Angora",
            "Angora",
            "Angora",
            "Angora",
            "Angora",
            "Angora",
            "Angora",
            "Angora",
            "Angora",
            "Angora",
            "Angora",
            "Angora",
            "Angora",
            "Angora",
            "Maine coon",
            "Maine coon",
            "Maine coon",
            "Maine coon",
            "Maine coon",
            "Maine coon",
            "Maine coon",
            "Maine coon",
            "Maine coon",
            "Maine coon",
            "Maine coon",
            "Maine coon",
            "Maine coon",
            "Maine coon",
            "Maine coon",
            "Maine coon",
            "Maine coon",
            "Maine coon",
            "Maine coon",
            "Maine coon",
            "Maine coon",
            "Maine coon",
            "Maine coon",
            "Maine coon",
            "Maine coon",
            "Maine coon",
            "Maine coon",
            "Maine coon",
            "Maine coon",
            "Maine coon",
            "Maine coon",
            "Maine coon",
            "Maine coon",
            "Maine coon",
            "Maine coon",
            "Maine coon",
            "Maine coon",
            "Maine coon",
            "Maine coon",
            "Maine coon",
            "Maine coon",
            "Maine coon",
            "Maine coon",
            "Maine coon",
            "Maine coon",
            "Maine coon",
            "Maine coon",
            "Maine coon",
            "Maine coon",
            "Maine coon",
            "Maine coon",
            "Maine coon",
            "Maine coon",
            "Maine coon",
            "Maine coon",
            "Maine coon",
            "Maine coon",
            "Maine coon",
            "Maine coon",
            "Maine coon",
            "Maine coon",
            "Maine coon",
            "Maine coon",
            "Maine coon",
            "Maine coon",
            "Maine coon",
            "Maine coon",
            "Maine coon",
            "Maine coon",
            "Maine coon",
            "Maine coon",
            "Maine coon",
            "Maine coon",
            "Maine coon",
            "Maine coon",
            "Maine coon",
            "Maine coon",
            "Maine coon",
            "Maine coon",
            "Maine coon",
            "Maine coon",
            "Maine coon",
            "Maine coon",
            "Maine coon",
            "Maine coon",
            "Maine coon",
            "Maine coon",
            "Maine coon",
            "Maine coon",
            "Maine coon",
            "Maine coon",
            "Maine coon",
            "Maine coon",
            "Maine coon",
            "Maine coon",
            "Maine coon",
            "Maine coon",
            "Maine coon",
            "Maine coon",
            "Maine coon",
            "Maine coon",
            "Maine coon",
            "Maine coon",
            "Maine coon",
            "Maine coon",
            "Maine coon",
            "Maine coon",
            "Maine coon",
            "Maine coon",
            "Maine coon",
            "Maine coon",
            "Maine coon",
            "Maine coon",
            "Maine coon",
            "Maine coon",
            "Maine coon",
            "Maine coon",
            "Maine coon",
            "Maine coon",
            "Maine coon",
            "Maine coon",
            "Maine coon",
            "Maine coon",
            "Maine coon",
            "Maine coon",
            "Maine coon",
            "Maine coon",
            "Maine coon",
            "Maine coon",
            "Maine coon",
            "Maine coon",
            "Maine coon",
            "Maine coon",
            "Maine coon",
            "Maine coon",
            "Maine coon",
            "Maine coon",
            "Maine coon",
            "Maine coon",
            "Maine coon",
            "Maine coon",
            "Maine coon",
            "Maine coon",
            "Maine coon",
            "Maine coon",
            "Maine coon",
            "Maine coon",
            "Maine coon",
            "Maine coon",
            "Maine coon",
            "Maine coon",
            "Maine coon",
            "Maine coon",
            "Maine coon",
            "Maine coon",
            "Maine coon",
            "Maine coon",
            "Maine coon",
            "Maine coon",
            "Maine coon",
            "Maine coon",
            "Maine coon",
            "Maine coon",
            "Maine coon",
            "Maine coon",
            "Maine coon",
            "Maine coon",
            "Maine coon",
            "Maine coon",
            "Maine coon",
            "Maine coon",
            "Maine coon",
            "Maine coon",
            "Maine coon",
            "Maine coon",
            "Maine coon",
            "Maine coon",
            "Maine coon",
            "Maine coon",
            "Maine coon",
            "Maine coon",
            "Maine coon",
            "Maine coon",
            "Maine coon",
            "Maine coon",
            "Maine coon",
            "Maine coon",
            "Maine coon",
            "Maine coon",
            "Maine coon",
            "Maine coon",
            "Maine coon",
            "Maine coon",
            "Maine coon",
            "Maine coon",
            "Maine coon",
            "Maine coon",
            "Maine coon",
            "Maine coon",
            "Maine coon",
            "Maine coon",
            "Maine coon",
            "Maine coon",
            "Maine coon",
            "Maine coon",
            "Maine coon",
            "Maine coon",
            "Maine coon",
            "Maine coon",
            "Maine coon",
            "Maine coon",
            "Maine coon",
            "Maine coon",
            "Maine coon",
            "Maine coon",
            "Maine coon",
            "Maine coon",
            "Maine coon",
            "Maine coon",
            "Maine coon",
            "Maine coon",
            "Maine coon",
            "Maine coon",
            "Maine coon",
            "Maine coon",
            "Maine coon",
            "Maine coon",
            "Maine coon",
            "Maine coon",
            "Maine coon",
            "Maine coon",
            "Maine coon",
            "Maine coon",
            "Maine coon",
            "Maine coon",
            "Maine coon",
            "Maine coon",
            "Maine coon",
            "Maine coon",
            "Maine coon",
            "Maine coon",
            "Maine coon",
            "Maine coon",
            "Maine coon",
            "Maine coon",
            "Maine coon",
            "Maine coon",
            "Maine coon",
            "Maine coon",
            "Maine coon",
            "Maine coon",
            "Maine coon",
            "Maine coon",
            "Maine coon",
            "Maine coon",
            "Maine coon",
            "Maine coon",
            "Maine coon",
            "Maine coon",
            "Maine coon",
            "Maine coon",
            "Maine coon",
            "Maine coon",
            "Maine coon",
            "Maine coon",
            "Maine coon",
            "Maine coon",
            "Maine coon",
            "Maine coon",
            "Maine coon",
            "Maine coon",
            "Maine coon",
            "Maine coon",
            "Maine coon",
            "Maine coon",
            "Maine coon",
            "Maine coon",
            "Maine coon",
            "Maine coon",
            "Maine coon",
            "Maine coon",
            "Maine coon",
            "Maine coon",
            "Maine coon",
            "Maine coon",
            "Maine coon",
            "Maine coon",
            "Maine coon",
            "Maine coon",
            "Maine coon",
            "Maine coon",
            "Maine coon",
            "Maine coon",
            "Maine coon",
            "Maine coon",
            "Maine coon",
            "Maine coon",
            "Maine coon",
            "Maine coon",
            "Maine coon",
            "Maine coon",
            "Maine coon",
            "Maine coon",
            "Maine coon",
            "Maine coon",
            "Maine coon",
            "Maine coon",
            "Maine coon",
            "Maine coon",
            "Maine coon",
            "Maine coon",
            "Maine coon",
            "Maine coon",
            "Maine coon",
            "Maine coon",
            "Maine coon",
            "Maine coon",
            "Maine coon",
            "Maine coon",
            "Maine coon",
            "Maine coon",
            "Maine coon",
            "Maine coon",
            "Maine coon",
            "Maine coon",
            "Maine coon",
            "Ragdoll",
            "Ragdoll",
            "Ragdoll",
            "Ragdoll",
            "Ragdoll",
            "Ragdoll",
            "Ragdoll",
            "Ragdoll",
            "Ragdoll",
            "Ragdoll",
            "Ragdoll",
            "Ragdoll",
            "Ragdoll",
            "Ragdoll",
            "Ragdoll",
            "Ragdoll",
            "Ragdoll",
            "Ragdoll",
            "Ragdoll",
            "Ragdoll",
            "Ragdoll",
            "Ragdoll",
            "Ragdoll",
            "Ragdoll",
            "Ragdoll",
            "Ragdoll",
            "Ragdoll",
            "Ragdoll",
            "Ragdoll",
            "Ragdoll",
            "Ragdoll",
            "Ragdoll",
            "Ragdoll",
            "Ragdoll",
            "Ragdoll",
            "Ragdoll",
            "Ragdoll",
            "Ragdoll",
            "Ragdoll",
            "Ragdoll",
            "Ragdoll",
            "Ragdoll",
            "Ragdoll",
            "Ragdoll",
            "Ragdoll",
            "Ragdoll",
            "Ragdoll",
            "Ragdoll",
            "Ragdoll",
            "Ragdoll",
            "Ragdoll",
            "Ragdoll",
            "Ragdoll",
            "Ragdoll",
            "Ragdoll",
            "Ragdoll",
            "Ragdoll",
            "Ragdoll",
            "Ragdoll",
            "Ragdoll",
            "Ragdoll",
            "Ragdoll",
            "Ragdoll",
            "Ragdoll",
            "Ragdoll",
            "Ragdoll",
            "Ragdoll",
            "Ragdoll",
            "Ragdoll",
            "Ragdoll",
            "Ragdoll",
            "Ragdoll",
            "Ragdoll",
            "Ragdoll",
            "Ragdoll",
            "Ragdoll",
            "Ragdoll",
            "Ragdoll",
            "Ragdoll",
            "Ragdoll",
            "Ragdoll",
            "Ragdoll",
            "Ragdoll",
            "Ragdoll",
            "Ragdoll",
            "Ragdoll",
            "Ragdoll",
            "Ragdoll",
            "Ragdoll",
            "Ragdoll",
            "Ragdoll",
            "Ragdoll",
            "Ragdoll",
            "Ragdoll",
            "Ragdoll",
            "Ragdoll",
            "Ragdoll",
            "Ragdoll",
            "Ragdoll",
            "Ragdoll",
            "Ragdoll",
            "Ragdoll",
            "Ragdoll",
            "Ragdoll",
            "Ragdoll",
            "Ragdoll",
            "Ragdoll",
            "Ragdoll",
            "Ragdoll",
            "Ragdoll",
            "Ragdoll",
            "Ragdoll",
            "Ragdoll",
            "Ragdoll",
            "Ragdoll",
            "Ragdoll",
            "Ragdoll",
            "Ragdoll",
            "Ragdoll",
            "Ragdoll",
            "Ragdoll",
            "Ragdoll",
            "Ragdoll",
            "Ragdoll",
            "Ragdoll",
            "Ragdoll",
            "Ragdoll",
            "Ragdoll",
            "Ragdoll",
            "Ragdoll",
            "Ragdoll",
            "Ragdoll",
            "Ragdoll",
            "Ragdoll",
            "Ragdoll",
            "Ragdoll",
            "Ragdoll",
            "Ragdoll",
            "Ragdoll",
            "Ragdoll",
            "Ragdoll",
            "Ragdoll",
            "Ragdoll",
            "Ragdoll",
            "Ragdoll",
            "Ragdoll",
            "Ragdoll",
            "Ragdoll",
            "Ragdoll",
            "Ragdoll",
            "Ragdoll",
            "Ragdoll",
            "Ragdoll",
            "Ragdoll",
            "Ragdoll",
            "Ragdoll",
            "Ragdoll",
            "Ragdoll",
            "Ragdoll",
            "Ragdoll",
            "Ragdoll",
            "Ragdoll",
            "Ragdoll",
            "Ragdoll",
            "Ragdoll",
            "Ragdoll",
            "Ragdoll",
            "Ragdoll",
            "Ragdoll",
            "Ragdoll",
            "Ragdoll",
            "Ragdoll",
            "Ragdoll",
            "Ragdoll",
            "Ragdoll",
            "Ragdoll",
            "Ragdoll",
            "Ragdoll",
            "Ragdoll",
            "Ragdoll",
            "Ragdoll",
            "Ragdoll",
            "Ragdoll",
            "Ragdoll",
            "Ragdoll",
            "Ragdoll",
            "Ragdoll",
            "Ragdoll",
            "Ragdoll",
            "Ragdoll",
            "Ragdoll",
            "Ragdoll",
            "Ragdoll",
            "Ragdoll",
            "Ragdoll",
            "Ragdoll",
            "Ragdoll",
            "Ragdoll",
            "Ragdoll",
            "Ragdoll",
            "Ragdoll",
            "Ragdoll",
            "Ragdoll",
            "Ragdoll",
            "Ragdoll",
            "Ragdoll",
            "Ragdoll",
            "Ragdoll",
            "Ragdoll",
            "Ragdoll",
            "Ragdoll",
            "Ragdoll",
            "Ragdoll",
            "Ragdoll",
            "Ragdoll",
            "Ragdoll",
            "Ragdoll",
            "Ragdoll",
            "Ragdoll",
            "Ragdoll",
            "Ragdoll",
            "Ragdoll",
            "Ragdoll",
            "Ragdoll",
            "Ragdoll",
            "Ragdoll",
            "Ragdoll",
            "Ragdoll",
            "Ragdoll",
            "Ragdoll",
            "Ragdoll",
            "Ragdoll",
            "Ragdoll",
            "Ragdoll",
            "Ragdoll",
            "Ragdoll",
            "Ragdoll",
            "Ragdoll",
            "Ragdoll",
            "Ragdoll",
            "Ragdoll",
            "Ragdoll",
            "Ragdoll",
            "Ragdoll",
            "Ragdoll",
            "Ragdoll",
            "Ragdoll",
            "Ragdoll",
            "Ragdoll",
            "Ragdoll",
            "Ragdoll",
            "Ragdoll",
            "Ragdoll",
            "Ragdoll",
            "Ragdoll",
            "Ragdoll",
            "Ragdoll",
            "Ragdoll",
            "Ragdoll",
            "Ragdoll",
            "Ragdoll",
            "Ragdoll",
            "Ragdoll",
            "Ragdoll",
            "Ragdoll",
            "Ragdoll",
            "Ragdoll",
            "Ragdoll",
            "Ragdoll",
            "Ragdoll",
            "Ragdoll",
            "Ragdoll",
            "Ragdoll",
            "Ragdoll",
            "Ragdoll",
            "Ragdoll",
            "Ragdoll",
            "Ragdoll",
            "Ragdoll",
            "Ragdoll",
            "Ragdoll",
            "Ragdoll",
            "Ragdoll",
            "Ragdoll",
            "Ragdoll",
            "Ragdoll",
            "Ragdoll",
            "Ragdoll",
            "Ragdoll",
            "Ragdoll",
            "Ragdoll",
            "Ragdoll",
            "Ragdoll",
            "Ragdoll",
            "Ragdoll",
            "Ragdoll",
            "Ragdoll",
            "Ragdoll",
            "Ragdoll",
            "Ragdoll",
            "Ragdoll",
            "Ragdoll",
            "Ragdoll",
            "Ragdoll",
            "Ragdoll",
            "Ragdoll",
            "Ragdoll",
            "Ragdoll",
            "Ragdoll",
            "Ragdoll",
            "Ragdoll",
            "Ragdoll",
            "Ragdoll",
            "Ragdoll",
            "Ragdoll",
            "Ragdoll",
            "Ragdoll",
            "Ragdoll",
            "Ragdoll",
            "Ragdoll",
            "Ragdoll",
            "Ragdoll",
            "Ragdoll",
            "Ragdoll",
            "Ragdoll",
            "Ragdoll",
            "Ragdoll",
            "Ragdoll",
            "Ragdoll",
            "Ragdoll",
            "Ragdoll",
            "Ragdoll",
            "Ragdoll",
            "Ragdoll",
            "Ragdoll",
            "Ragdoll",
            "Ragdoll",
            "Ragdoll",
            "Ragdoll",
            "Ragdoll",
            "Ragdoll",
            "Ragdoll",
            "Ragdoll",
            "Ragdoll",
            "Ragdoll",
            "Ragdoll",
            "Ragdoll",
            "Ragdoll",
            "Ragdoll",
            "Ragdoll",
            "Ragdoll",
            "Ragdoll",
            "Ragdoll",
            "Ragdoll",
            "Ragdoll",
            "Ragdoll",
            "Ragdoll",
            "Ragdoll",
            "Ragdoll",
            "Ragdoll",
            "Ragdoll",
            "Ragdoll",
            "Ragdoll",
            "Ragdoll",
            "Ragdoll",
            "Ragdoll",
            "Ragdoll",
            "Ragdoll",
            "Ragdoll",
            "Ragdoll",
            "Ragdoll",
            "Ragdoll",
            "Ragdoll",
            "Ragdoll",
            "Ragdoll",
            "Ragdoll",
            "Ragdoll",
            "Ragdoll",
            "Ragdoll",
            "Ragdoll",
            "Ragdoll",
            "Ragdoll",
            "Ragdoll",
            "Ragdoll",
            "Ragdoll",
            "Ragdoll",
            "Ragdoll",
            "Ragdoll",
            "Ragdoll",
            "Ragdoll",
            "Ragdoll",
            "Ragdoll",
            "Ragdoll",
            "Ragdoll",
            "Ragdoll",
            "Ragdoll",
            "Ragdoll",
            "Ragdoll",
            "Ragdoll",
            "Ragdoll",
            "Ragdoll",
            "Ragdoll",
            "Ragdoll",
            "Ragdoll",
            "Ragdoll",
            "Ragdoll",
            "Ragdoll",
            "Ragdoll",
            "Ragdoll",
            "Ragdoll",
            "Ragdoll",
            "Ragdoll",
            "Ragdoll",
            "Ragdoll",
            "Ragdoll",
            "Ragdoll",
            "Ragdoll",
            "Ragdoll",
            "Ragdoll",
            "Ragdoll",
            "Ragdoll",
            "Ragdoll",
            "Ragdoll",
            "Ragdoll",
            "Ragdoll",
            "Ragdoll",
            "Ragdoll",
            "Ragdoll",
            "Ragdoll",
            "Ragdoll",
            "Ragdoll",
            "Ragdoll",
            "Ragdoll",
            "Ragdoll",
            "Ragdoll",
            "Angora",
            "Angora",
            "Angora",
            "Angora",
            "Angora",
            "Angora",
            "Angora",
            "Angora",
            "Angora",
            "Angora",
            "Angora",
            "Angora",
            "Angora",
            "Angora",
            "Maine coon",
            "Maine coon",
            "Maine coon",
            "Maine coon",
            "Maine coon",
            "Maine coon",
            "Maine coon",
            "Maine coon",
            "Maine coon",
            "Maine coon",
            "Maine coon",
            "Maine coon",
            "Maine coon",
            "Maine coon",
            "Maine coon",
            "Maine coon"
           ]
          },
          {
           "label": "Country",
           "values": [
            "France",
            "France",
            "France",
            "France",
            "France",
            "France",
            "France",
            "France",
            "France",
            "France",
            "France",
            "France",
            "France",
            "France",
            "France",
            "France",
            "France",
            "France",
            "France",
            "France",
            "France",
            "France",
            "France",
            "France",
            "France",
            "France",
            "France",
            "France",
            "France",
            "France",
            "France",
            "France",
            "France",
            "France",
            "France",
            "France",
            "France",
            "France",
            "France",
            "France",
            "France",
            "France",
            "France",
            "France",
            "France",
            "France",
            "France",
            "France",
            "France",
            "France",
            "France",
            "France",
            "France",
            "France",
            "France",
            "France",
            "France",
            "France",
            "France",
            "France",
            "France",
            "France",
            "France",
            "France",
            "France",
            "France",
            "France",
            "France",
            "France",
            "France",
            "France",
            "USA",
            "USA",
            "USA",
            "USA",
            "USA",
            "USA",
            "France",
            "USA",
            "USA",
            "USA",
            "USA",
            "USA",
            "USA",
            "France",
            "USA",
            "USA",
            "France",
            "USA",
            "USA",
            "USA",
            "USA",
            "France",
            "USA",
            "USA",
            "USA",
            "USA",
            "USA",
            "USA",
            "USA",
            "USA",
            "USA",
            "USA",
            "USA",
            "France",
            "USA",
            "USA",
            "USA",
            "USA",
            "USA",
            "USA",
            "USA",
            "USA",
            "USA",
            "USA",
            "USA",
            "USA",
            "USA",
            "USA",
            "USA",
            "France",
            "USA",
            "USA",
            "USA",
            "USA",
            "USA",
            "USA",
            "USA",
            "USA",
            "USA",
            "USA",
            "Germany",
            "Germany",
            "Germany",
            "Germany",
            "Germany",
            "Germany",
            "Germany",
            "Germany",
            "Germany",
            "Germany",
            "Germany",
            "Germany",
            "Germany",
            "Germany",
            "Germany",
            "Germany",
            "Germany",
            "Germany",
            "Germany",
            "Germany",
            "Germany",
            "Germany",
            "USA",
            "USA",
            "USA",
            "USA",
            "USA",
            "USA",
            "USA",
            "USA",
            "France",
            "USA",
            "USA",
            "USA",
            "USA",
            "France",
            "USA",
            "USA",
            "USA",
            "USA",
            "USA",
            "USA",
            "USA",
            "USA",
            "USA",
            "USA",
            "Canada",
            "Canada",
            "Canada",
            "Canada",
            "Canada",
            "Canada",
            "Canada",
            "Canada",
            "Canada",
            "Canada",
            "Canada",
            "Canada",
            "Canada",
            "Canada",
            "Canada",
            "Canada",
            "Canada",
            "Canada",
            "Canada",
            "USA",
            "USA",
            "USA",
            "USA",
            "USA",
            "USA",
            "USA",
            "USA",
            "USA",
            "USA",
            "USA",
            "USA",
            "USA",
            "USA",
            "USA",
            "USA",
            "USA",
            "USA",
            "USA",
            "USA",
            "USA",
            "USA",
            "USA",
            "USA",
            "USA",
            "USA",
            "USA",
            "USA",
            "USA",
            "USA",
            "USA",
            "USA",
            "USA",
            "USA",
            "USA",
            "USA",
            "USA",
            "USA",
            "USA",
            "USA",
            "USA",
            "USA",
            "USA",
            "USA",
            "USA",
            "USA",
            "USA",
            "USA",
            "USA",
            "USA",
            "USA",
            "USA",
            "USA",
            "USA",
            "USA",
            "USA",
            "USA",
            "USA",
            "USA",
            "USA",
            "USA",
            "USA",
            "USA",
            "USA",
            "USA",
            "USA",
            "USA",
            "UK",
            "UK",
            "UK",
            "UK",
            "UK",
            "UK",
            "UK",
            "UK",
            "UK",
            "UK",
            "UK",
            "UK",
            "UK",
            "UK",
            "UK",
            "USA",
            "USA",
            "USA",
            "USA",
            "USA",
            "UK",
            "UK",
            "UK",
            "UK",
            "UK",
            "UK",
            "UK",
            "UK",
            "UK",
            "UK",
            "UK",
            "UK",
            "UK",
            "UK",
            "UK",
            "UK",
            "UK",
            "UK",
            "USA",
            "USA",
            "UK",
            "UK",
            "UK",
            "UK",
            "UK",
            "France",
            "France",
            "France",
            "France",
            "France",
            "France",
            "France",
            "France",
            "France",
            "France",
            "France",
            "France",
            "France",
            "UK",
            "UK",
            "UK",
            "UK",
            "UK",
            "UK",
            "UK",
            "France",
            "UK",
            "UK",
            "UK",
            "UK",
            "UK",
            "UK",
            "Germany",
            "UK",
            "Germany",
            "UK",
            "UK",
            "UK",
            "UK",
            "UK",
            "UK",
            "UK",
            "UK",
            "UK",
            "UK",
            "UK",
            "UK",
            "UK",
            "UK",
            "UK",
            "UK",
            "UK",
            "UK",
            "UK",
            "Germany",
            "Germany",
            "Germany",
            "Germany",
            "Germany",
            "Germany",
            "UK",
            "UK",
            "UK",
            "UK",
            "UK",
            "UK",
            "UK",
            "USA",
            "USA",
            "USA",
            "USA",
            "USA",
            "USA",
            "USA",
            "USA",
            "USA",
            "Germany",
            "Germany",
            "Germany",
            "Germany",
            "Germany",
            "Germany",
            "Germany",
            "Germany",
            "USA",
            "USA",
            "USA",
            "USA",
            "USA",
            "USA",
            "USA",
            "USA",
            "USA",
            "USA",
            "USA",
            "USA",
            "USA",
            "USA",
            "USA",
            "USA",
            "USA",
            "USA",
            "USA",
            "USA",
            "USA",
            "USA",
            "USA",
            "USA",
            "USA",
            "USA",
            "USA",
            "USA",
            "USA",
            "USA",
            "USA",
            "USA",
            "USA",
            "USA",
            "USA",
            "USA",
            "USA",
            "USA",
            "USA",
            "USA",
            "USA",
            "USA",
            "USA",
            "USA",
            "USA",
            "USA",
            "USA",
            "USA",
            "USA",
            "USA",
            "USA",
            "USA",
            "USA",
            "Canada",
            "Canada",
            "Canada",
            "Canada",
            "Canada",
            "Canada",
            "Canada",
            "Canada",
            "Canada",
            "Canada",
            "Canada",
            "Canada",
            "Canada",
            "Canada",
            "Canada",
            "Canada",
            "Canada",
            "Canada",
            "Canada",
            "Canada",
            "USA",
            "USA",
            "USA",
            "USA",
            "USA",
            "USA",
            "USA",
            "USA",
            "USA",
            "USA",
            "USA",
            "USA",
            "USA",
            "USA",
            "USA",
            "USA",
            "USA",
            "USA",
            "Germany",
            "USA",
            "USA",
            "USA",
            "USA",
            "USA",
            "USA",
            "USA",
            "USA",
            "USA",
            "USA",
            "USA",
            "USA",
            "USA",
            "USA",
            "Germany",
            "Germany",
            "Germany",
            "Germany",
            "Germany",
            "Germany",
            "Germany",
            "Germany",
            "Germany",
            "Germany",
            "Germany",
            "USA",
            "Germany",
            "USA",
            "USA",
            "USA",
            "USA",
            "USA",
            "USA",
            "USA",
            "USA",
            "USA",
            "USA",
            "USA",
            "USA",
            "USA",
            "USA",
            "USA",
            "USA",
            "USA",
            "USA",
            "USA",
            "USA",
            "USA",
            "USA",
            "USA",
            "USA",
            "USA",
            "USA",
            "USA",
            "USA",
            "USA",
            "USA",
            "USA",
            "USA",
            "USA",
            "USA",
            "USA",
            "USA",
            "USA",
            "USA",
            "USA",
            "USA",
            "USA",
            "USA",
            "USA",
            "USA",
            "USA",
            "USA",
            "USA",
            "USA",
            "USA",
            "USA",
            "USA",
            "USA",
            "USA",
            "USA",
            "USA",
            "USA",
            "USA",
            "USA",
            "USA",
            "USA",
            "USA",
            "USA",
            "USA",
            "USA",
            "USA",
            "USA",
            "USA",
            "USA",
            "USA",
            "USA",
            "USA",
            "USA",
            "USA",
            "USA",
            "USA",
            "USA",
            "USA",
            "USA",
            "USA",
            "USA",
            "USA",
            "USA",
            "USA",
            "USA",
            "USA",
            "USA",
            "USA",
            "USA",
            "USA",
            "USA",
            "USA",
            "USA",
            "USA",
            "USA",
            "USA",
            "USA",
            "USA",
            "USA",
            "USA",
            "USA",
            "USA",
            "USA",
            "UK",
            "UK",
            "UK",
            "UK",
            "UK",
            "UK",
            "UK",
            "UK",
            "UK",
            "UK",
            "UK",
            "UK",
            "UK",
            "UK",
            "UK",
            "UK",
            "UK",
            "UK",
            "UK",
            "UK",
            "USA",
            "USA",
            "Germany",
            "Germany",
            "Germany",
            "Germany",
            "Germany",
            "Germany",
            "Germany",
            "Germany",
            "Germany",
            "Germany",
            "Germany",
            "Germany",
            "Germany",
            "Germany",
            "Germany",
            "Germany",
            "Germany",
            "USA",
            "USA",
            "USA",
            "USA",
            "USA",
            "USA",
            "USA",
            "USA",
            "USA",
            "USA",
            "USA",
            "Canada",
            "Canada",
            "Canada",
            "Canada",
            "Canada",
            "Canada",
            "Canada",
            "Canada",
            "Canada",
            "Canada",
            "UK",
            "UK",
            "UK",
            "UK",
            "UK",
            "UK",
            "UK",
            "UK",
            "UK",
            "UK",
            "UK",
            "UK",
            "UK",
            "UK",
            "Canada",
            "Canada",
            "Canada",
            "Canada",
            "Canada",
            "Canada",
            "Canada",
            "Canada",
            "Canada",
            "Canada",
            "Canada",
            "USA",
            "USA",
            "USA",
            "USA",
            "USA",
            "USA",
            "USA",
            "USA",
            "USA",
            "USA",
            "USA",
            "USA",
            "USA",
            "USA",
            "USA",
            "USA",
            "USA",
            "USA",
            "USA",
            "USA",
            "USA",
            "USA",
            "USA",
            "USA",
            "USA",
            "USA",
            "USA",
            "USA",
            "USA",
            "USA",
            "USA",
            "USA",
            "USA",
            "USA",
            "USA",
            "USA",
            "USA",
            "USA",
            "USA",
            "USA",
            "USA",
            "USA",
            "USA",
            "USA",
            "USA",
            "USA",
            "USA",
            "USA",
            "USA",
            "USA",
            "USA",
            "USA",
            "USA",
            "USA",
            "USA",
            "USA",
            "USA",
            "USA",
            "USA",
            "USA",
            "USA",
            "USA",
            "USA",
            "USA",
            "USA",
            "USA",
            "USA",
            "USA",
            "USA",
            "USA",
            "USA",
            "USA",
            "USA",
            "USA",
            "USA",
            "France",
            "France",
            "France",
            "France",
            "France",
            "France",
            "France",
            "France",
            "France",
            "France",
            "France",
            "USA",
            "USA",
            "USA",
            "USA",
            "USA",
            "USA",
            "USA",
            "USA",
            "USA",
            "USA",
            "USA",
            "USA",
            "USA",
            "USA",
            "USA",
            "USA",
            "USA",
            "USA",
            "USA",
            "USA",
            "USA",
            "USA",
            "USA",
            "USA",
            "USA",
            "USA",
            "USA",
            "USA",
            "USA",
            "USA",
            "USA",
            "USA",
            "USA",
            "USA",
            "USA",
            "USA",
            "USA",
            "USA",
            "USA",
            "USA",
            "USA",
            "USA",
            "USA",
            "USA",
            "USA",
            "USA",
            "USA",
            "USA",
            "USA",
            "USA",
            "USA",
            "USA",
            "USA",
            "USA",
            "USA",
            "USA",
            "USA",
            "USA",
            "USA",
            "Germany",
            "Germany",
            "Germany",
            "Germany",
            "Germany",
            "Germany",
            "Germany",
            "Germany",
            "Germany",
            "Germany",
            "USA",
            "USA",
            "USA",
            "USA",
            "USA",
            "USA",
            "USA",
            "USA",
            "USA",
            "USA",
            "USA",
            "USA",
            "USA",
            "USA",
            "USA",
            "USA",
            "USA",
            "USA",
            "USA",
            "USA",
            "USA",
            "UK",
            "UK",
            "UK",
            "UK",
            "UK",
            "UK",
            "UK",
            "UK",
            "UK",
            "UK",
            "UK",
            "UK",
            "UK",
            "USA",
            "Germany",
            "USA",
            "USA",
            "Germany",
            "Germany",
            "Germany",
            "Germany",
            "Germany",
            "Germany",
            "Germany",
            "Germany",
            "Germany",
            "USA",
            "USA",
            "USA",
            "USA",
            "USA",
            "USA",
            "USA",
            "USA",
            "USA",
            "USA",
            "USA",
            "USA",
            "USA",
            "USA",
            "USA",
            "USA",
            "USA",
            "USA",
            "Canada",
            "Canada",
            "Canada",
            "Canada",
            "Canada",
            "Canada",
            "Canada",
            "Canada",
            "Canada",
            "Canada",
            "Canada",
            "Canada",
            "Canada",
            "Canada",
            "Canada",
            "USA",
            "USA",
            "USA",
            "USA",
            "USA",
            "USA",
            "USA",
            "USA",
            "USA",
            "USA",
            "USA",
            "USA",
            "USA",
            "USA",
            "USA",
            "USA",
            "USA",
            "USA",
            "USA",
            "USA",
            "USA",
            "USA",
            "USA",
            "USA",
            "USA",
            "USA",
            "USA",
            "USA",
            "USA",
            "USA",
            "USA",
            "USA",
            "USA",
            "USA",
            "USA",
            "USA",
            "USA",
            "USA",
            "USA",
            "USA",
            "USA",
            "USA",
            "USA",
            "USA",
            "USA",
            "USA",
            "USA",
            "USA",
            "USA",
            "USA",
            "USA",
            "USA",
            "USA",
            "USA",
            "USA",
            "USA",
            "USA",
            "USA",
            "USA",
            "USA",
            "USA",
            "USA",
            "USA",
            "USA",
            "USA",
            "USA",
            "USA",
            "USA",
            "USA",
            "USA",
            "USA",
            "USA",
            "USA",
            "USA",
            "USA",
            "USA",
            "USA",
            "USA",
            "USA",
            "USA",
            "USA",
            "USA",
            "USA",
            "USA",
            "USA",
            "USA",
            "USA",
            "USA",
            "USA",
            "USA",
            "USA",
            "USA",
            "USA",
            "USA",
            "USA",
            "USA",
            "USA",
            "USA",
            "USA",
            "USA",
            "USA",
            "USA",
            "USA",
            "USA",
            "USA",
            "USA",
            "USA",
            "USA",
            "USA",
            "USA",
            "USA",
            "USA",
            "USA",
            "USA",
            "USA",
            "USA",
            "USA",
            "USA",
            "USA",
            "UK",
            "USA",
            "USA",
            "USA",
            "Germany",
            "USA",
            "USA",
            "USA",
            "USA",
            "USA",
            "USA",
            "USA",
            "USA",
            "USA",
            "USA",
            "USA",
            "UK",
            "UK",
            "UK",
            "UK",
            "UK",
            "UK",
            "UK",
            "UK"
           ]
          }
         ],
         "domain": {
          "x": [
           0,
           1
          ],
          "y": [
           0,
           1
          ]
         },
         "line": {
          "color": "pink"
         },
         "name": "",
         "type": "parcats"
        }
       ],
       "layout": {
        "legend": {
         "tracegroupgap": 0
        },
        "template": {
         "data": {
          "bar": [
           {
            "error_x": {
             "color": "#2a3f5f"
            },
            "error_y": {
             "color": "#2a3f5f"
            },
            "marker": {
             "line": {
              "color": "#E5ECF6",
              "width": 0.5
             },
             "pattern": {
              "fillmode": "overlay",
              "size": 10,
              "solidity": 0.2
             }
            },
            "type": "bar"
           }
          ],
          "barpolar": [
           {
            "marker": {
             "line": {
              "color": "#E5ECF6",
              "width": 0.5
             },
             "pattern": {
              "fillmode": "overlay",
              "size": 10,
              "solidity": 0.2
             }
            },
            "type": "barpolar"
           }
          ],
          "carpet": [
           {
            "aaxis": {
             "endlinecolor": "#2a3f5f",
             "gridcolor": "white",
             "linecolor": "white",
             "minorgridcolor": "white",
             "startlinecolor": "#2a3f5f"
            },
            "baxis": {
             "endlinecolor": "#2a3f5f",
             "gridcolor": "white",
             "linecolor": "white",
             "minorgridcolor": "white",
             "startlinecolor": "#2a3f5f"
            },
            "type": "carpet"
           }
          ],
          "choropleth": [
           {
            "colorbar": {
             "outlinewidth": 0,
             "ticks": ""
            },
            "type": "choropleth"
           }
          ],
          "contour": [
           {
            "colorbar": {
             "outlinewidth": 0,
             "ticks": ""
            },
            "colorscale": [
             [
              0,
              "#0d0887"
             ],
             [
              0.1111111111111111,
              "#46039f"
             ],
             [
              0.2222222222222222,
              "#7201a8"
             ],
             [
              0.3333333333333333,
              "#9c179e"
             ],
             [
              0.4444444444444444,
              "#bd3786"
             ],
             [
              0.5555555555555556,
              "#d8576b"
             ],
             [
              0.6666666666666666,
              "#ed7953"
             ],
             [
              0.7777777777777778,
              "#fb9f3a"
             ],
             [
              0.8888888888888888,
              "#fdca26"
             ],
             [
              1,
              "#f0f921"
             ]
            ],
            "type": "contour"
           }
          ],
          "contourcarpet": [
           {
            "colorbar": {
             "outlinewidth": 0,
             "ticks": ""
            },
            "type": "contourcarpet"
           }
          ],
          "heatmap": [
           {
            "colorbar": {
             "outlinewidth": 0,
             "ticks": ""
            },
            "colorscale": [
             [
              0,
              "#0d0887"
             ],
             [
              0.1111111111111111,
              "#46039f"
             ],
             [
              0.2222222222222222,
              "#7201a8"
             ],
             [
              0.3333333333333333,
              "#9c179e"
             ],
             [
              0.4444444444444444,
              "#bd3786"
             ],
             [
              0.5555555555555556,
              "#d8576b"
             ],
             [
              0.6666666666666666,
              "#ed7953"
             ],
             [
              0.7777777777777778,
              "#fb9f3a"
             ],
             [
              0.8888888888888888,
              "#fdca26"
             ],
             [
              1,
              "#f0f921"
             ]
            ],
            "type": "heatmap"
           }
          ],
          "histogram": [
           {
            "marker": {
             "pattern": {
              "fillmode": "overlay",
              "size": 10,
              "solidity": 0.2
             }
            },
            "type": "histogram"
           }
          ],
          "histogram2d": [
           {
            "colorbar": {
             "outlinewidth": 0,
             "ticks": ""
            },
            "colorscale": [
             [
              0,
              "#0d0887"
             ],
             [
              0.1111111111111111,
              "#46039f"
             ],
             [
              0.2222222222222222,
              "#7201a8"
             ],
             [
              0.3333333333333333,
              "#9c179e"
             ],
             [
              0.4444444444444444,
              "#bd3786"
             ],
             [
              0.5555555555555556,
              "#d8576b"
             ],
             [
              0.6666666666666666,
              "#ed7953"
             ],
             [
              0.7777777777777778,
              "#fb9f3a"
             ],
             [
              0.8888888888888888,
              "#fdca26"
             ],
             [
              1,
              "#f0f921"
             ]
            ],
            "type": "histogram2d"
           }
          ],
          "histogram2dcontour": [
           {
            "colorbar": {
             "outlinewidth": 0,
             "ticks": ""
            },
            "colorscale": [
             [
              0,
              "#0d0887"
             ],
             [
              0.1111111111111111,
              "#46039f"
             ],
             [
              0.2222222222222222,
              "#7201a8"
             ],
             [
              0.3333333333333333,
              "#9c179e"
             ],
             [
              0.4444444444444444,
              "#bd3786"
             ],
             [
              0.5555555555555556,
              "#d8576b"
             ],
             [
              0.6666666666666666,
              "#ed7953"
             ],
             [
              0.7777777777777778,
              "#fb9f3a"
             ],
             [
              0.8888888888888888,
              "#fdca26"
             ],
             [
              1,
              "#f0f921"
             ]
            ],
            "type": "histogram2dcontour"
           }
          ],
          "mesh3d": [
           {
            "colorbar": {
             "outlinewidth": 0,
             "ticks": ""
            },
            "type": "mesh3d"
           }
          ],
          "parcoords": [
           {
            "line": {
             "colorbar": {
              "outlinewidth": 0,
              "ticks": ""
             }
            },
            "type": "parcoords"
           }
          ],
          "pie": [
           {
            "automargin": true,
            "type": "pie"
           }
          ],
          "scatter": [
           {
            "fillpattern": {
             "fillmode": "overlay",
             "size": 10,
             "solidity": 0.2
            },
            "type": "scatter"
           }
          ],
          "scatter3d": [
           {
            "line": {
             "colorbar": {
              "outlinewidth": 0,
              "ticks": ""
             }
            },
            "marker": {
             "colorbar": {
              "outlinewidth": 0,
              "ticks": ""
             }
            },
            "type": "scatter3d"
           }
          ],
          "scattercarpet": [
           {
            "marker": {
             "colorbar": {
              "outlinewidth": 0,
              "ticks": ""
             }
            },
            "type": "scattercarpet"
           }
          ],
          "scattergeo": [
           {
            "marker": {
             "colorbar": {
              "outlinewidth": 0,
              "ticks": ""
             }
            },
            "type": "scattergeo"
           }
          ],
          "scattergl": [
           {
            "marker": {
             "colorbar": {
              "outlinewidth": 0,
              "ticks": ""
             }
            },
            "type": "scattergl"
           }
          ],
          "scattermap": [
           {
            "marker": {
             "colorbar": {
              "outlinewidth": 0,
              "ticks": ""
             }
            },
            "type": "scattermap"
           }
          ],
          "scattermapbox": [
           {
            "marker": {
             "colorbar": {
              "outlinewidth": 0,
              "ticks": ""
             }
            },
            "type": "scattermapbox"
           }
          ],
          "scatterpolar": [
           {
            "marker": {
             "colorbar": {
              "outlinewidth": 0,
              "ticks": ""
             }
            },
            "type": "scatterpolar"
           }
          ],
          "scatterpolargl": [
           {
            "marker": {
             "colorbar": {
              "outlinewidth": 0,
              "ticks": ""
             }
            },
            "type": "scatterpolargl"
           }
          ],
          "scatterternary": [
           {
            "marker": {
             "colorbar": {
              "outlinewidth": 0,
              "ticks": ""
             }
            },
            "type": "scatterternary"
           }
          ],
          "surface": [
           {
            "colorbar": {
             "outlinewidth": 0,
             "ticks": ""
            },
            "colorscale": [
             [
              0,
              "#0d0887"
             ],
             [
              0.1111111111111111,
              "#46039f"
             ],
             [
              0.2222222222222222,
              "#7201a8"
             ],
             [
              0.3333333333333333,
              "#9c179e"
             ],
             [
              0.4444444444444444,
              "#bd3786"
             ],
             [
              0.5555555555555556,
              "#d8576b"
             ],
             [
              0.6666666666666666,
              "#ed7953"
             ],
             [
              0.7777777777777778,
              "#fb9f3a"
             ],
             [
              0.8888888888888888,
              "#fdca26"
             ],
             [
              1,
              "#f0f921"
             ]
            ],
            "type": "surface"
           }
          ],
          "table": [
           {
            "cells": {
             "fill": {
              "color": "#EBF0F8"
             },
             "line": {
              "color": "white"
             }
            },
            "header": {
             "fill": {
              "color": "#C8D4E3"
             },
             "line": {
              "color": "white"
             }
            },
            "type": "table"
           }
          ]
         },
         "layout": {
          "annotationdefaults": {
           "arrowcolor": "#2a3f5f",
           "arrowhead": 0,
           "arrowwidth": 1
          },
          "autotypenumbers": "strict",
          "coloraxis": {
           "colorbar": {
            "outlinewidth": 0,
            "ticks": ""
           }
          },
          "colorscale": {
           "diverging": [
            [
             0,
             "#8e0152"
            ],
            [
             0.1,
             "#c51b7d"
            ],
            [
             0.2,
             "#de77ae"
            ],
            [
             0.3,
             "#f1b6da"
            ],
            [
             0.4,
             "#fde0ef"
            ],
            [
             0.5,
             "#f7f7f7"
            ],
            [
             0.6,
             "#e6f5d0"
            ],
            [
             0.7,
             "#b8e186"
            ],
            [
             0.8,
             "#7fbc41"
            ],
            [
             0.9,
             "#4d9221"
            ],
            [
             1,
             "#276419"
            ]
           ],
           "sequential": [
            [
             0,
             "#0d0887"
            ],
            [
             0.1111111111111111,
             "#46039f"
            ],
            [
             0.2222222222222222,
             "#7201a8"
            ],
            [
             0.3333333333333333,
             "#9c179e"
            ],
            [
             0.4444444444444444,
             "#bd3786"
            ],
            [
             0.5555555555555556,
             "#d8576b"
            ],
            [
             0.6666666666666666,
             "#ed7953"
            ],
            [
             0.7777777777777778,
             "#fb9f3a"
            ],
            [
             0.8888888888888888,
             "#fdca26"
            ],
            [
             1,
             "#f0f921"
            ]
           ],
           "sequentialminus": [
            [
             0,
             "#0d0887"
            ],
            [
             0.1111111111111111,
             "#46039f"
            ],
            [
             0.2222222222222222,
             "#7201a8"
            ],
            [
             0.3333333333333333,
             "#9c179e"
            ],
            [
             0.4444444444444444,
             "#bd3786"
            ],
            [
             0.5555555555555556,
             "#d8576b"
            ],
            [
             0.6666666666666666,
             "#ed7953"
            ],
            [
             0.7777777777777778,
             "#fb9f3a"
            ],
            [
             0.8888888888888888,
             "#fdca26"
            ],
            [
             1,
             "#f0f921"
            ]
           ]
          },
          "colorway": [
           "#636efa",
           "#EF553B",
           "#00cc96",
           "#ab63fa",
           "#FFA15A",
           "#19d3f3",
           "#FF6692",
           "#B6E880",
           "#FF97FF",
           "#FECB52"
          ],
          "font": {
           "color": "#2a3f5f"
          },
          "geo": {
           "bgcolor": "white",
           "lakecolor": "white",
           "landcolor": "#E5ECF6",
           "showlakes": true,
           "showland": true,
           "subunitcolor": "white"
          },
          "hoverlabel": {
           "align": "left"
          },
          "hovermode": "closest",
          "mapbox": {
           "style": "light"
          },
          "paper_bgcolor": "white",
          "plot_bgcolor": "#E5ECF6",
          "polar": {
           "angularaxis": {
            "gridcolor": "white",
            "linecolor": "white",
            "ticks": ""
           },
           "bgcolor": "#E5ECF6",
           "radialaxis": {
            "gridcolor": "white",
            "linecolor": "white",
            "ticks": ""
           }
          },
          "scene": {
           "xaxis": {
            "backgroundcolor": "#E5ECF6",
            "gridcolor": "white",
            "gridwidth": 2,
            "linecolor": "white",
            "showbackground": true,
            "ticks": "",
            "zerolinecolor": "white"
           },
           "yaxis": {
            "backgroundcolor": "#E5ECF6",
            "gridcolor": "white",
            "gridwidth": 2,
            "linecolor": "white",
            "showbackground": true,
            "ticks": "",
            "zerolinecolor": "white"
           },
           "zaxis": {
            "backgroundcolor": "#E5ECF6",
            "gridcolor": "white",
            "gridwidth": 2,
            "linecolor": "white",
            "showbackground": true,
            "ticks": "",
            "zerolinecolor": "white"
           }
          },
          "shapedefaults": {
           "line": {
            "color": "#2a3f5f"
           }
          },
          "ternary": {
           "aaxis": {
            "gridcolor": "white",
            "linecolor": "white",
            "ticks": ""
           },
           "baxis": {
            "gridcolor": "white",
            "linecolor": "white",
            "ticks": ""
           },
           "bgcolor": "#E5ECF6",
           "caxis": {
            "gridcolor": "white",
            "linecolor": "white",
            "ticks": ""
           }
          },
          "title": {
           "x": 0.05
          },
          "xaxis": {
           "automargin": true,
           "gridcolor": "white",
           "linecolor": "white",
           "ticks": "",
           "title": {
            "standoff": 15
           },
           "zerolinecolor": "white",
           "zerolinewidth": 2
          },
          "yaxis": {
           "automargin": true,
           "gridcolor": "white",
           "linecolor": "white",
           "ticks": "",
           "title": {
            "standoff": 15
           },
           "zerolinecolor": "white",
           "zerolinewidth": 2
          }
         }
        },
        "title": {
         "text": "Breed x Country"
        }
       }
      }
     },
     "metadata": {},
     "output_type": "display_data"
    }
   ],
   "source": [
    "fig = px.parallel_categories(db, dimensions=[\"Breed\", \"Country\"], title=\"Breed x Country\")\n",
    "fig.update_traces(line={'color': 'pink'})\n",
    "fig.show()"
   ]
  },
  {
   "cell_type": "code",
   "execution_count": 32,
   "id": "91281ff7",
   "metadata": {},
   "outputs": [
    {
     "data": {
      "text/plain": [
       "[Text(0, 0, '294'), Text(0, 0, '342'), Text(0, 0, '435')]"
      ]
     },
     "execution_count": 32,
     "metadata": {},
     "output_type": "execute_result"
    },
    {
     "data": {
      "image/png": "[encoded data removed]",
      "text/plain": [
       "<Figure size 640x480 with 1 Axes>"
      ]
     },
     "metadata": {},
     "output_type": "display_data"
    }
   ],
   "source": [
    "breed = db['Breed'].value_counts().sort_index()\n",
    "breed = breed.plot(kind=\"bar\", x=db['Breed'], color=\"pink\", xlabel='Breeds', ylabel='Quantity', rot=360, title='Quantity by Breed' )\n",
    "breed.bar_label(breed.containers[0])"
   ]
  },
  {
   "cell_type": "markdown",
   "id": "a4de4c22",
   "metadata": {},
   "source": [
    "# Clean Data"
   ]
  },
  {
   "cell_type": "markdown",
   "id": "f2662d1c",
   "metadata": {},
   "source": [
    "Now, we shall split the data between the Target and the Explanatory Variables  \n",
    "**Target**: The result you want to predict  \n",
    "**Explanatory** Variable: The factor used to make the prediction\n"
   ]
  },
  {
   "cell_type": "code",
   "execution_count": 33,
   "id": "766a7152",
   "metadata": {},
   "outputs": [
    {
     "data": {
      "text/plain": [
       "Index(['Breed', 'Age_in_years', 'Age_in_months', 'Gender',\n",
       "       'Neutered_or_spayed', 'Body_length', 'Weight', 'Fur_colour_dominant',\n",
       "       'Fur_pattern', 'Eye_colour', 'Allowed_outdoor', 'Preferred_food',\n",
       "       'Owner_play_time_minutes', 'Sleep_time_hours', 'Country', 'Latitude',\n",
       "       'Longitude'],\n",
       "      dtype='object')"
      ]
     },
     "execution_count": 33,
     "metadata": {},
     "output_type": "execute_result"
    }
   ],
   "source": [
    "db.columns"
   ]
  },
  {
   "cell_type": "code",
   "execution_count": 34,
   "id": "8e9d530a",
   "metadata": {},
   "outputs": [],
   "source": [
    "features = [\n",
    "    'Gender', 'Body_length', 'Weight', 'Fur_colour_dominant', 'Fur_pattern', 'Eye_colour', 'Country', 'Latitude', 'Longitude' ]\n",
    "target = 'Breed'\n",
    "\n",
    "clean_base = db[features].copy()\n",
    "clean_target = db[target].copy()"
   ]
  },
  {
   "cell_type": "markdown",
   "id": "bc5f9866",
   "metadata": {},
   "source": [
    "## Label Encoder"
   ]
  },
  {
   "cell_type": "markdown",
   "id": "7fa2a8af",
   "metadata": {},
   "source": [
    "Data preprocessing technique used in machine learning to convert categorical variables into a numerical format."
   ]
  },
  {
   "cell_type": "code",
   "execution_count": 35,
   "id": "0fb6dd30",
   "metadata": {},
   "outputs": [],
   "source": [
    "from sklearn.preprocessing import LabelEncoder\n",
    "\n",
    "#dictionary to store the LabelEncoders of each feature (categorical column)\n",
    "features_le = {}\n",
    "# to prevent from modifing the original data\n",
    "base_encoded = clean_base.copy()\n",
    "\n",
    "for feat in features:\n",
    "    if base_encoded[feat].dtype == 'object':\n",
    "        # create a LabelEncoder to column and store it in the dictionary\n",
    "        features_le[feat] = LabelEncoder() \n",
    "        # apply the LabelEncoder, converting the categories into numbers\n",
    "        base_encoded[feat] = features_le[feat].fit_transform(base_encoded[feat])\n",
    "        \n",
    "# same process now to the target, but it doesn't need 'for' cuz there's only one column\n",
    "\n",
    "target_le = LabelEncoder()\n",
    "target_encoded = clean_target.copy()\n",
    "\n",
    "if(clean_target.dtype == \"object\"):\n",
    "    target_encoded  = target_le.fit_transform(target_encoded)\n",
    "\n",
    "# transform the result into a Series, with the same variable name\n",
    "\n",
    "target_encoded = pd.Series(target, name=target)\n",
    "\n",
    "\n"
   ]
  },
  {
   "cell_type": "code",
   "execution_count": 36,
   "id": "1458527f",
   "metadata": {},
   "outputs": [
    {
     "data": {
      "text/html": [
       "<div>\n",
       "<style scoped>\n",
       "    .dataframe tbody tr th:only-of-type {\n",
       "        vertical-align: middle;\n",
       "    }\n",
       "\n",
       "    .dataframe tbody tr th {\n",
       "        vertical-align: top;\n",
       "    }\n",
       "\n",
       "    .dataframe thead th {\n",
       "        text-align: right;\n",
       "    }\n",
       "</style>\n",
       "<table border=\"1\" class=\"dataframe\">\n",
       "  <thead>\n",
       "    <tr style=\"text-align: right;\">\n",
       "      <th></th>\n",
       "      <th>Gender</th>\n",
       "      <th>Body_length</th>\n",
       "      <th>Weight</th>\n",
       "      <th>Fur_colour_dominant</th>\n",
       "      <th>Fur_pattern</th>\n",
       "      <th>Eye_colour</th>\n",
       "      <th>Country</th>\n",
       "      <th>Latitude</th>\n",
       "      <th>Longitude</th>\n",
       "    </tr>\n",
       "  </thead>\n",
       "  <tbody>\n",
       "    <tr>\n",
       "      <th>0</th>\n",
       "      <td>0</td>\n",
       "      <td>19</td>\n",
       "      <td>2.0</td>\n",
       "      <td>5</td>\n",
       "      <td>3</td>\n",
       "      <td>1</td>\n",
       "      <td>1</td>\n",
       "      <td>43.296482</td>\n",
       "      <td>5.369780</td>\n",
       "    </tr>\n",
       "    <tr>\n",
       "      <th>1</th>\n",
       "      <td>1</td>\n",
       "      <td>19</td>\n",
       "      <td>2.5</td>\n",
       "      <td>5</td>\n",
       "      <td>3</td>\n",
       "      <td>1</td>\n",
       "      <td>1</td>\n",
       "      <td>43.611660</td>\n",
       "      <td>3.877710</td>\n",
       "    </tr>\n",
       "    <tr>\n",
       "      <th>2</th>\n",
       "      <td>1</td>\n",
       "      <td>20</td>\n",
       "      <td>2.8</td>\n",
       "      <td>0</td>\n",
       "      <td>3</td>\n",
       "      <td>2</td>\n",
       "      <td>1</td>\n",
       "      <td>44.837789</td>\n",
       "      <td>-0.579180</td>\n",
       "    </tr>\n",
       "    <tr>\n",
       "      <th>3</th>\n",
       "      <td>0</td>\n",
       "      <td>21</td>\n",
       "      <td>3.0</td>\n",
       "      <td>5</td>\n",
       "      <td>3</td>\n",
       "      <td>1</td>\n",
       "      <td>1</td>\n",
       "      <td>43.611660</td>\n",
       "      <td>3.877710</td>\n",
       "    </tr>\n",
       "    <tr>\n",
       "      <th>4</th>\n",
       "      <td>1</td>\n",
       "      <td>21</td>\n",
       "      <td>3.0</td>\n",
       "      <td>3</td>\n",
       "      <td>4</td>\n",
       "      <td>2</td>\n",
       "      <td>1</td>\n",
       "      <td>48.864716</td>\n",
       "      <td>2.349014</td>\n",
       "    </tr>\n",
       "    <tr>\n",
       "      <th>...</th>\n",
       "      <td>...</td>\n",
       "      <td>...</td>\n",
       "      <td>...</td>\n",
       "      <td>...</td>\n",
       "      <td>...</td>\n",
       "      <td>...</td>\n",
       "      <td>...</td>\n",
       "      <td>...</td>\n",
       "      <td>...</td>\n",
       "    </tr>\n",
       "    <tr>\n",
       "      <th>1066</th>\n",
       "      <td>0</td>\n",
       "      <td>15</td>\n",
       "      <td>1.2</td>\n",
       "      <td>5</td>\n",
       "      <td>3</td>\n",
       "      <td>1</td>\n",
       "      <td>3</td>\n",
       "      <td>51.507351</td>\n",
       "      <td>-0.127758</td>\n",
       "    </tr>\n",
       "    <tr>\n",
       "      <th>1067</th>\n",
       "      <td>0</td>\n",
       "      <td>17</td>\n",
       "      <td>1.0</td>\n",
       "      <td>0</td>\n",
       "      <td>0</td>\n",
       "      <td>1</td>\n",
       "      <td>3</td>\n",
       "      <td>51.507351</td>\n",
       "      <td>-0.127758</td>\n",
       "    </tr>\n",
       "    <tr>\n",
       "      <th>1068</th>\n",
       "      <td>1</td>\n",
       "      <td>14</td>\n",
       "      <td>0.7</td>\n",
       "      <td>3</td>\n",
       "      <td>4</td>\n",
       "      <td>1</td>\n",
       "      <td>3</td>\n",
       "      <td>51.507351</td>\n",
       "      <td>-0.127758</td>\n",
       "    </tr>\n",
       "    <tr>\n",
       "      <th>1069</th>\n",
       "      <td>1</td>\n",
       "      <td>16</td>\n",
       "      <td>1.1</td>\n",
       "      <td>3</td>\n",
       "      <td>4</td>\n",
       "      <td>2</td>\n",
       "      <td>3</td>\n",
       "      <td>52.486244</td>\n",
       "      <td>-1.890401</td>\n",
       "    </tr>\n",
       "    <tr>\n",
       "      <th>1070</th>\n",
       "      <td>0</td>\n",
       "      <td>15</td>\n",
       "      <td>1.1</td>\n",
       "      <td>3</td>\n",
       "      <td>3</td>\n",
       "      <td>1</td>\n",
       "      <td>3</td>\n",
       "      <td>51.507351</td>\n",
       "      <td>-0.127758</td>\n",
       "    </tr>\n",
       "  </tbody>\n",
       "</table>\n",
       "<p>1071 rows × 9 columns</p>\n",
       "</div>"
      ],
      "text/plain": [
       "      Gender  Body_length  Weight  Fur_colour_dominant  Fur_pattern  \\\n",
       "0          0           19     2.0                    5            3   \n",
       "1          1           19     2.5                    5            3   \n",
       "2          1           20     2.8                    0            3   \n",
       "3          0           21     3.0                    5            3   \n",
       "4          1           21     3.0                    3            4   \n",
       "...      ...          ...     ...                  ...          ...   \n",
       "1066       0           15     1.2                    5            3   \n",
       "1067       0           17     1.0                    0            0   \n",
       "1068       1           14     0.7                    3            4   \n",
       "1069       1           16     1.1                    3            4   \n",
       "1070       0           15     1.1                    3            3   \n",
       "\n",
       "      Eye_colour  Country   Latitude  Longitude  \n",
       "0              1        1  43.296482   5.369780  \n",
       "1              1        1  43.611660   3.877710  \n",
       "2              2        1  44.837789  -0.579180  \n",
       "3              1        1  43.611660   3.877710  \n",
       "4              2        1  48.864716   2.349014  \n",
       "...          ...      ...        ...        ...  \n",
       "1066           1        3  51.507351  -0.127758  \n",
       "1067           1        3  51.507351  -0.127758  \n",
       "1068           1        3  51.507351  -0.127758  \n",
       "1069           2        3  52.486244  -1.890401  \n",
       "1070           1        3  51.507351  -0.127758  \n",
       "\n",
       "[1071 rows x 9 columns]"
      ]
     },
     "execution_count": 36,
     "metadata": {},
     "output_type": "execute_result"
    }
   ],
   "source": [
    "base_encoded"
   ]
  },
  {
   "cell_type": "code",
   "execution_count": 37,
   "id": "9fa43067",
   "metadata": {},
   "outputs": [
    {
     "data": {
      "text/plain": [
       "0    Breed\n",
       "Name: Breed, dtype: object"
      ]
     },
     "execution_count": 37,
     "metadata": {},
     "output_type": "execute_result"
    }
   ],
   "source": [
    "target_encoded"
   ]
  },
  {
   "cell_type": "markdown",
   "id": "1e00fea1",
   "metadata": {},
   "source": [
    "## Standard Scaler"
   ]
  },
  {
   "cell_type": "markdown",
   "id": "301b519f",
   "metadata": {},
   "source": [
    "The Standard Scaler is a preprocessing tool used in machine learning to adjust data that are on very different scales. It ensures that all variables in a dataset have equal importance to the model, preventing one variable with very high values ​​from dominating the calculation. It transforms data so that each feature has a mean of 0 and a stardard deviation of 1 and this process, is crucial for many ML algorithms that are sensitive to the scale of the input features.  \n",
    "\\(z= (x- \\mu ) / \\sigma \\)  \n",
    "\n",
    "where:  \n",
    "z is the new standardized value  \n",
    "x is the original value  \n",
    "\\(\\mu \\) is the mean of the feature's training samples  \n",
    "\\(\\sigma \\) is the standard deviation of the feature's training samples\n"
   ]
  },
  {
   "cell_type": "code",
   "execution_count": 38,
   "id": "5b600e57",
   "metadata": {},
   "outputs": [],
   "source": [
    "from sklearn.preprocessing import StandardScaler\n",
    "\n",
    "scaler = StandardScaler()\n",
    "base_scaled = scaler.fit_transform(base_encoded)\n",
    "# target_scaled = scaler."
   ]
  },
  {
   "cell_type": "code",
   "execution_count": 39,
   "id": "09629609",
   "metadata": {},
   "outputs": [
    {
     "data": {
      "text/html": [
       "<div>\n",
       "<style scoped>\n",
       "    .dataframe tbody tr th:only-of-type {\n",
       "        vertical-align: middle;\n",
       "    }\n",
       "\n",
       "    .dataframe tbody tr th {\n",
       "        vertical-align: top;\n",
       "    }\n",
       "\n",
       "    .dataframe thead th {\n",
       "        text-align: right;\n",
       "    }\n",
       "</style>\n",
       "<table border=\"1\" class=\"dataframe\">\n",
       "  <thead>\n",
       "    <tr style=\"text-align: right;\">\n",
       "      <th></th>\n",
       "      <th>Gender</th>\n",
       "      <th>Body_length</th>\n",
       "      <th>Weight</th>\n",
       "      <th>Fur_colour_dominant</th>\n",
       "      <th>Fur_pattern</th>\n",
       "      <th>Eye_colour</th>\n",
       "      <th>Country</th>\n",
       "      <th>Latitude</th>\n",
       "      <th>Longitude</th>\n",
       "    </tr>\n",
       "  </thead>\n",
       "  <tbody>\n",
       "    <tr>\n",
       "      <th>0</th>\n",
       "      <td>-1.000934</td>\n",
       "      <td>-1.533718</td>\n",
       "      <td>-1.525251</td>\n",
       "      <td>1.111687</td>\n",
       "      <td>0.547913</td>\n",
       "      <td>-0.561876</td>\n",
       "      <td>-1.635555</td>\n",
       "      <td>-0.230326</td>\n",
       "      <td>1.445612</td>\n",
       "    </tr>\n",
       "    <tr>\n",
       "      <th>1</th>\n",
       "      <td>0.999067</td>\n",
       "      <td>-1.533718</td>\n",
       "      <td>-1.307023</td>\n",
       "      <td>1.111687</td>\n",
       "      <td>0.547913</td>\n",
       "      <td>-0.561876</td>\n",
       "      <td>-1.635555</td>\n",
       "      <td>-0.166828</td>\n",
       "      <td>1.412706</td>\n",
       "    </tr>\n",
       "    <tr>\n",
       "      <th>2</th>\n",
       "      <td>0.999067</td>\n",
       "      <td>-1.472379</td>\n",
       "      <td>-1.176085</td>\n",
       "      <td>-1.525922</td>\n",
       "      <td>0.547913</td>\n",
       "      <td>0.479247</td>\n",
       "      <td>-1.635555</td>\n",
       "      <td>0.080198</td>\n",
       "      <td>1.314413</td>\n",
       "    </tr>\n",
       "    <tr>\n",
       "      <th>3</th>\n",
       "      <td>-1.000934</td>\n",
       "      <td>-1.411039</td>\n",
       "      <td>-1.088794</td>\n",
       "      <td>1.111687</td>\n",
       "      <td>0.547913</td>\n",
       "      <td>-0.561876</td>\n",
       "      <td>-1.635555</td>\n",
       "      <td>-0.166828</td>\n",
       "      <td>1.412706</td>\n",
       "    </tr>\n",
       "    <tr>\n",
       "      <th>4</th>\n",
       "      <td>0.999067</td>\n",
       "      <td>-1.411039</td>\n",
       "      <td>-1.088794</td>\n",
       "      <td>0.056643</td>\n",
       "      <td>1.287907</td>\n",
       "      <td>0.479247</td>\n",
       "      <td>-1.635555</td>\n",
       "      <td>0.891497</td>\n",
       "      <td>1.378992</td>\n",
       "    </tr>\n",
       "    <tr>\n",
       "      <th>...</th>\n",
       "      <td>...</td>\n",
       "      <td>...</td>\n",
       "      <td>...</td>\n",
       "      <td>...</td>\n",
       "      <td>...</td>\n",
       "      <td>...</td>\n",
       "      <td>...</td>\n",
       "      <td>...</td>\n",
       "      <td>...</td>\n",
       "    </tr>\n",
       "    <tr>\n",
       "      <th>1066</th>\n",
       "      <td>-1.000934</td>\n",
       "      <td>-1.779076</td>\n",
       "      <td>-1.874418</td>\n",
       "      <td>1.111687</td>\n",
       "      <td>0.547913</td>\n",
       "      <td>-0.561876</td>\n",
       "      <td>-0.105036</td>\n",
       "      <td>1.423904</td>\n",
       "      <td>1.324369</td>\n",
       "    </tr>\n",
       "    <tr>\n",
       "      <th>1067</th>\n",
       "      <td>-1.000934</td>\n",
       "      <td>-1.656397</td>\n",
       "      <td>-1.961709</td>\n",
       "      <td>-1.525922</td>\n",
       "      <td>-1.672068</td>\n",
       "      <td>-0.561876</td>\n",
       "      <td>-0.105036</td>\n",
       "      <td>1.423904</td>\n",
       "      <td>1.324369</td>\n",
       "    </tr>\n",
       "    <tr>\n",
       "      <th>1068</th>\n",
       "      <td>0.999067</td>\n",
       "      <td>-1.840416</td>\n",
       "      <td>-2.092647</td>\n",
       "      <td>0.056643</td>\n",
       "      <td>1.287907</td>\n",
       "      <td>-0.561876</td>\n",
       "      <td>-0.105036</td>\n",
       "      <td>1.423904</td>\n",
       "      <td>1.324369</td>\n",
       "    </tr>\n",
       "    <tr>\n",
       "      <th>1069</th>\n",
       "      <td>0.999067</td>\n",
       "      <td>-1.717737</td>\n",
       "      <td>-1.918064</td>\n",
       "      <td>0.056643</td>\n",
       "      <td>1.287907</td>\n",
       "      <td>0.479247</td>\n",
       "      <td>-0.105036</td>\n",
       "      <td>1.621120</td>\n",
       "      <td>1.285495</td>\n",
       "    </tr>\n",
       "    <tr>\n",
       "      <th>1070</th>\n",
       "      <td>-1.000934</td>\n",
       "      <td>-1.779076</td>\n",
       "      <td>-1.918064</td>\n",
       "      <td>0.056643</td>\n",
       "      <td>0.547913</td>\n",
       "      <td>-0.561876</td>\n",
       "      <td>-0.105036</td>\n",
       "      <td>1.423904</td>\n",
       "      <td>1.324369</td>\n",
       "    </tr>\n",
       "  </tbody>\n",
       "</table>\n",
       "<p>1071 rows × 9 columns</p>\n",
       "</div>"
      ],
      "text/plain": [
       "        Gender  Body_length    Weight  Fur_colour_dominant  Fur_pattern  \\\n",
       "0    -1.000934    -1.533718 -1.525251             1.111687     0.547913   \n",
       "1     0.999067    -1.533718 -1.307023             1.111687     0.547913   \n",
       "2     0.999067    -1.472379 -1.176085            -1.525922     0.547913   \n",
       "3    -1.000934    -1.411039 -1.088794             1.111687     0.547913   \n",
       "4     0.999067    -1.411039 -1.088794             0.056643     1.287907   \n",
       "...        ...          ...       ...                  ...          ...   \n",
       "1066 -1.000934    -1.779076 -1.874418             1.111687     0.547913   \n",
       "1067 -1.000934    -1.656397 -1.961709            -1.525922    -1.672068   \n",
       "1068  0.999067    -1.840416 -2.092647             0.056643     1.287907   \n",
       "1069  0.999067    -1.717737 -1.918064             0.056643     1.287907   \n",
       "1070 -1.000934    -1.779076 -1.918064             0.056643     0.547913   \n",
       "\n",
       "      Eye_colour   Country  Latitude  Longitude  \n",
       "0      -0.561876 -1.635555 -0.230326   1.445612  \n",
       "1      -0.561876 -1.635555 -0.166828   1.412706  \n",
       "2       0.479247 -1.635555  0.080198   1.314413  \n",
       "3      -0.561876 -1.635555 -0.166828   1.412706  \n",
       "4       0.479247 -1.635555  0.891497   1.378992  \n",
       "...          ...       ...       ...        ...  \n",
       "1066   -0.561876 -0.105036  1.423904   1.324369  \n",
       "1067   -0.561876 -0.105036  1.423904   1.324369  \n",
       "1068   -0.561876 -0.105036  1.423904   1.324369  \n",
       "1069    0.479247 -0.105036  1.621120   1.285495  \n",
       "1070   -0.561876 -0.105036  1.423904   1.324369  \n",
       "\n",
       "[1071 rows x 9 columns]"
      ]
     },
     "execution_count": 39,
     "metadata": {},
     "output_type": "execute_result"
    }
   ],
   "source": [
    "pd.DataFrame(base_scaled, columns=features)"
   ]
  },
  {
   "cell_type": "markdown",
   "id": "54c8b77a",
   "metadata": {},
   "source": [
    "## Train & Test"
   ]
  },
  {
   "cell_type": "code",
   "execution_count": 41,
   "id": "84ef8923",
   "metadata": {},
   "outputs": [],
   "source": [
    "from sklearn.model_selection import train_test_split\n",
    "\n",
    "x = base_scaled.copy()\n",
    "y = target_encoded.copy()"
   ]
  },
  {
   "cell_type": "code",
   "execution_count": null,
   "id": "f83198e9",
   "metadata": {},
   "outputs": [],
   "source": [
    "import pickle\n",
    "\n",
    "with open()"
   ]
  }
 ],
 "metadata": {
  "kernelspec": {
   "display_name": "Python 3",
   "language": "python",
   "name": "python3"
  },
  "language_info": {
   "codemirror_mode": {
    "name": "ipython",
    "version": 3
   },
   "file_extension": ".py",
   "mimetype": "text/x-python",
   "name": "python",
   "nbconvert_exporter": "python",
   "pygments_lexer": "ipython3",
   "version": "3.12.1"
  }
 },
 "nbformat": 4,
 "nbformat_minor": 5
}
