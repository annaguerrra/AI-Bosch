{
 "cells": [
  {
   "cell_type": "code",
   "execution_count": 14,
   "id": "e8502678",
   "metadata": {},
   "outputs": [],
   "source": [
    "import numpy as np\n",
    "import pandas as pd\n",
    "\n",
    "import os\n",
    "lista = []\n",
    "\n",
    "for dirname, _, filenames in os.walk('archive (11)'):\n",
    "  for filename in filenames:\n",
    "    lista.append(os.path.join(dirname, filename))"
   ]
  },
  {
   "cell_type": "code",
   "execution_count": 15,
   "id": "23728322",
   "metadata": {},
   "outputs": [],
   "source": [
    "dfs = [pd.read_csv(item) for item in lista]\n",
    "df = pd.concat(dfs)"
   ]
  },
  {
   "cell_type": "code",
   "execution_count": 16,
   "id": "4c7a1b79",
   "metadata": {},
   "outputs": [],
   "source": [
    "df = df[[\n",
    "    'Year', 'Script Type', 'Rotten Tomatoes  critics', 'Metacritic  critics', \n",
    "    'Average audience ', 'Worldwide Gross ($million)', 'Budget ($million)', 'Primary Genre']]"
   ]
  },
  {
   "cell_type": "code",
   "execution_count": 17,
   "id": "6436b1dc",
   "metadata": {},
   "outputs": [
    {
     "data": {
      "text/plain": [
       "array(['adaptation', 'remake', 'original', 'sequel', 'real', 'prequel',\n",
       "       'unknow'], dtype=object)"
      ]
     },
     "execution_count": 17,
     "metadata": {},
     "output_type": "execute_result"
    }
   ],
   "source": [
    "col = df.columns.get_loc('Script Type')\n",
    "\n",
    "df['Script Type'] = df['Script Type'].fillna('unknown')\n",
    "for i in range(len(df)):\n",
    "    value = df.iloc[i, col]\n",
    "\n",
    "    if 'original screenplay' in value:\n",
    "            value = 'original'\n",
    "    elif 'sequel' in value:\n",
    "        value = 'sequel'\n",
    "    elif 'true story' in value or 'documentary' in value:\n",
    "        value = 'real'\n",
    "    elif 'adaptation' in value:\n",
    "        value = 'adaptation'\n",
    "    elif 'remake' in value:\n",
    "        value = 'remake'\n",
    "    elif 'prequel' in value:\n",
    "        value = 'prequel'\n",
    "    else:\n",
    "        value = 'unknow'\n",
    "\n",
    "    df.iloc[i, col] = value\n",
    "\n",
    "df['Script Type'].unique()"
   ]
  },
  {
   "cell_type": "code",
   "execution_count": 18,
   "id": "cabd11f5",
   "metadata": {},
   "outputs": [],
   "source": [
    "column = 'Worldwide Gross ($million)'\n",
    "col = df.columns.get_loc(column)\n",
    "df = df[ df[column] != \"-\"]\n",
    "\n",
    "for i in range(len(df)):\n",
    "    value = df.iloc[i,  col]\n",
    "    text = str(value)\n",
    "    text = text.replace(',', '')\n",
    "    value = float(text)\n",
    "    df.iloc[i, col] = value"
   ]
  },
  {
   "cell_type": "code",
   "execution_count": 19,
   "id": "d3737429",
   "metadata": {},
   "outputs": [
    {
     "data": {
      "text/plain": [
       "array([ 60.,  88.,  50.,  54.,  14.,  26.,  80.,  52.,  71.,  69.,  82.,\n",
       "         1.,  67.,  27.,  93.,   2.,  23.,  35.,  28.,   3.,  92.,   4.,\n",
       "        15.,  45.,  13.,  43.,  94.,  91.,   8.,  79.,  66.,  90.,  56.,\n",
       "        36.,  63.,  49.,  31.,  29.,  95.,  39.,   9.,  70.,  21.,  11.,\n",
       "        97.,  20.,  18.,  47.,  42.,  61.,  87.,  78.,  86.,  41.,  30.,\n",
       "        19.,  72.,  33.,  57.,  46.,  55.,  89.,  75.,  96.,  64.,  77.,\n",
       "        73.,  40.,  38.,  83.,  16.,  51.,  25.,  58.,  53.,  62.,   7.,\n",
       "        34.,  24.,  32.,  48.,   5.,  85.,  65.,  68.,  22.,  37.,   0.,\n",
       "        81.,  59.,  44.,  98.,  84.,  12.,  74.,  17.,   6.,  99.,  10.,\n",
       "        76.,  nan, 100.])"
      ]
     },
     "execution_count": 19,
     "metadata": {},
     "output_type": "execute_result"
    }
   ],
   "source": [
    "column = 'Rotten Tomatoes  critics'\n",
    "\n",
    "df = df[df[column] != '-']\n",
    "df[column].dropna(inplace=True)\n",
    "\n",
    "col = df.columns.get_loc(column)\n",
    "df[column] = pd.to_numeric(df[column])\n",
    "\n",
    "df[column].unique()"
   ]
  },
  {
   "cell_type": "code",
   "execution_count": 20,
   "id": "60e02fa1",
   "metadata": {},
   "outputs": [
    {
     "data": {
      "text/plain": [
       "array([ 51,  76,  53,  56,  29,  39,  54,  59,  64,  69,  13,  62,  33,\n",
       "        75,  17,  37,  45,  35,  19,  77,  81,  47,  28,  46,  65,  73,\n",
       "        85,  25,  61,  82,  48,  42,  91,  50,  27,  96,  44,  36,  49,\n",
       "        58,  74,  83,  67,  32,  80,  92,  41,  63,  78,  94,  84,  86,\n",
       "        79,  70,  31,  34,  40,  71,  43,  55,  57,  24,  26,  66,  30,\n",
       "        72,  52,   9,  60,  68,  15,  20,  88,  38,  23,  21,  95,  22,\n",
       "        18,  90,  89,  87,  97,  11, 100,  12,  16,  93,  99,  14],\n",
       "      dtype=int64)"
      ]
     },
     "execution_count": 20,
     "metadata": {},
     "output_type": "execute_result"
    }
   ],
   "source": [
    "column = 'Metacritic  critics'\n",
    "\n",
    "df = df[df[column] != '-']\n",
    "df[column].dropna(inplace=True)\n",
    "\n",
    "col = df.columns.get_loc(column)\n",
    "df[column] = pd.to_numeric(df[column])\n",
    "\n",
    "df[column].unique()"
   ]
  },
  {
   "cell_type": "code",
   "execution_count": 21,
   "id": "9bdd69a1",
   "metadata": {},
   "outputs": [
    {
     "data": {
      "text/plain": [
       "array([80. , 61. , 78. , 38. , 60. , 81. , 59. , 57. , 69. , 71. , 29. ,\n",
       "       79. , 24. , 82. , 25. , 50. , 58. , 43. , 49. , 84. , 35. , 45. ,\n",
       "       70. , 53. , 86. , 75. , 74. , 56. , 76. , 62. , 64. , 48. , 42. ,\n",
       "       67. , 87. , 72. , 83. , 68. , 66. , 44. , 77. , 89. , 65. , 63. ,\n",
       "       55. , 93. , 46. , 40. , 51. , 73. , 52. , 39. , 41. , 54. , 88. ,\n",
       "       30. , 47. , 22. , 85. , 31. , 36. , 91. , 90. , 33. , 27. , 32. ,\n",
       "       34. , 92. , 37. , 23. ,  7. , 66.5, 90.5, 85.5, 64.5, 77.5, 74.5,\n",
       "       59.5, 79.5, 55.5, 63.5, 48.5, 69.5, 82.5, 73.5, 58.5, 40.5, 57.5,\n",
       "       41.5, 72.5, 54.5, 47.5, 62.5, 80.5, 65.5, 67.5, 70.5, 75.5, 32.5,\n",
       "       56.5, 81.5, 71.5, 33.5, 76.5, 86.5, 15.5, 52.5, 78.5, 46.5, 18.5,\n",
       "       60.5, 51.5, 43.5, 61.5, 28. , 19. ,  nan])"
      ]
     },
     "execution_count": 21,
     "metadata": {},
     "output_type": "execute_result"
    }
   ],
   "source": [
    "column = 'Average audience '\n",
    "\n",
    "df = df[df[column] != '-'].copy()\n",
    "df[column].dropna(inplace=True)\n",
    "\n",
    "col = df.columns.get_loc(column)\n",
    "df[column] = pd.to_numeric(df[column])\n",
    "\n",
    "df[column].unique()"
   ]
  },
  {
   "cell_type": "code",
   "execution_count": 22,
   "id": "898bff81",
   "metadata": {},
   "outputs": [
    {
     "data": {
      "text/plain": [
       "Primary Genre\n",
       "unknown      1678\n",
       "action         64\n",
       "drama          47\n",
       "comedy         37\n",
       "adventure      24\n",
       "thriller       19\n",
       "horror         18\n",
       "crime          12\n",
       "biography       7\n",
       "animation       6\n",
       "romance         6\n",
       "musical         3\n",
       "fantasy         3\n",
       "sci-fi          2\n",
       "western         1\n",
       "mystery         1\n",
       "Name: count, dtype: int64"
      ]
     },
     "execution_count": 22,
     "metadata": {},
     "output_type": "execute_result"
    }
   ],
   "source": [
    "column = 'Primary Genre'\n",
    "df[column] = df[column].fillna('unknown')\n",
    "df[column].value_counts()"
   ]
  },
  {
   "cell_type": "code",
   "execution_count": 23,
   "id": "b1ba1558",
   "metadata": {},
   "outputs": [
    {
     "data": {
      "text/html": [
       "<div>\n",
       "<style scoped>\n",
       "    .dataframe tbody tr th:only-of-type {\n",
       "        vertical-align: middle;\n",
       "    }\n",
       "\n",
       "    .dataframe tbody tr th {\n",
       "        vertical-align: top;\n",
       "    }\n",
       "\n",
       "    .dataframe thead th {\n",
       "        text-align: right;\n",
       "    }\n",
       "</style>\n",
       "<table border=\"1\" class=\"dataframe\">\n",
       "  <thead>\n",
       "    <tr style=\"text-align: right;\">\n",
       "      <th></th>\n",
       "      <th>Year</th>\n",
       "      <th>Script Type</th>\n",
       "      <th>Rotten Tomatoes  critics</th>\n",
       "      <th>Metacritic  critics</th>\n",
       "      <th>Average audience</th>\n",
       "      <th>Worldwide Gross ($million)</th>\n",
       "      <th>Budget ($million)</th>\n",
       "      <th>Primary Genre</th>\n",
       "    </tr>\n",
       "  </thead>\n",
       "  <tbody>\n",
       "    <tr>\n",
       "      <th>0</th>\n",
       "      <td>2007</td>\n",
       "      <td>0</td>\n",
       "      <td>60.0</td>\n",
       "      <td>51</td>\n",
       "      <td>80.0</td>\n",
       "      <td>456.0</td>\n",
       "      <td>65</td>\n",
       "      <td>0</td>\n",
       "    </tr>\n",
       "    <tr>\n",
       "      <th>1</th>\n",
       "      <td>2007</td>\n",
       "      <td>4</td>\n",
       "      <td>88.0</td>\n",
       "      <td>76</td>\n",
       "      <td>80.0</td>\n",
       "      <td>70.0</td>\n",
       "      <td>50</td>\n",
       "      <td>15</td>\n",
       "    </tr>\n",
       "    <tr>\n",
       "      <th>2</th>\n",
       "      <td>2007</td>\n",
       "      <td>0</td>\n",
       "      <td>50.0</td>\n",
       "      <td>53</td>\n",
       "      <td>61.0</td>\n",
       "      <td>75.0</td>\n",
       "      <td>32</td>\n",
       "      <td>8</td>\n",
       "    </tr>\n",
       "    <tr>\n",
       "      <th>3</th>\n",
       "      <td>2007</td>\n",
       "      <td>1</td>\n",
       "      <td>54.0</td>\n",
       "      <td>56</td>\n",
       "      <td>78.0</td>\n",
       "      <td>29.0</td>\n",
       "      <td>45</td>\n",
       "      <td>9</td>\n",
       "    </tr>\n",
       "    <tr>\n",
       "      <th>4</th>\n",
       "      <td>2007</td>\n",
       "      <td>5</td>\n",
       "      <td>14.0</td>\n",
       "      <td>29</td>\n",
       "      <td>38.0</td>\n",
       "      <td>129.0</td>\n",
       "      <td>40</td>\n",
       "      <td>12</td>\n",
       "    </tr>\n",
       "    <tr>\n",
       "      <th>...</th>\n",
       "      <td>...</td>\n",
       "      <td>...</td>\n",
       "      <td>...</td>\n",
       "      <td>...</td>\n",
       "      <td>...</td>\n",
       "      <td>...</td>\n",
       "      <td>...</td>\n",
       "      <td>...</td>\n",
       "    </tr>\n",
       "    <tr>\n",
       "      <th>87</th>\n",
       "      <td>2022</td>\n",
       "      <td>6</td>\n",
       "      <td>41.0</td>\n",
       "      <td>45</td>\n",
       "      <td>76.0</td>\n",
       "      <td>400.7</td>\n",
       "      <td>120.0</td>\n",
       "      <td>0</td>\n",
       "    </tr>\n",
       "    <tr>\n",
       "      <th>88</th>\n",
       "      <td>2022</td>\n",
       "      <td>6</td>\n",
       "      <td>81.0</td>\n",
       "      <td>65</td>\n",
       "      <td>75.0</td>\n",
       "      <td>4.4</td>\n",
       "      <td>-</td>\n",
       "      <td>4</td>\n",
       "    </tr>\n",
       "    <tr>\n",
       "      <th>89</th>\n",
       "      <td>2022</td>\n",
       "      <td>6</td>\n",
       "      <td>73.0</td>\n",
       "      <td>55</td>\n",
       "      <td>77.0</td>\n",
       "      <td>76.6</td>\n",
       "      <td>20.0</td>\n",
       "      <td>0</td>\n",
       "    </tr>\n",
       "    <tr>\n",
       "      <th>90</th>\n",
       "      <td>2022</td>\n",
       "      <td>6</td>\n",
       "      <td>35.0</td>\n",
       "      <td>43</td>\n",
       "      <td>81.0</td>\n",
       "      <td>136.5</td>\n",
       "      <td>24.0</td>\n",
       "      <td>11</td>\n",
       "    </tr>\n",
       "    <tr>\n",
       "      <th>91</th>\n",
       "      <td>2022</td>\n",
       "      <td>6</td>\n",
       "      <td>94.0</td>\n",
       "      <td>79</td>\n",
       "      <td>71.0</td>\n",
       "      <td>15.1</td>\n",
       "      <td>1.0</td>\n",
       "      <td>8</td>\n",
       "    </tr>\n",
       "  </tbody>\n",
       "</table>\n",
       "<p>1928 rows × 8 columns</p>\n",
       "</div>"
      ],
      "text/plain": [
       "    Year  Script Type  Rotten Tomatoes  critics  Metacritic  critics  \\\n",
       "0   2007            0                      60.0                   51   \n",
       "1   2007            4                      88.0                   76   \n",
       "2   2007            0                      50.0                   53   \n",
       "3   2007            1                      54.0                   56   \n",
       "4   2007            5                      14.0                   29   \n",
       "..   ...          ...                       ...                  ...   \n",
       "87  2022            6                      41.0                   45   \n",
       "88  2022            6                      81.0                   65   \n",
       "89  2022            6                      73.0                   55   \n",
       "90  2022            6                      35.0                   43   \n",
       "91  2022            6                      94.0                   79   \n",
       "\n",
       "    Average audience  Worldwide Gross ($million) Budget ($million)  \\\n",
       "0                80.0                      456.0                65   \n",
       "1                80.0                       70.0                50   \n",
       "2                61.0                       75.0                32   \n",
       "3                78.0                       29.0                45   \n",
       "4                38.0                      129.0                40   \n",
       "..                ...                        ...               ...   \n",
       "87               76.0                      400.7             120.0   \n",
       "88               75.0                        4.4                 -   \n",
       "89               77.0                       76.6              20.0   \n",
       "90               81.0                      136.5              24.0   \n",
       "91               71.0                       15.1               1.0   \n",
       "\n",
       "    Primary Genre  \n",
       "0               0  \n",
       "1              15  \n",
       "2               8  \n",
       "3               9  \n",
       "4              12  \n",
       "..            ...  \n",
       "87              0  \n",
       "88              4  \n",
       "89              0  \n",
       "90             11  \n",
       "91              8  \n",
       "\n",
       "[1928 rows x 8 columns]"
      ]
     },
     "execution_count": 23,
     "metadata": {},
     "output_type": "execute_result"
    }
   ],
   "source": [
    "from sklearn.preprocessing import LabelEncoder\n",
    "\n",
    "le = LabelEncoder() # transform letters to numbers\n",
    "df['Primary Genre'] = le.fit_transform(df['Primary Genre']) \n",
    "df['Script Type'] = le.fit_transform(df['Script Type'])\n",
    "df"
   ]
  },
  {
   "cell_type": "code",
   "execution_count": 24,
   "id": "44baa87e",
   "metadata": {},
   "outputs": [
    {
     "data": {
      "text/plain": [
       "<Axes: >"
      ]
     },
     "execution_count": 24,
     "metadata": {},
     "output_type": "execute_result"
    }
   ],
   "source": [
    "df.boxplot(column = ['Metacritic  critics', 'Average audience ', 'Rotten Tomatoes  critics'])"
   ]
  },
  {
   "cell_type": "code",
   "execution_count": 25,
   "id": "990d7e40",
   "metadata": {},
   "outputs": [
    {
     "data": {
      "text/plain": [
       "<Axes: xlabel='Rotten Tomatoes  critics', ylabel='Worldwide Gross ($million)'>"
      ]
     },
     "execution_count": 25,
     "metadata": {},
     "output_type": "execute_result"
    }
   ],
   "source": [
    "df[ df['Worldwide Gross ($million)'] < 2000].plot.scatter(x = 'Rotten Tomatoes  critics', y = 'Worldwide Gross ($million)', s = 3)"
   ]
  },
  {
   "cell_type": "code",
   "execution_count": 26,
   "id": "aa8587ff",
   "metadata": {},
   "outputs": [
    {
     "data": {
      "text/html": [
       "<div>\n",
       "<style scoped>\n",
       "    .dataframe tbody tr th:only-of-type {\n",
       "        vertical-align: middle;\n",
       "    }\n",
       "\n",
       "    .dataframe tbody tr th {\n",
       "        vertical-align: top;\n",
       "    }\n",
       "\n",
       "    .dataframe thead th {\n",
       "        text-align: right;\n",
       "    }\n",
       "</style>\n",
       "<table border=\"1\" class=\"dataframe\">\n",
       "  <thead>\n",
       "    <tr style=\"text-align: right;\">\n",
       "      <th></th>\n",
       "      <th>Year</th>\n",
       "      <th>Script Type</th>\n",
       "      <th>Rotten Tomatoes  critics</th>\n",
       "      <th>Metacritic  critics</th>\n",
       "      <th>Average audience</th>\n",
       "      <th>Primary Genre</th>\n",
       "    </tr>\n",
       "  </thead>\n",
       "  <tbody>\n",
       "    <tr>\n",
       "      <th>count</th>\n",
       "      <td>1928.000000</td>\n",
       "      <td>1928.000000</td>\n",
       "      <td>1927.000000</td>\n",
       "      <td>1928.000000</td>\n",
       "      <td>1927.000000</td>\n",
       "      <td>1928.000000</td>\n",
       "    </tr>\n",
       "    <tr>\n",
       "      <th>mean</th>\n",
       "      <td>2014.190871</td>\n",
       "      <td>2.040975</td>\n",
       "      <td>55.782045</td>\n",
       "      <td>54.600104</td>\n",
       "      <td>63.861702</td>\n",
       "      <td>12.755705</td>\n",
       "    </tr>\n",
       "    <tr>\n",
       "      <th>std</th>\n",
       "      <td>4.379729</td>\n",
       "      <td>2.115473</td>\n",
       "      <td>27.222197</td>\n",
       "      <td>17.089233</td>\n",
       "      <td>14.516398</td>\n",
       "      <td>3.527190</td>\n",
       "    </tr>\n",
       "    <tr>\n",
       "      <th>min</th>\n",
       "      <td>2007.000000</td>\n",
       "      <td>0.000000</td>\n",
       "      <td>0.000000</td>\n",
       "      <td>9.000000</td>\n",
       "      <td>7.000000</td>\n",
       "      <td>0.000000</td>\n",
       "    </tr>\n",
       "    <tr>\n",
       "      <th>25%</th>\n",
       "      <td>2010.000000</td>\n",
       "      <td>0.000000</td>\n",
       "      <td>32.000000</td>\n",
       "      <td>42.000000</td>\n",
       "      <td>54.000000</td>\n",
       "      <td>14.000000</td>\n",
       "    </tr>\n",
       "    <tr>\n",
       "      <th>50%</th>\n",
       "      <td>2014.000000</td>\n",
       "      <td>1.000000</td>\n",
       "      <td>57.000000</td>\n",
       "      <td>54.000000</td>\n",
       "      <td>65.000000</td>\n",
       "      <td>14.000000</td>\n",
       "    </tr>\n",
       "    <tr>\n",
       "      <th>75%</th>\n",
       "      <td>2018.000000</td>\n",
       "      <td>4.000000</td>\n",
       "      <td>81.000000</td>\n",
       "      <td>66.000000</td>\n",
       "      <td>75.000000</td>\n",
       "      <td>14.000000</td>\n",
       "    </tr>\n",
       "    <tr>\n",
       "      <th>max</th>\n",
       "      <td>2022.000000</td>\n",
       "      <td>6.000000</td>\n",
       "      <td>100.000000</td>\n",
       "      <td>100.000000</td>\n",
       "      <td>93.000000</td>\n",
       "      <td>15.000000</td>\n",
       "    </tr>\n",
       "  </tbody>\n",
       "</table>\n",
       "</div>"
      ],
      "text/plain": [
       "              Year  Script Type  Rotten Tomatoes  critics  \\\n",
       "count  1928.000000  1928.000000               1927.000000   \n",
       "mean   2014.190871     2.040975                 55.782045   \n",
       "std       4.379729     2.115473                 27.222197   \n",
       "min    2007.000000     0.000000                  0.000000   \n",
       "25%    2010.000000     0.000000                 32.000000   \n",
       "50%    2014.000000     1.000000                 57.000000   \n",
       "75%    2018.000000     4.000000                 81.000000   \n",
       "max    2022.000000     6.000000                100.000000   \n",
       "\n",
       "       Metacritic  critics  Average audience   Primary Genre  \n",
       "count          1928.000000        1927.000000    1928.000000  \n",
       "mean             54.600104          63.861702      12.755705  \n",
       "std              17.089233          14.516398       3.527190  \n",
       "min               9.000000           7.000000       0.000000  \n",
       "25%              42.000000          54.000000      14.000000  \n",
       "50%              54.000000          65.000000      14.000000  \n",
       "75%              66.000000          75.000000      14.000000  \n",
       "max             100.000000          93.000000      15.000000  "
      ]
     },
     "execution_count": 26,
     "metadata": {},
     "output_type": "execute_result"
    }
   ],
   "source": [
    "df.describe()"
   ]
  }
 ],
 "metadata": {
  "kernelspec": {
   "display_name": "Python 3",
   "language": "python",
   "name": "python3"
  },
  "language_info": {
   "codemirror_mode": {
    "name": "ipython",
    "version": 3
   },
   "file_extension": ".py",
   "mimetype": "text/x-python",
   "name": "python",
   "nbconvert_exporter": "python",
   "pygments_lexer": "ipython3",
   "version": "3.12.1"
  }
 },
 "nbformat": 4,
 "nbformat_minor": 5
}
