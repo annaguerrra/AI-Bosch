{
 "cells": [
  {
   "cell_type": "code",
   "execution_count": 34,
   "id": "e8502678",
   "metadata": {},
   "outputs": [],
   "source": [
    "import numpy as np\n",
    "import pandas as pd\n",
    "\n",
    "import os\n",
    "lista = []\n",
    "\n",
    "for dirname, _, filenames in os.walk('archive (11)'):\n",
    "  for filename in filenames:\n",
    "    lista.append(os.path.join(dirname, filename))"
   ]
  },
  {
   "cell_type": "code",
   "execution_count": 35,
   "id": "17538486",
   "metadata": {},
   "outputs": [
    {
     "data": {
      "text/plain": [
       "['archive (11)\\\\The Hollywood Inider - all data - 2007.csv',\n",
       " 'archive (11)\\\\The Hollywood Inider - all data - 2008.csv',\n",
       " 'archive (11)\\\\The Hollywood Inider - all data - 2009.csv',\n",
       " 'archive (11)\\\\The Hollywood Inider - all data - 2010.csv',\n",
       " 'archive (11)\\\\The Hollywood Inider - all data - 2011.csv',\n",
       " 'archive (11)\\\\The Hollywood Inider - all data - 2012.csv',\n",
       " 'archive (11)\\\\The Hollywood Inider - all data - 2013.csv',\n",
       " 'archive (11)\\\\The Hollywood Inider - all data - 2014.csv',\n",
       " 'archive (11)\\\\The Hollywood Inider - all data - 2015.csv',\n",
       " 'archive (11)\\\\The Hollywood Inider - all data - 2016.csv',\n",
       " 'archive (11)\\\\The Hollywood Inider - all data - 2017.csv',\n",
       " 'archive (11)\\\\The Hollywood Inider - all data - 2018.csv',\n",
       " 'archive (11)\\\\The Hollywood Inider - all data - 2019.csv',\n",
       " 'archive (11)\\\\The Hollywood Inider - all data - 2020.csv',\n",
       " 'archive (11)\\\\The Hollywood Inider - all data - 2021.csv',\n",
       " 'archive (11)\\\\The Hollywood Inider - all data - 2022.csv']"
      ]
     },
     "execution_count": 35,
     "metadata": {},
     "output_type": "execute_result"
    }
   ],
   "source": [
    "lista"
   ]
  },
  {
   "cell_type": "code",
   "execution_count": 36,
   "id": "23728322",
   "metadata": {},
   "outputs": [],
   "source": [
    "dfs = [pd.read_csv(item) for item in lista]\n",
    "df = pd.concat(dfs)"
   ]
  },
  {
   "cell_type": "code",
   "execution_count": null,
   "id": "4c7a1b79",
   "metadata": {},
   "outputs": [],
   "source": [
    "df = df[['Year', 'Script Types', 'Rotten Tomatoes  critics', 'Metacritic critics', 'Average audience ', 'Worldwide Gross ($million)', 'Budget($million)', 'Primary Genre']]"
   ]
  },
  {
   "cell_type": "code",
   "execution_count": 38,
   "id": "6436b1dc",
   "metadata": {},
   "outputs": [
    {
     "data": {
      "text/plain": [
       "array(['adaptation', 'remake', 'original screenplay', 'sequel',\n",
       "       'based on a true story', 'documentary', 'sequel, adaptation',\n",
       "       'remake / reboot', 'remake / reboot, adaptation', 'sequel ',\n",
       "       'based on a true story ', 'adaptation, remake / reboot',\n",
       "       'original screenplay ', 'based on a true story, adaptation',\n",
       "       'prequel', 'adaptation, based on a true story',\n",
       "       'adaptation, sequel', 'semi-sequel',\n",
       "       'based on a true story, remake', nan], dtype=object)"
      ]
     },
     "execution_count": 38,
     "metadata": {},
     "output_type": "execute_result"
    }
   ],
   "source": [
    "df['Script Type'].unique()"
   ]
  }
 ],
 "metadata": {
  "kernelspec": {
   "display_name": "Python 3",
   "language": "python",
   "name": "python3"
  },
  "language_info": {
   "codemirror_mode": {
    "name": "ipython",
    "version": 3
   },
   "file_extension": ".py",
   "mimetype": "text/x-python",
   "name": "python",
   "nbconvert_exporter": "python",
   "pygments_lexer": "ipython3",
   "version": "3.12.1"
  }
 },
 "nbformat": 4,
 "nbformat_minor": 5
}
