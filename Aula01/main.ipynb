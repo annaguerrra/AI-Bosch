{
 "cells": [
  {
   "cell_type": "code",
   "execution_count": 34,
   "id": "e8502678",
   "metadata": {},
   "outputs": [],
   "source": [
    "import numpy as np\n",
    "import pandas as pd\n",
    "\n",
    "import os\n",
    "lista = []\n",
    "\n",
    "for dirname, _, filenames in os.walk('archive (11)'):\n",
    "  for filename in filenames:\n",
    "    lista.append(os.path.join(dirname, filename))"
   ]
  },
  {
   "cell_type": "code",
   "execution_count": 36,
   "id": "23728322",
   "metadata": {},
   "outputs": [],
   "source": [
    "dfs = [pd.read_csv(item) for item in lista]\n",
    "df = pd.concat(dfs)"
   ]
  },
  {
   "cell_type": "code",
   "execution_count": null,
   "id": "4c7a1b79",
   "metadata": {},
   "outputs": [],
   "source": [
    "df = df[['Year', 'Script Types', 'Rotten Tomatoes  critics', 'Metacritic critics', 'Average audience ', 'Worldwide Gross ($million)', 'Budget($million)', 'Primary Genre']]"
   ]
  },
  {
   "cell_type": "code",
   "execution_count": 44,
   "id": "6436b1dc",
   "metadata": {},
   "outputs": [
    {
     "data": {
      "text/plain": [
       "array(['adaptation', 'remake', 'original screenplay', 'sequel',\n",
       "       'based on a true story', 'documentary', 'sequel, adaptation',\n",
       "       'remake / reboot', 'remake / reboot, adaptation', 'sequel ',\n",
       "       'based on a true story ', 'adaptation, remake / reboot',\n",
       "       'original screenplay ', 'based on a true story, adaptation',\n",
       "       'prequel', 'adaptation, based on a true story',\n",
       "       'adaptation, sequel', 'semi-sequel',\n",
       "       'based on a true story, remake', 'unknow'], dtype=object)"
      ]
     },
     "execution_count": 44,
     "metadata": {},
     "output_type": "execute_result"
    }
   ],
   "source": [
    "col = df.columns.get_loc('Script Type')\n",
    "\n",
    "df['Script Type'] = df['Script Type'].fillna('unknow')\n",
    "for i in range(len(df)):\n",
    "    value = df.iloc[i, col]\n",
    "\n",
    "if value in 'original':\n",
    "        value = 'original'\n",
    "elif value in 'sequel':\n",
    "    value = 'sequel'\n",
    "elif value in 'true story' or value in('documentary'):\n",
    "    value = 'real'\n",
    "elif value in('adaptation'):\n",
    "    value = 'adaptation'\n",
    "elif value in ('remake'):\n",
    "    value = 'remake'\n",
    "elif value in('prequel'):\n",
    "    value = 'prequel'\n",
    "else:\n",
    "     value = 'unknow'\n",
    "\n",
    "df.iloc[i, col] = value\n",
    "\n",
    "df['Script Type'].unique()"
   ]
  },
  {
   "cell_type": "code",
   "execution_count": null,
   "id": "6a8b2023",
   "metadata": {},
   "outputs": [],
   "source": []
  }
 ],
 "metadata": {
  "kernelspec": {
   "display_name": "Python 3",
   "language": "python",
   "name": "python3"
  },
  "language_info": {
   "codemirror_mode": {
    "name": "ipython",
    "version": 3
   },
   "file_extension": ".py",
   "mimetype": "text/x-python",
   "name": "python",
   "nbconvert_exporter": "python",
   "pygments_lexer": "ipython3",
   "version": "3.12.1"
  }
 },
 "nbformat": 4,
 "nbformat_minor": 5
}
