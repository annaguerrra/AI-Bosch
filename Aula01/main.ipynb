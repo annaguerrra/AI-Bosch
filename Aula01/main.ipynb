{
 "cells": [
  {
   "cell_type": "code",
   "execution_count": 77,
   "id": "e8502678",
   "metadata": {},
   "outputs": [],
   "source": [
    "import numpy as np\n",
    "import pandas as pd\n",
    "\n",
    "import os\n",
    "lista = []\n",
    "\n",
    "for dirname, _, filenames in os.walk('archive (11)'):\n",
    "  for filename in filenames:\n",
    "    lista.append(os.path.join(dirname, filename))"
   ]
  },
  {
   "cell_type": "code",
   "execution_count": 78,
   "id": "23728322",
   "metadata": {},
   "outputs": [],
   "source": [
    "dfs = [pd.read_csv(item) for item in lista]\n",
    "df = pd.concat(dfs)"
   ]
  },
  {
   "cell_type": "code",
   "execution_count": 79,
   "id": "4c7a1b79",
   "metadata": {},
   "outputs": [],
   "source": [
    "df = df[['Year', 'Script Type', 'Rotten Tomatoes  critics', 'Metacritic  critics', 'Average audience ', 'Worldwide Gross ($million)', 'Budget ($million)', 'Primary Genre']]"
   ]
  },
  {
   "cell_type": "code",
   "execution_count": null,
   "id": "6436b1dc",
   "metadata": {},
   "outputs": [
    {
     "data": {
      "text/plain": [
       "array(['adaptation', 'remake', 'original', 'sequel', 'real', 'prequel',\n",
       "       'unknow'], dtype=object)"
      ]
     },
     "execution_count": 82,
     "metadata": {},
     "output_type": "execute_result"
    }
   ],
   "source": [
    "col = df.columns.get_loc('Script Type')\n",
    "\n",
    "df['Script Type'] = df['Script Type'].fillna('unknown')\n",
    "for i in range(len(df)):\n",
    "    value = df.iloc[i, col]\n",
    "\n",
    "    if 'original screenplay' in value:\n",
    "            value = 'original'\n",
    "    elif 'sequel' in value:\n",
    "        value = 'sequel'\n",
    "    elif 'true story' in value or 'documentary' in value:\n",
    "        value = 'real'\n",
    "    elif 'adaptation' in value:\n",
    "        value = 'adaptation'\n",
    "    elif 'remake' in value:\n",
    "        value = 'remake'\n",
    "    elif 'prequel' in value:\n",
    "        value = 'prequel'\n",
    "    else:\n",
    "        value = 'unknow'\n",
    "\n",
    "    df.iloc[i, col] = value\n",
    "\n",
    "df['Script Type'].unique()"
   ]
  },
  {
   "cell_type": "code",
   "execution_count": 89,
   "id": "d3737429",
   "metadata": {},
   "outputs": [
    {
     "data": {
      "text/plain": [
       "array([ 51,  76,  53,  56,  29,  39,  54,  59,  64,  69,  13,  62,  33,\n",
       "        75,  17,  37,  45,  35,  19,  77,  81,  47,  28,  46,  65,  73,\n",
       "        85,  25,  61,  82,  48,  42,  91,  50,  27,  96,  44,  36,  49,\n",
       "        58,  74,  83,  67,  32,  80,  92,  41,  63,  78,  94,  84,  86,\n",
       "        79,  70,  31,  34,  40,  71,  43,  55,  57,  24,  26,  66,  30,\n",
       "        72,  52,   9,  60,  68,  15,  20,  88,  38,  23,  21,  95,  22,\n",
       "        18,  90,  89,  87,  97,  11, 100,  12,  16,  93,  99,  14],\n",
       "      dtype=int64)"
      ]
     },
     "execution_count": 89,
     "metadata": {},
     "output_type": "execute_result"
    }
   ],
   "source": [
    "column = 'Rotten Tomatoes  critics'\n",
    "\n",
    "df = df[df[column] != '-']\n",
    "df[column].dropna(inplace=True)\n",
    "\n",
    "col = df.columns.get_loc(column)\n",
    "df[column] = pd.to_numeric(df[column])\n",
    "\n",
    "df[column].unique()"
   ]
  },
  {
   "cell_type": "code",
   "execution_count": 93,
   "id": "60e02fa1",
   "metadata": {},
   "outputs": [
    {
     "data": {
      "text/plain": [
       "array([ 51,  76,  53,  56,  29,  39,  54,  59,  64,  69,  13,  62,  33,\n",
       "        75,  17,  37,  45,  35,  19,  77,  81,  47,  28,  46,  65,  73,\n",
       "        85,  25,  61,  82,  48,  42,  91,  50,  27,  96,  44,  36,  49,\n",
       "        58,  74,  83,  67,  32,  80,  92,  41,  63,  78,  94,  84,  86,\n",
       "        79,  70,  31,  34,  40,  71,  43,  55,  57,  24,  26,  66,  30,\n",
       "        72,  52,   9,  60,  68,  15,  20,  88,  38,  23,  21,  95,  22,\n",
       "        18,  90,  89,  87,  97,  11, 100,  12,  16,  93,  99,  14],\n",
       "      dtype=int64)"
      ]
     },
     "execution_count": 93,
     "metadata": {},
     "output_type": "execute_result"
    }
   ],
   "source": [
    "column = 'Metacritic  critics'\n",
    "\n",
    "df = df[df[column] != '-']\n",
    "df[column].dropna(inplace=True)\n",
    "\n",
    "col = df.columns.get_loc(column)\n",
    "df[column] = pd.to_numeric(df[column])\n",
    "\n",
    "df[column].unique()"
   ]
  },
  {
   "cell_type": "code",
   "execution_count": 91,
   "id": "9bdd69a1",
   "metadata": {},
   "outputs": [
    {
     "data": {
      "text/plain": [
       "array([80. , 61. , 78. , 38. , 60. , 81. , 59. , 57. , 69. , 71. , 29. ,\n",
       "       79. , 24. , 82. , 25. , 50. , 58. , 43. , 49. , 84. , 35. , 45. ,\n",
       "       70. , 53. , 86. , 75. , 74. , 56. , 76. , 62. , 64. , 48. , 42. ,\n",
       "       67. , 87. , 72. , 83. , 68. , 66. , 44. , 77. , 89. , 65. , 63. ,\n",
       "       55. , 93. , 46. , 40. , 51. , 73. , 52. , 39. , 41. , 54. , 88. ,\n",
       "       30. , 47. , 22. , 85. , 31. , 36. , 91. , 90. , 33. , 27. , 32. ,\n",
       "       34. , 92. , 37. , 23. ,  7. , 66.5, 90.5, 85.5, 64.5, 77.5, 74.5,\n",
       "       59.5, 79.5, 55.5, 63.5, 48.5, 69.5, 82.5, 73.5, 58.5, 40.5, 57.5,\n",
       "       41.5, 72.5, 54.5, 47.5, 62.5, 80.5, 65.5, 67.5, 70.5, 75.5, 32.5,\n",
       "       56.5, 81.5, 71.5, 33.5, 76.5, 86.5, 15.5, 52.5, 78.5, 46.5, 18.5,\n",
       "       60.5, 51.5, 43.5, 61.5, 28. , 19. ,  nan])"
      ]
     },
     "execution_count": 91,
     "metadata": {},
     "output_type": "execute_result"
    }
   ],
   "source": [
    "column = 'Average audience '\n",
    "\n",
    "df = df[df[column] != '-'].copy()\n",
    "df[column].dropna(inplace=True)\n",
    "\n",
    "col = df.columns.get_loc(column)\n",
    "df[column] = pd.to_numeric(df[column])\n",
    "\n",
    "df[column].unique()"
   ]
  },
  {
   "cell_type": "code",
   "execution_count": 92,
   "id": "898bff81",
   "metadata": {},
   "outputs": [
    {
     "data": {
      "text/plain": [
       "Primary Genre\n",
       "unknown      1680\n",
       "action         67\n",
       "drama          49\n",
       "comedy         42\n",
       "adventure      24\n",
       "thriller       20\n",
       "horror         18\n",
       "crime          13\n",
       "biography       8\n",
       "animation       6\n",
       "romance         6\n",
       "musical         3\n",
       "fantasy         3\n",
       "western         2\n",
       "sci-fi          2\n",
       "mystery         1\n",
       "Name: count, dtype: int64"
      ]
     },
     "execution_count": 92,
     "metadata": {},
     "output_type": "execute_result"
    }
   ],
   "source": [
    "column = 'Primary Genre'\n",
    "df[column] = df[column].fillna('unknown')\n",
    "df[column].value_counts()"
   ]
  }
 ],
 "metadata": {
  "kernelspec": {
   "display_name": "Python 3",
   "language": "python",
   "name": "python3"
  },
  "language_info": {
   "codemirror_mode": {
    "name": "ipython",
    "version": 3
   },
   "file_extension": ".py",
   "mimetype": "text/x-python",
   "name": "python",
   "nbconvert_exporter": "python",
   "pygments_lexer": "ipython3",
   "version": "3.12.1"
  }
 },
 "nbformat": 4,
 "nbformat_minor": 5
}
