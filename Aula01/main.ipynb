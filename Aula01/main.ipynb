{
 "cells": [
  {
   "cell_type": "code",
   "execution_count": 77,
   "id": "e8502678",
   "metadata": {},
   "outputs": [],
   "source": [
    "import numpy as np\n",
    "import pandas as pd\n",
    "\n",
    "import os\n",
    "lista = []\n",
    "\n",
    "for dirname, _, filenames in os.walk('archive (11)'):\n",
    "  for filename in filenames:\n",
    "    lista.append(os.path.join(dirname, filename))"
   ]
  },
  {
   "cell_type": "code",
   "execution_count": 78,
   "id": "23728322",
   "metadata": {},
   "outputs": [],
   "source": [
    "dfs = [pd.read_csv(item) for item in lista]\n",
    "df = pd.concat(dfs)"
   ]
  },
  {
   "cell_type": "code",
   "execution_count": 79,
   "id": "4c7a1b79",
   "metadata": {},
   "outputs": [],
   "source": [
    "df = df[['Year', 'Script Type', 'Rotten Tomatoes  critics', 'Metacritic  critics', 'Average audience ', 'Worldwide Gross ($million)', 'Budget ($million)', 'Primary Genre']]"
   ]
  },
  {
   "cell_type": "code",
   "execution_count": 82,
   "id": "6436b1dc",
   "metadata": {},
   "outputs": [
    {
     "data": {
      "text/plain": [
       "array(['adaptation', 'remake', 'original', 'sequel', 'real', 'prequel',\n",
       "       'unknow'], dtype=object)"
      ]
     },
     "execution_count": 82,
     "metadata": {},
     "output_type": "execute_result"
    }
   ],
   "source": [
    "col = df.columns.get_loc('Script Type')\n",
    "\n",
    "df['Script Type'] = df['Script Type'].fillna('unknow')\n",
    "for i in range(len(df)):\n",
    "    value = df.iloc[i, col]\n",
    "\n",
    "    if 'original screenplay' in value:\n",
    "            value = 'original'\n",
    "    elif 'sequel' in value:\n",
    "        value = 'sequel'\n",
    "    elif 'true story' in value or 'documentary' in value:\n",
    "        value = 'real'\n",
    "    elif 'adaptation' in value:\n",
    "        value = 'adaptation'\n",
    "    elif 'remake' in value:\n",
    "        value = 'remake'\n",
    "    elif 'prequel' in value:\n",
    "        value = 'prequel'\n",
    "    else:\n",
    "        value = 'unknow'\n",
    "\n",
    "    df.iloc[i, col] = value\n",
    "\n",
    "df['Script Type'].unique()"
   ]
  },
  {
   "cell_type": "code",
   "execution_count": 88,
   "id": "9bdd69a1",
   "metadata": {},
   "outputs": [
    {
     "data": {
      "text/plain": [
       "array([ 60.,  88.,  50.,  54.,  14.,  26.,  80.,  52.,  71.,  69.,  82.,\n",
       "         1.,  67.,  27.,  93.,   2.,  23.,  35.,  28.,   3.,  92.,   4.,\n",
       "        15.,  45.,  13.,  43.,  94.,  91.,   8.,  79.,  66.,  90.,  56.,\n",
       "        36.,  63.,  49.,  31.,  29.,  95.,  39.,   9.,  70.,  21.,  11.,\n",
       "        97.,  20.,  18.,  47.,  42.,  61.,  87.,  78.,  86.,  41.,  30.,\n",
       "        19.,  72.,  33.,  57.,  46.,  55.,  89.,  75.,  96.,  64.,  77.,\n",
       "        73.,  40.,  38.,  83.,  16.,  51.,  25.,  58.,  53.,  62.,   7.,\n",
       "        34.,  24.,  32.,  48.,   5.,  85.,  65.,  68.,  22.,  37.,   0.,\n",
       "        81.,  59.,  44.,  98.,  84.,  12.,  74.,  17.,   6.,  99.,  10.,\n",
       "        76.,  nan, 100.])"
      ]
     },
     "execution_count": 88,
     "metadata": {},
     "output_type": "execute_result"
    }
   ],
   "source": [
    "column = 'Rotten Tomatoes  critics'\n",
    "\n",
    "df = df[df[column] != '-']\n",
    "df[column].dropna(inplace=True)\n",
    "\n",
    "col = df.columns.get_loc(column)\n",
    "df[column] = pd.to_numeric(df[column])\n",
    "\n",
    "df[column].unique()"
   ]
  },
  {
   "cell_type": "code",
   "execution_count": 89,
   "id": "d3737429",
   "metadata": {},
   "outputs": [
    {
     "data": {
      "text/plain": [
       "array([ 51,  76,  53,  56,  29,  39,  54,  59,  64,  69,  13,  62,  33,\n",
       "        75,  17,  37,  45,  35,  19,  77,  81,  47,  28,  46,  65,  73,\n",
       "        85,  25,  61,  82,  48,  42,  91,  50,  27,  96,  44,  36,  49,\n",
       "        58,  74,  83,  67,  32,  80,  92,  41,  63,  78,  94,  84,  86,\n",
       "        79,  70,  31,  34,  40,  71,  43,  55,  57,  24,  26,  66,  30,\n",
       "        72,  52,   9,  60,  68,  15,  20,  88,  38,  23,  21,  95,  22,\n",
       "        18,  90,  89,  87,  97,  11, 100,  12,  16,  93,  99,  14],\n",
       "      dtype=int64)"
      ]
     },
     "execution_count": 89,
     "metadata": {},
     "output_type": "execute_result"
    }
   ],
   "source": [
    "column = 'Metacritic  critics'\n",
    "\n",
    "df = df[df[column] != '-']\n",
    "df[column].dropna(inplace=True)\n",
    "\n",
    "col = df.columns.get_loc(column)\n",
    "df[column] = pd.to_numeric(df[column])\n",
    "\n",
    "df[column].unique()"
   ]
  }
 ],
 "metadata": {
  "kernelspec": {
   "display_name": "Python 3",
   "language": "python",
   "name": "python3"
  },
  "language_info": {
   "codemirror_mode": {
    "name": "ipython",
    "version": 3
   },
   "file_extension": ".py",
   "mimetype": "text/x-python",
   "name": "python",
   "nbconvert_exporter": "python",
   "pygments_lexer": "ipython3",
   "version": "3.12.1"
  }
 },
 "nbformat": 4,
 "nbformat_minor": 5
}
